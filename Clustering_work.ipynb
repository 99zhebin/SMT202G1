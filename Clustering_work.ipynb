{
 "cells": [
  {
   "cell_type": "code",
   "execution_count": 1,
   "metadata": {},
   "outputs": [],
   "source": [
    "import pandas as pd\n",
    "import numpy as np\n",
    "import matplotlib.pyplot as plt\n",
    "import seaborn as sns\n",
    "\n",
    "#Visualization libraries\n",
    "import plotly.express as px\n",
    "from matplotlib import pyplot as plt"
   ]
  },
  {
   "cell_type": "code",
   "execution_count": 2,
   "metadata": {},
   "outputs": [],
   "source": [
    "df= pd.read_csv('Masterfile.csv', sep = ',')"
   ]
  },
  {
   "cell_type": "code",
   "execution_count": 3,
   "metadata": {},
   "outputs": [
    {
     "data": {
      "text/html": [
       "<div>\n",
       "<style scoped>\n",
       "    .dataframe tbody tr th:only-of-type {\n",
       "        vertical-align: middle;\n",
       "    }\n",
       "\n",
       "    .dataframe tbody tr th {\n",
       "        vertical-align: top;\n",
       "    }\n",
       "\n",
       "    .dataframe thead th {\n",
       "        text-align: right;\n",
       "    }\n",
       "</style>\n",
       "<table border=\"1\" class=\"dataframe\">\n",
       "  <thead>\n",
       "    <tr style=\"text-align: right;\">\n",
       "      <th></th>\n",
       "      <th>How comfortable would you be in having vaping related conversations with your parents? - From 1 - Not Comfortable at all, to 5 - Very Comfortable</th>\n",
       "      <th>Rate the following levels regarding your workplace - Job Satisfaction</th>\n",
       "      <th>Rate the following levels regarding your workplace - Happiness to come into work</th>\n",
       "      <th>Rate the following levels regarding your workplace - Workload</th>\n",
       "      <th>Rate the following levels regarding your workplace - Anxiety Level regarding work</th>\n",
       "      <th>Rate the following levels regarding your workplace - Toxicity of work environment</th>\n",
       "      <th>How many colleagues do you know vape in your workplace?</th>\n",
       "    </tr>\n",
       "  </thead>\n",
       "  <tbody>\n",
       "    <tr>\n",
       "      <th>count</th>\n",
       "      <td>75.000000</td>\n",
       "      <td>75.000000</td>\n",
       "      <td>75.000000</td>\n",
       "      <td>75.000000</td>\n",
       "      <td>75.000000</td>\n",
       "      <td>75.000000</td>\n",
       "      <td>75.000000</td>\n",
       "    </tr>\n",
       "    <tr>\n",
       "      <th>mean</th>\n",
       "      <td>3.093333</td>\n",
       "      <td>3.586667</td>\n",
       "      <td>3.400000</td>\n",
       "      <td>3.826667</td>\n",
       "      <td>3.186667</td>\n",
       "      <td>2.173333</td>\n",
       "      <td>1.826667</td>\n",
       "    </tr>\n",
       "    <tr>\n",
       "      <th>std</th>\n",
       "      <td>1.552446</td>\n",
       "      <td>0.973893</td>\n",
       "      <td>1.013423</td>\n",
       "      <td>0.977771</td>\n",
       "      <td>1.193375</td>\n",
       "      <td>1.057449</td>\n",
       "      <td>3.297720</td>\n",
       "    </tr>\n",
       "    <tr>\n",
       "      <th>min</th>\n",
       "      <td>1.000000</td>\n",
       "      <td>1.000000</td>\n",
       "      <td>1.000000</td>\n",
       "      <td>1.000000</td>\n",
       "      <td>1.000000</td>\n",
       "      <td>1.000000</td>\n",
       "      <td>0.000000</td>\n",
       "    </tr>\n",
       "    <tr>\n",
       "      <th>25%</th>\n",
       "      <td>2.000000</td>\n",
       "      <td>3.000000</td>\n",
       "      <td>3.000000</td>\n",
       "      <td>3.000000</td>\n",
       "      <td>2.000000</td>\n",
       "      <td>1.000000</td>\n",
       "      <td>0.000000</td>\n",
       "    </tr>\n",
       "    <tr>\n",
       "      <th>50%</th>\n",
       "      <td>3.000000</td>\n",
       "      <td>4.000000</td>\n",
       "      <td>4.000000</td>\n",
       "      <td>4.000000</td>\n",
       "      <td>3.000000</td>\n",
       "      <td>2.000000</td>\n",
       "      <td>1.000000</td>\n",
       "    </tr>\n",
       "    <tr>\n",
       "      <th>75%</th>\n",
       "      <td>5.000000</td>\n",
       "      <td>4.000000</td>\n",
       "      <td>4.000000</td>\n",
       "      <td>5.000000</td>\n",
       "      <td>4.000000</td>\n",
       "      <td>3.000000</td>\n",
       "      <td>2.500000</td>\n",
       "    </tr>\n",
       "    <tr>\n",
       "      <th>max</th>\n",
       "      <td>5.000000</td>\n",
       "      <td>5.000000</td>\n",
       "      <td>5.000000</td>\n",
       "      <td>5.000000</td>\n",
       "      <td>5.000000</td>\n",
       "      <td>5.000000</td>\n",
       "      <td>20.000000</td>\n",
       "    </tr>\n",
       "  </tbody>\n",
       "</table>\n",
       "</div>"
      ],
      "text/plain": [
       "       How comfortable would you be in having vaping related conversations with your parents? - From 1 - Not Comfortable at all, to 5 - Very Comfortable  \\\n",
       "count                                          75.000000                                                                                                   \n",
       "mean                                            3.093333                                                                                                   \n",
       "std                                             1.552446                                                                                                   \n",
       "min                                             1.000000                                                                                                   \n",
       "25%                                             2.000000                                                                                                   \n",
       "50%                                             3.000000                                                                                                   \n",
       "75%                                             5.000000                                                                                                   \n",
       "max                                             5.000000                                                                                                   \n",
       "\n",
       "       Rate the following levels regarding your workplace - Job Satisfaction  \\\n",
       "count                                          75.000000                       \n",
       "mean                                            3.586667                       \n",
       "std                                             0.973893                       \n",
       "min                                             1.000000                       \n",
       "25%                                             3.000000                       \n",
       "50%                                             4.000000                       \n",
       "75%                                             4.000000                       \n",
       "max                                             5.000000                       \n",
       "\n",
       "       Rate the following levels regarding your workplace - Happiness to come into work  \\\n",
       "count                                          75.000000                                  \n",
       "mean                                            3.400000                                  \n",
       "std                                             1.013423                                  \n",
       "min                                             1.000000                                  \n",
       "25%                                             3.000000                                  \n",
       "50%                                             4.000000                                  \n",
       "75%                                             4.000000                                  \n",
       "max                                             5.000000                                  \n",
       "\n",
       "       Rate the following levels regarding your workplace - Workload  \\\n",
       "count                                          75.000000               \n",
       "mean                                            3.826667               \n",
       "std                                             0.977771               \n",
       "min                                             1.000000               \n",
       "25%                                             3.000000               \n",
       "50%                                             4.000000               \n",
       "75%                                             5.000000               \n",
       "max                                             5.000000               \n",
       "\n",
       "       Rate the following levels regarding your workplace - Anxiety Level regarding work  \\\n",
       "count                                          75.000000                                   \n",
       "mean                                            3.186667                                   \n",
       "std                                             1.193375                                   \n",
       "min                                             1.000000                                   \n",
       "25%                                             2.000000                                   \n",
       "50%                                             3.000000                                   \n",
       "75%                                             4.000000                                   \n",
       "max                                             5.000000                                   \n",
       "\n",
       "       Rate the following levels regarding your workplace - Toxicity of work environment  \\\n",
       "count                                          75.000000                                   \n",
       "mean                                            2.173333                                   \n",
       "std                                             1.057449                                   \n",
       "min                                             1.000000                                   \n",
       "25%                                             1.000000                                   \n",
       "50%                                             2.000000                                   \n",
       "75%                                             3.000000                                   \n",
       "max                                             5.000000                                   \n",
       "\n",
       "       How many colleagues do you know vape in your workplace?  \n",
       "count                                          75.000000        \n",
       "mean                                            1.826667        \n",
       "std                                             3.297720        \n",
       "min                                             0.000000        \n",
       "25%                                             0.000000        \n",
       "50%                                             1.000000        \n",
       "75%                                             2.500000        \n",
       "max                                            20.000000        "
      ]
     },
     "execution_count": 3,
     "metadata": {},
     "output_type": "execute_result"
    }
   ],
   "source": [
    "df.describe()"
   ]
  },
  {
   "cell_type": "code",
   "execution_count": 4,
   "metadata": {},
   "outputs": [],
   "source": [
    "df.drop('Recorded Date', inplace=True, axis=1)\n",
    "df.drop('Response ID', inplace=True, axis=1)\n"
   ]
  },
  {
   "cell_type": "code",
   "execution_count": 5,
   "metadata": {},
   "outputs": [
    {
     "name": "stdout",
     "output_type": "stream",
     "text": [
      "<class 'pandas.core.frame.DataFrame'>\n",
      "RangeIndex: 75 entries, 0 to 74\n",
      "Data columns (total 53 columns):\n",
      " #   Column                                                                                                                                             Non-Null Count  Dtype \n",
      "---  ------                                                                                                                                             --------------  ----- \n",
      " 0   Age Range                                                                                                                                          75 non-null     object\n",
      " 1   Sex                                                                                                                                                75 non-null     object\n",
      " 2   Marital Status                                                                                                                                     75 non-null     object\n",
      " 3   Race/Ethnicity                                                                                                                                     75 non-null     object\n",
      " 4   Highest Education Qualification                                                                                                                    75 non-null     object\n",
      " 5   Industry Sector                                                                                                                                    75 non-null     object\n",
      " 6   Type of Workplace                                                                                                                                  75 non-null     object\n",
      " 7   Type of Job                                                                                                                                        75 non-null     object\n",
      " 8   When did you join the workplace?                                                                                                                   75 non-null     object\n",
      " 9   How long have you worked in your current job?                                                                                                      75 non-null     object\n",
      " 10  Have you vaped before?                                                                                                                             75 non-null     object\n",
      " 11  What is the frequency of your vape usage?                                                                                                          75 non-null     object\n",
      " 12  How long have you been vaping for?                                                                                                                 75 non-null     object\n",
      " 13  Why did you start vaping despite its illegality? - Selected Choice                                                                                 75 non-null     object\n",
      " 14  Why did you start vaping despite its illegality? - Others - Text                                                                                   75 non-null     object\n",
      " 15  Why did you continue vaping after trying it? - Selected Choice                                                                                     75 non-null     object\n",
      " 16  Why did you continue vaping after trying it? - Others - Text                                                                                       75 non-null     object\n",
      " 17  Do you feel vaping is healthier than smoking? If yes, why? - Selected Choice                                                                       75 non-null     object\n",
      " 18  Do you feel vaping is healthier than smoking? If yes, why? - Yes - Text                                                                            75 non-null     object\n",
      " 19  Do you think 2nd Hand Vape is healthier than 2nd Hand Smoke? If yes, why? - Selected Choice                                                        75 non-null     object\n",
      " 20  Do you think 2nd Hand Vape is healthier than 2nd Hand Smoke? If yes, why? - Yes - Text                                                             75 non-null     object\n",
      " 21  Do your Parents Smoke/Vape?                                                                                                                        75 non-null     object\n",
      " 22  How comfortable would you be in having vaping related conversations with your parents? - From 1 - Not Comfortable at all, to 5 - Very Comfortable  75 non-null     int64 \n",
      " 23  Do your parents know about your vaping habits?                                                                                                     75 non-null     object\n",
      " 24  Do they approve of it?                                                                                                                             75 non-null     object\n",
      " 25  Do you know any close family members/friends that have smoking/vaping related illnesses?                                                           75 non-null     object\n",
      " 26  Rate the following levels regarding your workplace - Job Satisfaction                                                                              75 non-null     int64 \n",
      " 27  Rate the following levels regarding your workplace - Happiness to come into work                                                                   75 non-null     int64 \n",
      " 28  Rate the following levels regarding your workplace - Workload                                                                                      75 non-null     int64 \n",
      " 29  Rate the following levels regarding your workplace - Anxiety Level regarding work                                                                  75 non-null     int64 \n",
      " 30  Rate the following levels regarding your workplace - Toxicity of work environment                                                                  75 non-null     int64 \n",
      " 31  How do you cope with work-place stress and anxiety?                                                                                                75 non-null     object\n",
      " 32  How many colleagues do you know vape in your workplace?                                                                                            75 non-null     int64 \n",
      " 33  What is the attitude towards vaping in your work setting? - Selected Choice                                                                        75 non-null     object\n",
      " 34  What is the attitude towards vaping in your work setting? - Others - Text                                                                          75 non-null     object\n",
      " 35  If you were offered to vape during a client meeting by your boss or client, would you be pressured to accept? \r\n",
      "why? - Selected Choice             75 non-null     object\n",
      " 36  If you were offered to vape during a client meeting by your boss or client, would you be pressured to accept? \r\n",
      "why? - Yes - Text                  75 non-null     object\n",
      " 37  If you were offered to vape during a client meeting by your boss or client, would you be pressured to accept? \r\n",
      "why? - No - Text                   75 non-null     object\n",
      " 38  If you were offered to vape by your colleague during social situations, would you accept? (E.g during team gatherings) \r\n",
      " why? - Selected Choice   75 non-null     object\n",
      " 39  If you were offered to vape by your colleague during social situations, would you accept? (E.g during team gatherings) \r\n",
      " why? - Yes - Text        75 non-null     object\n",
      " 40  If you were offered to vape by your colleague during social situations, would you accept? (E.g during team gatherings) \r\n",
      " why? - No - Text         75 non-null     object\n",
      " 41  Punishment for vaping (1st time)                                                                                                                   75 non-null     object\n",
      " 42  It is illegal to upload a video of you vaping, why?                                                                                                75 non-null     object\n",
      " 43  Do you think the law is too lenient?                                                                                                               75 non-null     object\n",
      " 44  Have you attempted to quit before?                                                                                                                 75 non-null     object\n",
      " 45  What were your plans to quit? (What actions did you take to quit vaping? How long did you take to quit/planned to quit?)                           75 non-null     object\n",
      " 46  Were you successful?                                                                                                                               75 non-null     object\n",
      " 47  Why would you say you were unsuccessful?                                                                                                           75 non-null     object\n",
      " 48  What were the reasons why you wanted to quit?                                                                                                      75 non-null     object\n",
      " 49  What is stopping you from quitting?                                                                                                                75 non-null     object\n",
      " 50  What are some resources that you think would help you quit?                                                                                        75 non-null     object\n",
      " 51  Why do you think people do not quit vaping?                                                                                                        75 non-null     object\n",
      " 52  What are some resources that you think would help others quit?                                                                                     75 non-null     object\n",
      "dtypes: int64(7), object(46)\n",
      "memory usage: 31.2+ KB\n"
     ]
    }
   ],
   "source": [
    "df = df.fillna(\"NIL\")\n",
    "df.info()"
   ]
  },
  {
   "cell_type": "code",
   "execution_count": 6,
   "metadata": {},
   "outputs": [
    {
     "data": {
      "text/plain": [
       "Index(['Age Range', 'Sex', 'Marital Status', 'Race/Ethnicity',\n",
       "       'Highest Education Qualification', 'Industry Sector',\n",
       "       'Type of Workplace', 'Type of Job', 'When did you join the workplace?',\n",
       "       'How long have you worked in your current job?',\n",
       "       'Have you vaped before?', 'What is the frequency of your vape usage?',\n",
       "       'How long have you been vaping for?',\n",
       "       'Why did you start vaping despite its illegality? - Selected Choice',\n",
       "       'Why did you start vaping despite its illegality? - Others - Text',\n",
       "       'Why did you continue vaping after trying it? - Selected Choice',\n",
       "       'Why did you continue vaping after trying it? - Others - Text',\n",
       "       'Do you feel vaping is healthier than smoking? If yes, why? - Selected Choice',\n",
       "       'Do you feel vaping is healthier than smoking? If yes, why? - Yes - Text',\n",
       "       'Do you think 2nd Hand Vape is healthier than 2nd Hand Smoke? If yes, why? - Selected Choice',\n",
       "       'Do you think 2nd Hand Vape is healthier than 2nd Hand Smoke? If yes, why? - Yes - Text',\n",
       "       'Do your Parents Smoke/Vape?',\n",
       "       'How comfortable would you be in having vaping related conversations with your parents? - From 1 - Not Comfortable at all, to 5 - Very Comfortable',\n",
       "       'Do your parents know about your vaping habits?',\n",
       "       'Do they approve of it?',\n",
       "       'Do you know any close family members/friends that have smoking/vaping related illnesses?',\n",
       "       'Rate the following levels regarding your workplace - Job Satisfaction',\n",
       "       'Rate the following levels regarding your workplace - Happiness to come into work',\n",
       "       'Rate the following levels regarding your workplace - Workload',\n",
       "       'Rate the following levels regarding your workplace - Anxiety Level regarding work',\n",
       "       'Rate the following levels regarding your workplace - Toxicity of work environment',\n",
       "       'How do you cope with work-place stress and anxiety?',\n",
       "       'How many colleagues do you know vape in your workplace?',\n",
       "       'What is the attitude towards vaping in your work setting? - Selected Choice',\n",
       "       'What is the attitude towards vaping in your work setting? - Others - Text',\n",
       "       'If you were offered to vape during a client meeting by your boss or client, would you be pressured to accept? \\r\\nwhy? - Selected Choice',\n",
       "       'If you were offered to vape during a client meeting by your boss or client, would you be pressured to accept? \\r\\nwhy? - Yes - Text',\n",
       "       'If you were offered to vape during a client meeting by your boss or client, would you be pressured to accept? \\r\\nwhy? - No - Text',\n",
       "       'If you were offered to vape by your colleague during social situations, would you accept? (E.g during team gatherings) \\r\\n why? - Selected Choice',\n",
       "       'If you were offered to vape by your colleague during social situations, would you accept? (E.g during team gatherings) \\r\\n why? - Yes - Text',\n",
       "       'If you were offered to vape by your colleague during social situations, would you accept? (E.g during team gatherings) \\r\\n why? - No - Text',\n",
       "       'Punishment for vaping (1st time)',\n",
       "       'It is illegal to upload a video of you vaping, why?',\n",
       "       'Do you think the law is too lenient?',\n",
       "       'Have you attempted to quit before?',\n",
       "       'What were your plans to quit? (What actions did you take to quit vaping? How long did you take to quit/planned to quit?)',\n",
       "       'Were you successful?', 'Why would you say you were unsuccessful?',\n",
       "       'What were the reasons why you wanted to quit?',\n",
       "       'What is stopping you from quitting?',\n",
       "       'What are some resources that you think would help you quit?',\n",
       "       'Why do you think people do not quit vaping?',\n",
       "       'What are some resources that you think would help others quit?'],\n",
       "      dtype='object')"
      ]
     },
     "execution_count": 6,
     "metadata": {},
     "output_type": "execute_result"
    }
   ],
   "source": [
    "df.columns"
   ]
  },
  {
   "cell_type": "markdown",
   "metadata": {},
   "source": [
    "## Clustering by the work background (hard clustering)"
   ]
  },
  {
   "cell_type": "code",
   "execution_count": 7,
   "metadata": {},
   "outputs": [],
   "source": [
    "\n",
    "workdf = df[[\n",
    "    'Type of Workplace',\n",
    "     'Type of Job',\n",
    "#     'When did you join the workplace?',\n",
    "# 'How long have you worked in your current job?',\n",
    "'Rate the following levels regarding your workplace - Job Satisfaction',\n",
    "      'Rate the following levels regarding your workplace - Happiness to come into work',\n",
    "      'Rate the following levels regarding your workplace - Workload',\n",
    "      'Rate the following levels regarding your workplace - Anxiety Level regarding work',\n",
    "      'Rate the following levels regarding your workplace - Toxicity of work environment',\n",
    "    'How many colleagues do you know vape in your workplace?',\n",
    "       'What is the attitude towards vaping in your work setting? - Selected Choice',\n",
    "#     'If you were offered to vape during a client meeting by your boss or client, would you be pressured to accept? \\r\\nwhy? - Selected Choice',\n",
    "#     'If you were offered to vape by your colleague during social situations, would you accept? (E.g during team gatherings) \\r\\n why? - Selected Choice'\n",
    " ]]\n",
    "\n",
    "     \n",
    "\n",
    "#'Age Range', 'Sex', 'Marital Status', 'Race/Ethnicity',\n",
    "#'Highest Education Qualification', 'Industry Sector',\n",
    "#'Type of Workplace', 'Type of Job', 'When did you join the workplace?',\n",
    "#'How long have you worked in your current job?',\n",
    "#'Rate the following levels regarding your workplace - Job Satisfaction',\n",
    "#      'Rate the following levels regarding your workplace - Happiness to come into work',\n",
    "#      'Rate the following levels regarding your workplace - Workload',\n",
    "#      'Rate the following levels regarding your workplace - Anxiety Level regarding work',\n",
    "#      'Rate the following levels regarding your workplace - Toxicity of work environment',"
   ]
  },
  {
   "cell_type": "code",
   "execution_count": 56,
   "metadata": {},
   "outputs": [
    {
     "name": "stdout",
     "output_type": "stream",
     "text": [
      "<class 'pandas.core.frame.DataFrame'>\n",
      "RangeIndex: 75 entries, 0 to 74\n",
      "Data columns (total 7 columns):\n",
      " #   Column                                                                             Non-Null Count  Dtype \n",
      "---  ------                                                                             --------------  ----- \n",
      " 0   When did you join the workplace?                                                   75 non-null     object\n",
      " 1   Rate the following levels regarding your workplace - Job Satisfaction              75 non-null     int64 \n",
      " 2   Rate the following levels regarding your workplace - Happiness to come into work   75 non-null     int64 \n",
      " 3   Rate the following levels regarding your workplace - Workload                      75 non-null     int64 \n",
      " 4   Rate the following levels regarding your workplace - Anxiety Level regarding work  75 non-null     int64 \n",
      " 5   Rate the following levels regarding your workplace - Toxicity of work environment  75 non-null     int64 \n",
      " 6   How many colleagues do you know vape in your workplace?                            75 non-null     int64 \n",
      "dtypes: int64(6), object(1)\n",
      "memory usage: 4.2+ KB\n"
     ]
    }
   ],
   "source": [
    "workdf.info()"
   ]
  },
  {
   "cell_type": "code",
   "execution_count": 57,
   "metadata": {},
   "outputs": [],
   "source": [
    "one_hot_encoded_data = pd.get_dummies(workdf, columns = [\n",
    "    # 'Age Range', 'Sex', 'Marital Status', 'Race/Ethnicity', 'Highest Education Qualification',\n",
    "#     'Type of Workplace', \n",
    "    # 'Type of Job',\n",
    "    'When did you join the workplace?',\n",
    "#     'How long have you worked in your current job?',\n",
    "#     'How many colleagues do you know vape in your workplace?',\n",
    "#        'What is the attitude towards vaping in your work setting? - Selected Choice',\n",
    "#     'If you were offered to vape during a client meeting by your boss or client, would you be pressured to accept? \\r\\nwhy? - Selected Choice',\n",
    "#     'If you were offered to vape by your colleague during social situations, would you accept? (E.g during team gatherings) \\r\\n why? - Selected Choice'\n",
    "])\n",
    "workdf_aggdata = one_hot_encoded_data.copy()"
   ]
  },
  {
   "cell_type": "code",
   "execution_count": 58,
   "metadata": {},
   "outputs": [],
   "source": [
    "import scipy.cluster.hierarchy as shc\n",
    "from scipy.cluster.hierarchy import dendrogram, linkage\n",
    "from sklearn.preprocessing import MinMaxScaler\n",
    "from sklearn.cluster import AgglomerativeClustering"
   ]
  },
  {
   "cell_type": "code",
   "execution_count": 59,
   "metadata": {},
   "outputs": [
    {
     "data": {
      "text/html": [
       "<div>\n",
       "<style scoped>\n",
       "    .dataframe tbody tr th:only-of-type {\n",
       "        vertical-align: middle;\n",
       "    }\n",
       "\n",
       "    .dataframe tbody tr th {\n",
       "        vertical-align: top;\n",
       "    }\n",
       "\n",
       "    .dataframe thead th {\n",
       "        text-align: right;\n",
       "    }\n",
       "</style>\n",
       "<table border=\"1\" class=\"dataframe\">\n",
       "  <thead>\n",
       "    <tr style=\"text-align: right;\">\n",
       "      <th></th>\n",
       "      <th>Rate the following levels regarding your workplace - Job Satisfaction</th>\n",
       "      <th>Rate the following levels regarding your workplace - Happiness to come into work</th>\n",
       "      <th>Rate the following levels regarding your workplace - Workload</th>\n",
       "      <th>Rate the following levels regarding your workplace - Anxiety Level regarding work</th>\n",
       "      <th>Rate the following levels regarding your workplace - Toxicity of work environment</th>\n",
       "      <th>How many colleagues do you know vape in your workplace?</th>\n",
       "      <th>When did you join the workplace?_After Covid (After April 2022)</th>\n",
       "      <th>When did you join the workplace?_During Covid</th>\n",
       "      <th>When did you join the workplace?_Pre-Covid (Before March 2020)</th>\n",
       "    </tr>\n",
       "  </thead>\n",
       "  <tbody>\n",
       "    <tr>\n",
       "      <th>0</th>\n",
       "      <td>0.75</td>\n",
       "      <td>0.50</td>\n",
       "      <td>0.50</td>\n",
       "      <td>0.00</td>\n",
       "      <td>0.00</td>\n",
       "      <td>0.05</td>\n",
       "      <td>0.0</td>\n",
       "      <td>0.0</td>\n",
       "      <td>1.0</td>\n",
       "    </tr>\n",
       "    <tr>\n",
       "      <th>1</th>\n",
       "      <td>0.75</td>\n",
       "      <td>0.75</td>\n",
       "      <td>0.75</td>\n",
       "      <td>0.75</td>\n",
       "      <td>0.50</td>\n",
       "      <td>0.00</td>\n",
       "      <td>0.0</td>\n",
       "      <td>0.0</td>\n",
       "      <td>1.0</td>\n",
       "    </tr>\n",
       "    <tr>\n",
       "      <th>2</th>\n",
       "      <td>0.00</td>\n",
       "      <td>0.00</td>\n",
       "      <td>1.00</td>\n",
       "      <td>0.75</td>\n",
       "      <td>0.50</td>\n",
       "      <td>0.00</td>\n",
       "      <td>0.0</td>\n",
       "      <td>1.0</td>\n",
       "      <td>0.0</td>\n",
       "    </tr>\n",
       "    <tr>\n",
       "      <th>3</th>\n",
       "      <td>0.75</td>\n",
       "      <td>0.75</td>\n",
       "      <td>0.75</td>\n",
       "      <td>0.50</td>\n",
       "      <td>0.25</td>\n",
       "      <td>0.15</td>\n",
       "      <td>0.0</td>\n",
       "      <td>0.0</td>\n",
       "      <td>1.0</td>\n",
       "    </tr>\n",
       "    <tr>\n",
       "      <th>4</th>\n",
       "      <td>0.50</td>\n",
       "      <td>0.50</td>\n",
       "      <td>0.75</td>\n",
       "      <td>0.25</td>\n",
       "      <td>0.25</td>\n",
       "      <td>0.10</td>\n",
       "      <td>1.0</td>\n",
       "      <td>0.0</td>\n",
       "      <td>0.0</td>\n",
       "    </tr>\n",
       "    <tr>\n",
       "      <th>...</th>\n",
       "      <td>...</td>\n",
       "      <td>...</td>\n",
       "      <td>...</td>\n",
       "      <td>...</td>\n",
       "      <td>...</td>\n",
       "      <td>...</td>\n",
       "      <td>...</td>\n",
       "      <td>...</td>\n",
       "      <td>...</td>\n",
       "    </tr>\n",
       "    <tr>\n",
       "      <th>70</th>\n",
       "      <td>0.75</td>\n",
       "      <td>0.75</td>\n",
       "      <td>0.50</td>\n",
       "      <td>0.25</td>\n",
       "      <td>1.00</td>\n",
       "      <td>0.50</td>\n",
       "      <td>0.0</td>\n",
       "      <td>0.0</td>\n",
       "      <td>1.0</td>\n",
       "    </tr>\n",
       "    <tr>\n",
       "      <th>71</th>\n",
       "      <td>0.50</td>\n",
       "      <td>0.50</td>\n",
       "      <td>0.25</td>\n",
       "      <td>0.25</td>\n",
       "      <td>0.25</td>\n",
       "      <td>0.05</td>\n",
       "      <td>0.0</td>\n",
       "      <td>1.0</td>\n",
       "      <td>0.0</td>\n",
       "    </tr>\n",
       "    <tr>\n",
       "      <th>72</th>\n",
       "      <td>0.25</td>\n",
       "      <td>0.00</td>\n",
       "      <td>1.00</td>\n",
       "      <td>0.75</td>\n",
       "      <td>0.50</td>\n",
       "      <td>0.15</td>\n",
       "      <td>0.0</td>\n",
       "      <td>1.0</td>\n",
       "      <td>0.0</td>\n",
       "    </tr>\n",
       "    <tr>\n",
       "      <th>73</th>\n",
       "      <td>0.75</td>\n",
       "      <td>0.75</td>\n",
       "      <td>1.00</td>\n",
       "      <td>1.00</td>\n",
       "      <td>0.25</td>\n",
       "      <td>0.05</td>\n",
       "      <td>0.0</td>\n",
       "      <td>0.0</td>\n",
       "      <td>1.0</td>\n",
       "    </tr>\n",
       "    <tr>\n",
       "      <th>74</th>\n",
       "      <td>0.50</td>\n",
       "      <td>0.50</td>\n",
       "      <td>0.50</td>\n",
       "      <td>0.50</td>\n",
       "      <td>0.50</td>\n",
       "      <td>0.05</td>\n",
       "      <td>0.0</td>\n",
       "      <td>0.0</td>\n",
       "      <td>1.0</td>\n",
       "    </tr>\n",
       "  </tbody>\n",
       "</table>\n",
       "<p>75 rows × 9 columns</p>\n",
       "</div>"
      ],
      "text/plain": [
       "    Rate the following levels regarding your workplace - Job Satisfaction  \\\n",
       "0                                                0.75                       \n",
       "1                                                0.75                       \n",
       "2                                                0.00                       \n",
       "3                                                0.75                       \n",
       "4                                                0.50                       \n",
       "..                                                ...                       \n",
       "70                                               0.75                       \n",
       "71                                               0.50                       \n",
       "72                                               0.25                       \n",
       "73                                               0.75                       \n",
       "74                                               0.50                       \n",
       "\n",
       "    Rate the following levels regarding your workplace - Happiness to come into work  \\\n",
       "0                                                0.50                                  \n",
       "1                                                0.75                                  \n",
       "2                                                0.00                                  \n",
       "3                                                0.75                                  \n",
       "4                                                0.50                                  \n",
       "..                                                ...                                  \n",
       "70                                               0.75                                  \n",
       "71                                               0.50                                  \n",
       "72                                               0.00                                  \n",
       "73                                               0.75                                  \n",
       "74                                               0.50                                  \n",
       "\n",
       "    Rate the following levels regarding your workplace - Workload  \\\n",
       "0                                                0.50               \n",
       "1                                                0.75               \n",
       "2                                                1.00               \n",
       "3                                                0.75               \n",
       "4                                                0.75               \n",
       "..                                                ...               \n",
       "70                                               0.50               \n",
       "71                                               0.25               \n",
       "72                                               1.00               \n",
       "73                                               1.00               \n",
       "74                                               0.50               \n",
       "\n",
       "    Rate the following levels regarding your workplace - Anxiety Level regarding work  \\\n",
       "0                                                0.00                                   \n",
       "1                                                0.75                                   \n",
       "2                                                0.75                                   \n",
       "3                                                0.50                                   \n",
       "4                                                0.25                                   \n",
       "..                                                ...                                   \n",
       "70                                               0.25                                   \n",
       "71                                               0.25                                   \n",
       "72                                               0.75                                   \n",
       "73                                               1.00                                   \n",
       "74                                               0.50                                   \n",
       "\n",
       "    Rate the following levels regarding your workplace - Toxicity of work environment  \\\n",
       "0                                                0.00                                   \n",
       "1                                                0.50                                   \n",
       "2                                                0.50                                   \n",
       "3                                                0.25                                   \n",
       "4                                                0.25                                   \n",
       "..                                                ...                                   \n",
       "70                                               1.00                                   \n",
       "71                                               0.25                                   \n",
       "72                                               0.50                                   \n",
       "73                                               0.25                                   \n",
       "74                                               0.50                                   \n",
       "\n",
       "    How many colleagues do you know vape in your workplace?  \\\n",
       "0                                                0.05         \n",
       "1                                                0.00         \n",
       "2                                                0.00         \n",
       "3                                                0.15         \n",
       "4                                                0.10         \n",
       "..                                                ...         \n",
       "70                                               0.50         \n",
       "71                                               0.05         \n",
       "72                                               0.15         \n",
       "73                                               0.05         \n",
       "74                                               0.05         \n",
       "\n",
       "    When did you join the workplace?_After Covid (After April 2022)  \\\n",
       "0                                                 0.0                 \n",
       "1                                                 0.0                 \n",
       "2                                                 0.0                 \n",
       "3                                                 0.0                 \n",
       "4                                                 1.0                 \n",
       "..                                                ...                 \n",
       "70                                                0.0                 \n",
       "71                                                0.0                 \n",
       "72                                                0.0                 \n",
       "73                                                0.0                 \n",
       "74                                                0.0                 \n",
       "\n",
       "    When did you join the workplace?_During Covid  \\\n",
       "0                                             0.0   \n",
       "1                                             0.0   \n",
       "2                                             1.0   \n",
       "3                                             0.0   \n",
       "4                                             0.0   \n",
       "..                                            ...   \n",
       "70                                            0.0   \n",
       "71                                            1.0   \n",
       "72                                            1.0   \n",
       "73                                            0.0   \n",
       "74                                            0.0   \n",
       "\n",
       "    When did you join the workplace?_Pre-Covid (Before March 2020)  \n",
       "0                                                 1.0               \n",
       "1                                                 1.0               \n",
       "2                                                 0.0               \n",
       "3                                                 1.0               \n",
       "4                                                 0.0               \n",
       "..                                                ...               \n",
       "70                                                1.0               \n",
       "71                                                0.0               \n",
       "72                                                0.0               \n",
       "73                                                1.0               \n",
       "74                                                1.0               \n",
       "\n",
       "[75 rows x 9 columns]"
      ]
     },
     "execution_count": 59,
     "metadata": {},
     "output_type": "execute_result"
    }
   ],
   "source": [
    "scaler = MinMaxScaler()\n",
    "#normalise (Scale values) to 0 and 1\n",
    "workdf_aggdata_np = scaler.fit_transform(workdf_aggdata)\n",
    "workdf_aggdata_scaled = pd.DataFrame(workdf_aggdata_np, columns= workdf_aggdata.columns, index = workdf_aggdata.index)\n",
    "workdf_aggdata_scaled"
   ]
  },
  {
   "cell_type": "code",
   "execution_count": 60,
   "metadata": {},
   "outputs": [
    {
     "data": {
      "image/png": "[encoded data removed]",
      "text/plain": [
       "<Figure size 1440x504 with 1 Axes>"
      ]
     },
     "metadata": {
      "needs_background": "light"
     },
     "output_type": "display_data"
    }
   ],
   "source": [
    "plt.figure(figsize=(20, 7))  \n",
    "plt.title(\"Dendrograms\") \n",
    "#the height shows the distance\n",
    "plt.axhline(y=6, color='r', linestyle='--')\n",
    "\n",
    "#methods can be one of the following: 'single', 'complete', 'average', 'centroid', 'weighted', 'median', 'ward'\n",
    "dend = shc.dendrogram(shc.linkage(workdf_aggdata_scaled, method='ward'),labels=list(workdf_aggdata_scaled.index.values))\n"
   ]
  },
  {
   "cell_type": "code",
   "execution_count": 61,
   "metadata": {},
   "outputs": [
    {
     "data": {
      "text/html": [
       "<div>\n",
       "<style scoped>\n",
       "    .dataframe tbody tr th:only-of-type {\n",
       "        vertical-align: middle;\n",
       "    }\n",
       "\n",
       "    .dataframe tbody tr th {\n",
       "        vertical-align: top;\n",
       "    }\n",
       "\n",
       "    .dataframe thead th {\n",
       "        text-align: right;\n",
       "    }\n",
       "</style>\n",
       "<table border=\"1\" class=\"dataframe\">\n",
       "  <thead>\n",
       "    <tr style=\"text-align: right;\">\n",
       "      <th></th>\n",
       "      <th>Rate the following levels regarding your workplace - Job Satisfaction</th>\n",
       "      <th>Rate the following levels regarding your workplace - Happiness to come into work</th>\n",
       "      <th>Rate the following levels regarding your workplace - Workload</th>\n",
       "      <th>Rate the following levels regarding your workplace - Anxiety Level regarding work</th>\n",
       "      <th>Rate the following levels regarding your workplace - Toxicity of work environment</th>\n",
       "      <th>How many colleagues do you know vape in your workplace?</th>\n",
       "      <th>When did you join the workplace?_After Covid (After April 2022)</th>\n",
       "      <th>When did you join the workplace?_During Covid</th>\n",
       "      <th>When did you join the workplace?_Pre-Covid (Before March 2020)</th>\n",
       "      <th>cluster</th>\n",
       "    </tr>\n",
       "  </thead>\n",
       "  <tbody>\n",
       "    <tr>\n",
       "      <th>0</th>\n",
       "      <td>0.75</td>\n",
       "      <td>0.50</td>\n",
       "      <td>0.50</td>\n",
       "      <td>0.00</td>\n",
       "      <td>0.00</td>\n",
       "      <td>0.05</td>\n",
       "      <td>0.0</td>\n",
       "      <td>0.0</td>\n",
       "      <td>1.0</td>\n",
       "      <td>2</td>\n",
       "    </tr>\n",
       "    <tr>\n",
       "      <th>1</th>\n",
       "      <td>0.75</td>\n",
       "      <td>0.75</td>\n",
       "      <td>0.75</td>\n",
       "      <td>0.75</td>\n",
       "      <td>0.50</td>\n",
       "      <td>0.00</td>\n",
       "      <td>0.0</td>\n",
       "      <td>0.0</td>\n",
       "      <td>1.0</td>\n",
       "      <td>2</td>\n",
       "    </tr>\n",
       "    <tr>\n",
       "      <th>2</th>\n",
       "      <td>0.00</td>\n",
       "      <td>0.00</td>\n",
       "      <td>1.00</td>\n",
       "      <td>0.75</td>\n",
       "      <td>0.50</td>\n",
       "      <td>0.00</td>\n",
       "      <td>0.0</td>\n",
       "      <td>1.0</td>\n",
       "      <td>0.0</td>\n",
       "      <td>1</td>\n",
       "    </tr>\n",
       "    <tr>\n",
       "      <th>3</th>\n",
       "      <td>0.75</td>\n",
       "      <td>0.75</td>\n",
       "      <td>0.75</td>\n",
       "      <td>0.50</td>\n",
       "      <td>0.25</td>\n",
       "      <td>0.15</td>\n",
       "      <td>0.0</td>\n",
       "      <td>0.0</td>\n",
       "      <td>1.0</td>\n",
       "      <td>2</td>\n",
       "    </tr>\n",
       "    <tr>\n",
       "      <th>4</th>\n",
       "      <td>0.50</td>\n",
       "      <td>0.50</td>\n",
       "      <td>0.75</td>\n",
       "      <td>0.25</td>\n",
       "      <td>0.25</td>\n",
       "      <td>0.10</td>\n",
       "      <td>1.0</td>\n",
       "      <td>0.0</td>\n",
       "      <td>0.0</td>\n",
       "      <td>0</td>\n",
       "    </tr>\n",
       "    <tr>\n",
       "      <th>...</th>\n",
       "      <td>...</td>\n",
       "      <td>...</td>\n",
       "      <td>...</td>\n",
       "      <td>...</td>\n",
       "      <td>...</td>\n",
       "      <td>...</td>\n",
       "      <td>...</td>\n",
       "      <td>...</td>\n",
       "      <td>...</td>\n",
       "      <td>...</td>\n",
       "    </tr>\n",
       "    <tr>\n",
       "      <th>70</th>\n",
       "      <td>0.75</td>\n",
       "      <td>0.75</td>\n",
       "      <td>0.50</td>\n",
       "      <td>0.25</td>\n",
       "      <td>1.00</td>\n",
       "      <td>0.50</td>\n",
       "      <td>0.0</td>\n",
       "      <td>0.0</td>\n",
       "      <td>1.0</td>\n",
       "      <td>2</td>\n",
       "    </tr>\n",
       "    <tr>\n",
       "      <th>71</th>\n",
       "      <td>0.50</td>\n",
       "      <td>0.50</td>\n",
       "      <td>0.25</td>\n",
       "      <td>0.25</td>\n",
       "      <td>0.25</td>\n",
       "      <td>0.05</td>\n",
       "      <td>0.0</td>\n",
       "      <td>1.0</td>\n",
       "      <td>0.0</td>\n",
       "      <td>1</td>\n",
       "    </tr>\n",
       "    <tr>\n",
       "      <th>72</th>\n",
       "      <td>0.25</td>\n",
       "      <td>0.00</td>\n",
       "      <td>1.00</td>\n",
       "      <td>0.75</td>\n",
       "      <td>0.50</td>\n",
       "      <td>0.15</td>\n",
       "      <td>0.0</td>\n",
       "      <td>1.0</td>\n",
       "      <td>0.0</td>\n",
       "      <td>1</td>\n",
       "    </tr>\n",
       "    <tr>\n",
       "      <th>73</th>\n",
       "      <td>0.75</td>\n",
       "      <td>0.75</td>\n",
       "      <td>1.00</td>\n",
       "      <td>1.00</td>\n",
       "      <td>0.25</td>\n",
       "      <td>0.05</td>\n",
       "      <td>0.0</td>\n",
       "      <td>0.0</td>\n",
       "      <td>1.0</td>\n",
       "      <td>2</td>\n",
       "    </tr>\n",
       "    <tr>\n",
       "      <th>74</th>\n",
       "      <td>0.50</td>\n",
       "      <td>0.50</td>\n",
       "      <td>0.50</td>\n",
       "      <td>0.50</td>\n",
       "      <td>0.50</td>\n",
       "      <td>0.05</td>\n",
       "      <td>0.0</td>\n",
       "      <td>0.0</td>\n",
       "      <td>1.0</td>\n",
       "      <td>2</td>\n",
       "    </tr>\n",
       "  </tbody>\n",
       "</table>\n",
       "<p>75 rows × 10 columns</p>\n",
       "</div>"
      ],
      "text/plain": [
       "    Rate the following levels regarding your workplace - Job Satisfaction  \\\n",
       "0                                                0.75                       \n",
       "1                                                0.75                       \n",
       "2                                                0.00                       \n",
       "3                                                0.75                       \n",
       "4                                                0.50                       \n",
       "..                                                ...                       \n",
       "70                                               0.75                       \n",
       "71                                               0.50                       \n",
       "72                                               0.25                       \n",
       "73                                               0.75                       \n",
       "74                                               0.50                       \n",
       "\n",
       "    Rate the following levels regarding your workplace - Happiness to come into work  \\\n",
       "0                                                0.50                                  \n",
       "1                                                0.75                                  \n",
       "2                                                0.00                                  \n",
       "3                                                0.75                                  \n",
       "4                                                0.50                                  \n",
       "..                                                ...                                  \n",
       "70                                               0.75                                  \n",
       "71                                               0.50                                  \n",
       "72                                               0.00                                  \n",
       "73                                               0.75                                  \n",
       "74                                               0.50                                  \n",
       "\n",
       "    Rate the following levels regarding your workplace - Workload  \\\n",
       "0                                                0.50               \n",
       "1                                                0.75               \n",
       "2                                                1.00               \n",
       "3                                                0.75               \n",
       "4                                                0.75               \n",
       "..                                                ...               \n",
       "70                                               0.50               \n",
       "71                                               0.25               \n",
       "72                                               1.00               \n",
       "73                                               1.00               \n",
       "74                                               0.50               \n",
       "\n",
       "    Rate the following levels regarding your workplace - Anxiety Level regarding work  \\\n",
       "0                                                0.00                                   \n",
       "1                                                0.75                                   \n",
       "2                                                0.75                                   \n",
       "3                                                0.50                                   \n",
       "4                                                0.25                                   \n",
       "..                                                ...                                   \n",
       "70                                               0.25                                   \n",
       "71                                               0.25                                   \n",
       "72                                               0.75                                   \n",
       "73                                               1.00                                   \n",
       "74                                               0.50                                   \n",
       "\n",
       "    Rate the following levels regarding your workplace - Toxicity of work environment  \\\n",
       "0                                                0.00                                   \n",
       "1                                                0.50                                   \n",
       "2                                                0.50                                   \n",
       "3                                                0.25                                   \n",
       "4                                                0.25                                   \n",
       "..                                                ...                                   \n",
       "70                                               1.00                                   \n",
       "71                                               0.25                                   \n",
       "72                                               0.50                                   \n",
       "73                                               0.25                                   \n",
       "74                                               0.50                                   \n",
       "\n",
       "    How many colleagues do you know vape in your workplace?  \\\n",
       "0                                                0.05         \n",
       "1                                                0.00         \n",
       "2                                                0.00         \n",
       "3                                                0.15         \n",
       "4                                                0.10         \n",
       "..                                                ...         \n",
       "70                                               0.50         \n",
       "71                                               0.05         \n",
       "72                                               0.15         \n",
       "73                                               0.05         \n",
       "74                                               0.05         \n",
       "\n",
       "    When did you join the workplace?_After Covid (After April 2022)  \\\n",
       "0                                                 0.0                 \n",
       "1                                                 0.0                 \n",
       "2                                                 0.0                 \n",
       "3                                                 0.0                 \n",
       "4                                                 1.0                 \n",
       "..                                                ...                 \n",
       "70                                                0.0                 \n",
       "71                                                0.0                 \n",
       "72                                                0.0                 \n",
       "73                                                0.0                 \n",
       "74                                                0.0                 \n",
       "\n",
       "    When did you join the workplace?_During Covid  \\\n",
       "0                                             0.0   \n",
       "1                                             0.0   \n",
       "2                                             1.0   \n",
       "3                                             0.0   \n",
       "4                                             0.0   \n",
       "..                                            ...   \n",
       "70                                            0.0   \n",
       "71                                            1.0   \n",
       "72                                            1.0   \n",
       "73                                            0.0   \n",
       "74                                            0.0   \n",
       "\n",
       "    When did you join the workplace?_Pre-Covid (Before March 2020)  cluster  \n",
       "0                                                 1.0                     2  \n",
       "1                                                 1.0                     2  \n",
       "2                                                 0.0                     1  \n",
       "3                                                 1.0                     2  \n",
       "4                                                 0.0                     0  \n",
       "..                                                ...                   ...  \n",
       "70                                                1.0                     2  \n",
       "71                                                0.0                     1  \n",
       "72                                                0.0                     1  \n",
       "73                                                1.0                     2  \n",
       "74                                                1.0                     2  \n",
       "\n",
       "[75 rows x 10 columns]"
      ]
     },
     "execution_count": 61,
     "metadata": {},
     "output_type": "execute_result"
    }
   ],
   "source": [
    "workModel = AgglomerativeClustering(n_clusters=3, affinity='euclidean', linkage='ward')  \n",
    "cluster = workModel.fit_predict(workdf_aggdata_scaled)\n",
    "\n",
    "# fit model and predict clusters\n",
    "cluster = workModel.fit_predict(workdf_aggdata_scaled)\n",
    "workdf_aggdata_scaled['cluster'] = cluster\n",
    "workdf_aggdata_scaled"
   ]
  },
  {
   "cell_type": "code",
   "execution_count": 62,
   "metadata": {},
   "outputs": [],
   "source": [
    "workDecisiontree = workdf_aggdata_scaled.copy()"
   ]
  },
  {
   "cell_type": "code",
   "execution_count": 63,
   "metadata": {},
   "outputs": [
    {
     "data": {
      "application/vnd.plotly.v1+json": {
       "config": {
        "plotlyServerURL": "https://plot.ly"
       },
       "data": [
        {
         "hovertemplate": "cluster=0<br>value=%{r}<br>variable=%{theta}<extra></extra>",
         "legendgroup": "0",
         "line": {
          "color": "#636efa",
          "dash": "solid"
         },
         "marker": {
          "symbol": "circle"
         },
         "mode": "lines",
         "name": "0",
         "r": [
          0.6875,
          0.6484375,
          0.6875,
          0.515625,
          0.2890625,
          0.1015625,
          1,
          0,
          0,
          0.6875
         ],
         "showlegend": true,
         "subplot": "polar",
         "theta": [
          "Rate the following levels regarding your workplace - Job Satisfaction",
          "Rate the following levels regarding your workplace - Happiness to come into work",
          "Rate the following levels regarding your workplace - Workload",
          "Rate the following levels regarding your workplace - Anxiety Level regarding work",
          "Rate the following levels regarding your workplace - Toxicity of work environment",
          "How many colleagues do you know vape in your workplace?",
          "When did you join the workplace?_After Covid (After April 2022)",
          "When did you join the workplace?_During Covid",
          "When did you join the workplace?_Pre-Covid (Before March 2020)",
          "Rate the following levels regarding your workplace - Job Satisfaction"
         ],
         "type": "scatterpolar"
        },
        {
         "hovertemplate": "cluster=1<br>value=%{r}<br>variable=%{theta}<extra></extra>",
         "legendgroup": "1",
         "line": {
          "color": "#EF553B",
          "dash": "solid"
         },
         "marker": {
          "symbol": "circle"
         },
         "mode": "lines",
         "name": "1",
         "r": [
          0.5952380952380952,
          0.5476190476190477,
          0.7261904761904762,
          0.5357142857142857,
          0.2261904761904762,
          0.07857142857142858,
          0,
          1,
          0,
          0.5952380952380952
         ],
         "showlegend": true,
         "subplot": "polar",
         "theta": [
          "Rate the following levels regarding your workplace - Job Satisfaction",
          "Rate the following levels regarding your workplace - Happiness to come into work",
          "Rate the following levels regarding your workplace - Workload",
          "Rate the following levels regarding your workplace - Anxiety Level regarding work",
          "Rate the following levels regarding your workplace - Toxicity of work environment",
          "How many colleagues do you know vape in your workplace?",
          "When did you join the workplace?_After Covid (After April 2022)",
          "When did you join the workplace?_During Covid",
          "When did you join the workplace?_Pre-Covid (Before March 2020)",
          "Rate the following levels regarding your workplace - Job Satisfaction"
         ],
         "type": "scatterpolar"
        },
        {
         "hovertemplate": "cluster=2<br>value=%{r}<br>variable=%{theta}<extra></extra>",
         "legendgroup": "2",
         "line": {
          "color": "#00cc96",
          "dash": "solid"
         },
         "marker": {
          "symbol": "circle"
         },
         "mode": "lines",
         "name": "2",
         "r": [
          0.6363636363636364,
          0.5795454545454546,
          0.7159090909090909,
          0.6022727272727273,
          0.36363636363636365,
          0.08863636363636364,
          0,
          0,
          1,
          0.6363636363636364
         ],
         "showlegend": true,
         "subplot": "polar",
         "theta": [
          "Rate the following levels regarding your workplace - Job Satisfaction",
          "Rate the following levels regarding your workplace - Happiness to come into work",
          "Rate the following levels regarding your workplace - Workload",
          "Rate the following levels regarding your workplace - Anxiety Level regarding work",
          "Rate the following levels regarding your workplace - Toxicity of work environment",
          "How many colleagues do you know vape in your workplace?",
          "When did you join the workplace?_After Covid (After April 2022)",
          "When did you join the workplace?_During Covid",
          "When did you join the workplace?_Pre-Covid (Before March 2020)",
          "Rate the following levels regarding your workplace - Job Satisfaction"
         ],
         "type": "scatterpolar"
        }
       ],
       "layout": {
        "height": 800,
        "legend": {
         "title": {
          "text": "cluster"
         },
         "tracegroupgap": 0
        },
        "margin": {
         "t": 60
        },
        "polar": {
         "angularaxis": {
          "direction": "clockwise",
          "rotation": 90
         },
         "domain": {
          "x": [
           0,
           1
          ],
          "y": [
           0,
           1
          ]
         }
        },
        "template": {
         "data": {
          "bar": [
           {
            "error_x": {
             "color": "#2a3f5f"
            },
            "error_y": {
             "color": "#2a3f5f"
            },
            "marker": {
             "line": {
              "color": "#E5ECF6",
              "width": 0.5
             },
             "pattern": {
              "fillmode": "overlay",
              "size": 10,
              "solidity": 0.2
             }
            },
            "type": "bar"
           }
          ],
          "barpolar": [
           {
            "marker": {
             "line": {
              "color": "#E5ECF6",
              "width": 0.5
             },
             "pattern": {
              "fillmode": "overlay",
              "size": 10,
              "solidity": 0.2
             }
            },
            "type": "barpolar"
           }
          ],
          "carpet": [
           {
            "aaxis": {
             "endlinecolor": "#2a3f5f",
             "gridcolor": "white",
             "linecolor": "white",
             "minorgridcolor": "white",
             "startlinecolor": "#2a3f5f"
            },
            "baxis": {
             "endlinecolor": "#2a3f5f",
             "gridcolor": "white",
             "linecolor": "white",
             "minorgridcolor": "white",
             "startlinecolor": "#2a3f5f"
            },
            "type": "carpet"
           }
          ],
          "choropleth": [
           {
            "colorbar": {
             "outlinewidth": 0,
             "ticks": ""
            },
            "type": "choropleth"
           }
          ],
          "contour": [
           {
            "colorbar": {
             "outlinewidth": 0,
             "ticks": ""
            },
            "colorscale": [
             [
              0,
              "#0d0887"
             ],
             [
              0.1111111111111111,
              "#46039f"
             ],
             [
              0.2222222222222222,
              "#7201a8"
             ],
             [
              0.3333333333333333,
              "#9c179e"
             ],
             [
              0.4444444444444444,
              "#bd3786"
             ],
             [
              0.5555555555555556,
              "#d8576b"
             ],
             [
              0.6666666666666666,
              "#ed7953"
             ],
             [
              0.7777777777777778,
              "#fb9f3a"
             ],
             [
              0.8888888888888888,
              "#fdca26"
             ],
             [
              1,
              "#f0f921"
             ]
            ],
            "type": "contour"
           }
          ],
          "contourcarpet": [
           {
            "colorbar": {
             "outlinewidth": 0,
             "ticks": ""
            },
            "type": "contourcarpet"
           }
          ],
          "heatmap": [
           {
            "colorbar": {
             "outlinewidth": 0,
             "ticks": ""
            },
            "colorscale": [
             [
              0,
              "#0d0887"
             ],
             [
              0.1111111111111111,
              "#46039f"
             ],
             [
              0.2222222222222222,
              "#7201a8"
             ],
             [
              0.3333333333333333,
              "#9c179e"
             ],
             [
              0.4444444444444444,
              "#bd3786"
             ],
             [
              0.5555555555555556,
              "#d8576b"
             ],
             [
              0.6666666666666666,
              "#ed7953"
             ],
             [
              0.7777777777777778,
              "#fb9f3a"
             ],
             [
              0.8888888888888888,
              "#fdca26"
             ],
             [
              1,
              "#f0f921"
             ]
            ],
            "type": "heatmap"
           }
          ],
          "heatmapgl": [
           {
            "colorbar": {
             "outlinewidth": 0,
             "ticks": ""
            },
            "colorscale": [
             [
              0,
              "#0d0887"
             ],
             [
              0.1111111111111111,
              "#46039f"
             ],
             [
              0.2222222222222222,
              "#7201a8"
             ],
             [
              0.3333333333333333,
              "#9c179e"
             ],
             [
              0.4444444444444444,
              "#bd3786"
             ],
             [
              0.5555555555555556,
              "#d8576b"
             ],
             [
              0.6666666666666666,
              "#ed7953"
             ],
             [
              0.7777777777777778,
              "#fb9f3a"
             ],
             [
              0.8888888888888888,
              "#fdca26"
             ],
             [
              1,
              "#f0f921"
             ]
            ],
            "type": "heatmapgl"
           }
          ],
          "histogram": [
           {
            "marker": {
             "pattern": {
              "fillmode": "overlay",
              "size": 10,
              "solidity": 0.2
             }
            },
            "type": "histogram"
           }
          ],
          "histogram2d": [
           {
            "colorbar": {
             "outlinewidth": 0,
             "ticks": ""
            },
            "colorscale": [
             [
              0,
              "#0d0887"
             ],
             [
              0.1111111111111111,
              "#46039f"
             ],
             [
              0.2222222222222222,
              "#7201a8"
             ],
             [
              0.3333333333333333,
              "#9c179e"
             ],
             [
              0.4444444444444444,
              "#bd3786"
             ],
             [
              0.5555555555555556,
              "#d8576b"
             ],
             [
              0.6666666666666666,
              "#ed7953"
             ],
             [
              0.7777777777777778,
              "#fb9f3a"
             ],
             [
              0.8888888888888888,
              "#fdca26"
             ],
             [
              1,
              "#f0f921"
             ]
            ],
            "type": "histogram2d"
           }
          ],
          "histogram2dcontour": [
           {
            "colorbar": {
             "outlinewidth": 0,
             "ticks": ""
            },
            "colorscale": [
             [
              0,
              "#0d0887"
             ],
             [
              0.1111111111111111,
              "#46039f"
             ],
             [
              0.2222222222222222,
              "#7201a8"
             ],
             [
              0.3333333333333333,
              "#9c179e"
             ],
             [
              0.4444444444444444,
              "#bd3786"
             ],
             [
              0.5555555555555556,
              "#d8576b"
             ],
             [
              0.6666666666666666,
              "#ed7953"
             ],
             [
              0.7777777777777778,
              "#fb9f3a"
             ],
             [
              0.8888888888888888,
              "#fdca26"
             ],
             [
              1,
              "#f0f921"
             ]
            ],
            "type": "histogram2dcontour"
           }
          ],
          "mesh3d": [
           {
            "colorbar": {
             "outlinewidth": 0,
             "ticks": ""
            },
            "type": "mesh3d"
           }
          ],
          "parcoords": [
           {
            "line": {
             "colorbar": {
              "outlinewidth": 0,
              "ticks": ""
             }
            },
            "type": "parcoords"
           }
          ],
          "pie": [
           {
            "automargin": true,
            "type": "pie"
           }
          ],
          "scatter": [
           {
            "fillpattern": {
             "fillmode": "overlay",
             "size": 10,
             "solidity": 0.2
            },
            "type": "scatter"
           }
          ],
          "scatter3d": [
           {
            "line": {
             "colorbar": {
              "outlinewidth": 0,
              "ticks": ""
             }
            },
            "marker": {
             "colorbar": {
              "outlinewidth": 0,
              "ticks": ""
             }
            },
            "type": "scatter3d"
           }
          ],
          "scattercarpet": [
           {
            "marker": {
             "colorbar": {
              "outlinewidth": 0,
              "ticks": ""
             }
            },
            "type": "scattercarpet"
           }
          ],
          "scattergeo": [
           {
            "marker": {
             "colorbar": {
              "outlinewidth": 0,
              "ticks": ""
             }
            },
            "type": "scattergeo"
           }
          ],
          "scattergl": [
           {
            "marker": {
             "colorbar": {
              "outlinewidth": 0,
              "ticks": ""
             }
            },
            "type": "scattergl"
           }
          ],
          "scattermapbox": [
           {
            "marker": {
             "colorbar": {
              "outlinewidth": 0,
              "ticks": ""
             }
            },
            "type": "scattermapbox"
           }
          ],
          "scatterpolar": [
           {
            "marker": {
             "colorbar": {
              "outlinewidth": 0,
              "ticks": ""
             }
            },
            "type": "scatterpolar"
           }
          ],
          "scatterpolargl": [
           {
            "marker": {
             "colorbar": {
              "outlinewidth": 0,
              "ticks": ""
             }
            },
            "type": "scatterpolargl"
           }
          ],
          "scatterternary": [
           {
            "marker": {
             "colorbar": {
              "outlinewidth": 0,
              "ticks": ""
             }
            },
            "type": "scatterternary"
           }
          ],
          "surface": [
           {
            "colorbar": {
             "outlinewidth": 0,
             "ticks": ""
            },
            "colorscale": [
             [
              0,
              "#0d0887"
             ],
             [
              0.1111111111111111,
              "#46039f"
             ],
             [
              0.2222222222222222,
              "#7201a8"
             ],
             [
              0.3333333333333333,
              "#9c179e"
             ],
             [
              0.4444444444444444,
              "#bd3786"
             ],
             [
              0.5555555555555556,
              "#d8576b"
             ],
             [
              0.6666666666666666,
              "#ed7953"
             ],
             [
              0.7777777777777778,
              "#fb9f3a"
             ],
             [
              0.8888888888888888,
              "#fdca26"
             ],
             [
              1,
              "#f0f921"
             ]
            ],
            "type": "surface"
           }
          ],
          "table": [
           {
            "cells": {
             "fill": {
              "color": "#EBF0F8"
             },
             "line": {
              "color": "white"
             }
            },
            "header": {
             "fill": {
              "color": "#C8D4E3"
             },
             "line": {
              "color": "white"
             }
            },
            "type": "table"
           }
          ]
         },
         "layout": {
          "annotationdefaults": {
           "arrowcolor": "#2a3f5f",
           "arrowhead": 0,
           "arrowwidth": 1
          },
          "autotypenumbers": "strict",
          "coloraxis": {
           "colorbar": {
            "outlinewidth": 0,
            "ticks": ""
           }
          },
          "colorscale": {
           "diverging": [
            [
             0,
             "#8e0152"
            ],
            [
             0.1,
             "#c51b7d"
            ],
            [
             0.2,
             "#de77ae"
            ],
            [
             0.3,
             "#f1b6da"
            ],
            [
             0.4,
             "#fde0ef"
            ],
            [
             0.5,
             "#f7f7f7"
            ],
            [
             0.6,
             "#e6f5d0"
            ],
            [
             0.7,
             "#b8e186"
            ],
            [
             0.8,
             "#7fbc41"
            ],
            [
             0.9,
             "#4d9221"
            ],
            [
             1,
             "#276419"
            ]
           ],
           "sequential": [
            [
             0,
             "#0d0887"
            ],
            [
             0.1111111111111111,
             "#46039f"
            ],
            [
             0.2222222222222222,
             "#7201a8"
            ],
            [
             0.3333333333333333,
             "#9c179e"
            ],
            [
             0.4444444444444444,
             "#bd3786"
            ],
            [
             0.5555555555555556,
             "#d8576b"
            ],
            [
             0.6666666666666666,
             "#ed7953"
            ],
            [
             0.7777777777777778,
             "#fb9f3a"
            ],
            [
             0.8888888888888888,
             "#fdca26"
            ],
            [
             1,
             "#f0f921"
            ]
           ],
           "sequentialminus": [
            [
             0,
             "#0d0887"
            ],
            [
             0.1111111111111111,
             "#46039f"
            ],
            [
             0.2222222222222222,
             "#7201a8"
            ],
            [
             0.3333333333333333,
             "#9c179e"
            ],
            [
             0.4444444444444444,
             "#bd3786"
            ],
            [
             0.5555555555555556,
             "#d8576b"
            ],
            [
             0.6666666666666666,
             "#ed7953"
            ],
            [
             0.7777777777777778,
             "#fb9f3a"
            ],
            [
             0.8888888888888888,
             "#fdca26"
            ],
            [
             1,
             "#f0f921"
            ]
           ]
          },
          "colorway": [
           "#636efa",
           "#EF553B",
           "#00cc96",
           "#ab63fa",
           "#FFA15A",
           "#19d3f3",
           "#FF6692",
           "#B6E880",
           "#FF97FF",
           "#FECB52"
          ],
          "font": {
           "color": "#2a3f5f"
          },
          "geo": {
           "bgcolor": "white",
           "lakecolor": "white",
           "landcolor": "#E5ECF6",
           "showlakes": true,
           "showland": true,
           "subunitcolor": "white"
          },
          "hoverlabel": {
           "align": "left"
          },
          "hovermode": "closest",
          "mapbox": {
           "style": "light"
          },
          "paper_bgcolor": "white",
          "plot_bgcolor": "#E5ECF6",
          "polar": {
           "angularaxis": {
            "gridcolor": "white",
            "linecolor": "white",
            "ticks": ""
           },
           "bgcolor": "#E5ECF6",
           "radialaxis": {
            "gridcolor": "white",
            "linecolor": "white",
            "ticks": ""
           }
          },
          "scene": {
           "xaxis": {
            "backgroundcolor": "#E5ECF6",
            "gridcolor": "white",
            "gridwidth": 2,
            "linecolor": "white",
            "showbackground": true,
            "ticks": "",
            "zerolinecolor": "white"
           },
           "yaxis": {
            "backgroundcolor": "#E5ECF6",
            "gridcolor": "white",
            "gridwidth": 2,
            "linecolor": "white",
            "showbackground": true,
            "ticks": "",
            "zerolinecolor": "white"
           },
           "zaxis": {
            "backgroundcolor": "#E5ECF6",
            "gridcolor": "white",
            "gridwidth": 2,
            "linecolor": "white",
            "showbackground": true,
            "ticks": "",
            "zerolinecolor": "white"
           }
          },
          "shapedefaults": {
           "line": {
            "color": "#2a3f5f"
           }
          },
          "ternary": {
           "aaxis": {
            "gridcolor": "white",
            "linecolor": "white",
            "ticks": ""
           },
           "baxis": {
            "gridcolor": "white",
            "linecolor": "white",
            "ticks": ""
           },
           "bgcolor": "#E5ECF6",
           "caxis": {
            "gridcolor": "white",
            "linecolor": "white",
            "ticks": ""
           }
          },
          "title": {
           "x": 0.05
          },
          "xaxis": {
           "automargin": true,
           "gridcolor": "white",
           "linecolor": "white",
           "ticks": "",
           "title": {
            "standoff": 15
           },
           "zerolinecolor": "white",
           "zerolinewidth": 2
          },
          "yaxis": {
           "automargin": true,
           "gridcolor": "white",
           "linecolor": "white",
           "ticks": "",
           "title": {
            "standoff": 15
           },
           "zerolinecolor": "white",
           "zerolinewidth": 2
          }
         }
        },
        "width": 1400
       }
      },
      "text/html": [
       "<div>                            <div id=\"8d02e452-f872-49e6-bf4a-11a2b0b687e1\" class=\"plotly-graph-div\" style=\"height:800px; width:1400px;\"></div>            <script type=\"text/javascript\">                require([\"plotly\"], function(Plotly) {                    window.PLOTLYENV=window.PLOTLYENV || {};                                    if (document.getElementById(\"8d02e452-f872-49e6-bf4a-11a2b0b687e1\")) {                    Plotly.newPlot(                        \"8d02e452-f872-49e6-bf4a-11a2b0b687e1\",                        [{\"hovertemplate\":\"cluster=0<br>value=%{r}<br>variable=%{theta}<extra></extra>\",\"legendgroup\":\"0\",\"line\":{\"color\":\"#636efa\",\"dash\":\"solid\"},\"marker\":{\"symbol\":\"circle\"},\"mode\":\"lines\",\"name\":\"0\",\"r\":[0.6875,0.6484375,0.6875,0.515625,0.2890625,0.1015625,1.0,0.0,0.0,0.6875],\"showlegend\":true,\"subplot\":\"polar\",\"theta\":[\"Rate the following levels regarding your workplace - Job Satisfaction\",\"Rate the following levels regarding your workplace - Happiness to come into work\",\"Rate the following levels regarding your workplace - Workload\",\"Rate the following levels regarding your workplace - Anxiety Level regarding work\",\"Rate the following levels regarding your workplace - Toxicity of work environment\",\"How many colleagues do you know vape in your workplace?\",\"When did you join the workplace?_After Covid (After April 2022)\",\"When did you join the workplace?_During Covid\",\"When did you join the workplace?_Pre-Covid (Before March 2020)\",\"Rate the following levels regarding your workplace - Job Satisfaction\"],\"type\":\"scatterpolar\"},{\"hovertemplate\":\"cluster=1<br>value=%{r}<br>variable=%{theta}<extra></extra>\",\"legendgroup\":\"1\",\"line\":{\"color\":\"#EF553B\",\"dash\":\"solid\"},\"marker\":{\"symbol\":\"circle\"},\"mode\":\"lines\",\"name\":\"1\",\"r\":[0.5952380952380952,0.5476190476190477,0.7261904761904762,0.5357142857142857,0.2261904761904762,0.07857142857142858,0.0,1.0,0.0,0.5952380952380952],\"showlegend\":true,\"subplot\":\"polar\",\"theta\":[\"Rate the following levels regarding your workplace - Job Satisfaction\",\"Rate the following levels regarding your workplace - Happiness to come into work\",\"Rate the following levels regarding your workplace - Workload\",\"Rate the following levels regarding your workplace - Anxiety Level regarding work\",\"Rate the following levels regarding your workplace - Toxicity of work environment\",\"How many colleagues do you know vape in your workplace?\",\"When did you join the workplace?_After Covid (After April 2022)\",\"When did you join the workplace?_During Covid\",\"When did you join the workplace?_Pre-Covid (Before March 2020)\",\"Rate the following levels regarding your workplace - Job Satisfaction\"],\"type\":\"scatterpolar\"},{\"hovertemplate\":\"cluster=2<br>value=%{r}<br>variable=%{theta}<extra></extra>\",\"legendgroup\":\"2\",\"line\":{\"color\":\"#00cc96\",\"dash\":\"solid\"},\"marker\":{\"symbol\":\"circle\"},\"mode\":\"lines\",\"name\":\"2\",\"r\":[0.6363636363636364,0.5795454545454546,0.7159090909090909,0.6022727272727273,0.36363636363636365,0.08863636363636364,0.0,0.0,1.0,0.6363636363636364],\"showlegend\":true,\"subplot\":\"polar\",\"theta\":[\"Rate the following levels regarding your workplace - Job Satisfaction\",\"Rate the following levels regarding your workplace - Happiness to come into work\",\"Rate the following levels regarding your workplace - Workload\",\"Rate the following levels regarding your workplace - Anxiety Level regarding work\",\"Rate the following levels regarding your workplace - Toxicity of work environment\",\"How many colleagues do you know vape in your workplace?\",\"When did you join the workplace?_After Covid (After April 2022)\",\"When did you join the workplace?_During Covid\",\"When did you join the workplace?_Pre-Covid (Before March 2020)\",\"Rate the following levels regarding your workplace - Job Satisfaction\"],\"type\":\"scatterpolar\"}],                        {\"template\":{\"data\":{\"histogram2dcontour\":[{\"type\":\"histogram2dcontour\",\"colorbar\":{\"outlinewidth\":0,\"ticks\":\"\"},\"colorscale\":[[0.0,\"#0d0887\"],[0.1111111111111111,\"#46039f\"],[0.2222222222222222,\"#7201a8\"],[0.3333333333333333,\"#9c179e\"],[0.4444444444444444,\"#bd3786\"],[0.5555555555555556,\"#d8576b\"],[0.6666666666666666,\"#ed7953\"],[0.7777777777777778,\"#fb9f3a\"],[0.8888888888888888,\"#fdca26\"],[1.0,\"#f0f921\"]]}],\"choropleth\":[{\"type\":\"choropleth\",\"colorbar\":{\"outlinewidth\":0,\"ticks\":\"\"}}],\"histogram2d\":[{\"type\":\"histogram2d\",\"colorbar\":{\"outlinewidth\":0,\"ticks\":\"\"},\"colorscale\":[[0.0,\"#0d0887\"],[0.1111111111111111,\"#46039f\"],[0.2222222222222222,\"#7201a8\"],[0.3333333333333333,\"#9c179e\"],[0.4444444444444444,\"#bd3786\"],[0.5555555555555556,\"#d8576b\"],[0.6666666666666666,\"#ed7953\"],[0.7777777777777778,\"#fb9f3a\"],[0.8888888888888888,\"#fdca26\"],[1.0,\"#f0f921\"]]}],\"heatmap\":[{\"type\":\"heatmap\",\"colorbar\":{\"outlinewidth\":0,\"ticks\":\"\"},\"colorscale\":[[0.0,\"#0d0887\"],[0.1111111111111111,\"#46039f\"],[0.2222222222222222,\"#7201a8\"],[0.3333333333333333,\"#9c179e\"],[0.4444444444444444,\"#bd3786\"],[0.5555555555555556,\"#d8576b\"],[0.6666666666666666,\"#ed7953\"],[0.7777777777777778,\"#fb9f3a\"],[0.8888888888888888,\"#fdca26\"],[1.0,\"#f0f921\"]]}],\"heatmapgl\":[{\"type\":\"heatmapgl\",\"colorbar\":{\"outlinewidth\":0,\"ticks\":\"\"},\"colorscale\":[[0.0,\"#0d0887\"],[0.1111111111111111,\"#46039f\"],[0.2222222222222222,\"#7201a8\"],[0.3333333333333333,\"#9c179e\"],[0.4444444444444444,\"#bd3786\"],[0.5555555555555556,\"#d8576b\"],[0.6666666666666666,\"#ed7953\"],[0.7777777777777778,\"#fb9f3a\"],[0.8888888888888888,\"#fdca26\"],[1.0,\"#f0f921\"]]}],\"contourcarpet\":[{\"type\":\"contourcarpet\",\"colorbar\":{\"outlinewidth\":0,\"ticks\":\"\"}}],\"contour\":[{\"type\":\"contour\",\"colorbar\":{\"outlinewidth\":0,\"ticks\":\"\"},\"colorscale\":[[0.0,\"#0d0887\"],[0.1111111111111111,\"#46039f\"],[0.2222222222222222,\"#7201a8\"],[0.3333333333333333,\"#9c179e\"],[0.4444444444444444,\"#bd3786\"],[0.5555555555555556,\"#d8576b\"],[0.6666666666666666,\"#ed7953\"],[0.7777777777777778,\"#fb9f3a\"],[0.8888888888888888,\"#fdca26\"],[1.0,\"#f0f921\"]]}],\"surface\":[{\"type\":\"surface\",\"colorbar\":{\"outlinewidth\":0,\"ticks\":\"\"},\"colorscale\":[[0.0,\"#0d0887\"],[0.1111111111111111,\"#46039f\"],[0.2222222222222222,\"#7201a8\"],[0.3333333333333333,\"#9c179e\"],[0.4444444444444444,\"#bd3786\"],[0.5555555555555556,\"#d8576b\"],[0.6666666666666666,\"#ed7953\"],[0.7777777777777778,\"#fb9f3a\"],[0.8888888888888888,\"#fdca26\"],[1.0,\"#f0f921\"]]}],\"mesh3d\":[{\"type\":\"mesh3d\",\"colorbar\":{\"outlinewidth\":0,\"ticks\":\"\"}}],\"scatter\":[{\"fillpattern\":{\"fillmode\":\"overlay\",\"size\":10,\"solidity\":0.2},\"type\":\"scatter\"}],\"parcoords\":[{\"type\":\"parcoords\",\"line\":{\"colorbar\":{\"outlinewidth\":0,\"ticks\":\"\"}}}],\"scatterpolargl\":[{\"type\":\"scatterpolargl\",\"marker\":{\"colorbar\":{\"outlinewidth\":0,\"ticks\":\"\"}}}],\"bar\":[{\"error_x\":{\"color\":\"#2a3f5f\"},\"error_y\":{\"color\":\"#2a3f5f\"},\"marker\":{\"line\":{\"color\":\"#E5ECF6\",\"width\":0.5},\"pattern\":{\"fillmode\":\"overlay\",\"size\":10,\"solidity\":0.2}},\"type\":\"bar\"}],\"scattergeo\":[{\"type\":\"scattergeo\",\"marker\":{\"colorbar\":{\"outlinewidth\":0,\"ticks\":\"\"}}}],\"scatterpolar\":[{\"type\":\"scatterpolar\",\"marker\":{\"colorbar\":{\"outlinewidth\":0,\"ticks\":\"\"}}}],\"histogram\":[{\"marker\":{\"pattern\":{\"fillmode\":\"overlay\",\"size\":10,\"solidity\":0.2}},\"type\":\"histogram\"}],\"scattergl\":[{\"type\":\"scattergl\",\"marker\":{\"colorbar\":{\"outlinewidth\":0,\"ticks\":\"\"}}}],\"scatter3d\":[{\"type\":\"scatter3d\",\"line\":{\"colorbar\":{\"outlinewidth\":0,\"ticks\":\"\"}},\"marker\":{\"colorbar\":{\"outlinewidth\":0,\"ticks\":\"\"}}}],\"scattermapbox\":[{\"type\":\"scattermapbox\",\"marker\":{\"colorbar\":{\"outlinewidth\":0,\"ticks\":\"\"}}}],\"scatterternary\":[{\"type\":\"scatterternary\",\"marker\":{\"colorbar\":{\"outlinewidth\":0,\"ticks\":\"\"}}}],\"scattercarpet\":[{\"type\":\"scattercarpet\",\"marker\":{\"colorbar\":{\"outlinewidth\":0,\"ticks\":\"\"}}}],\"carpet\":[{\"aaxis\":{\"endlinecolor\":\"#2a3f5f\",\"gridcolor\":\"white\",\"linecolor\":\"white\",\"minorgridcolor\":\"white\",\"startlinecolor\":\"#2a3f5f\"},\"baxis\":{\"endlinecolor\":\"#2a3f5f\",\"gridcolor\":\"white\",\"linecolor\":\"white\",\"minorgridcolor\":\"white\",\"startlinecolor\":\"#2a3f5f\"},\"type\":\"carpet\"}],\"table\":[{\"cells\":{\"fill\":{\"color\":\"#EBF0F8\"},\"line\":{\"color\":\"white\"}},\"header\":{\"fill\":{\"color\":\"#C8D4E3\"},\"line\":{\"color\":\"white\"}},\"type\":\"table\"}],\"barpolar\":[{\"marker\":{\"line\":{\"color\":\"#E5ECF6\",\"width\":0.5},\"pattern\":{\"fillmode\":\"overlay\",\"size\":10,\"solidity\":0.2}},\"type\":\"barpolar\"}],\"pie\":[{\"automargin\":true,\"type\":\"pie\"}]},\"layout\":{\"autotypenumbers\":\"strict\",\"colorway\":[\"#636efa\",\"#EF553B\",\"#00cc96\",\"#ab63fa\",\"#FFA15A\",\"#19d3f3\",\"#FF6692\",\"#B6E880\",\"#FF97FF\",\"#FECB52\"],\"font\":{\"color\":\"#2a3f5f\"},\"hovermode\":\"closest\",\"hoverlabel\":{\"align\":\"left\"},\"paper_bgcolor\":\"white\",\"plot_bgcolor\":\"#E5ECF6\",\"polar\":{\"bgcolor\":\"#E5ECF6\",\"angularaxis\":{\"gridcolor\":\"white\",\"linecolor\":\"white\",\"ticks\":\"\"},\"radialaxis\":{\"gridcolor\":\"white\",\"linecolor\":\"white\",\"ticks\":\"\"}},\"ternary\":{\"bgcolor\":\"#E5ECF6\",\"aaxis\":{\"gridcolor\":\"white\",\"linecolor\":\"white\",\"ticks\":\"\"},\"baxis\":{\"gridcolor\":\"white\",\"linecolor\":\"white\",\"ticks\":\"\"},\"caxis\":{\"gridcolor\":\"white\",\"linecolor\":\"white\",\"ticks\":\"\"}},\"coloraxis\":{\"colorbar\":{\"outlinewidth\":0,\"ticks\":\"\"}},\"colorscale\":{\"sequential\":[[0.0,\"#0d0887\"],[0.1111111111111111,\"#46039f\"],[0.2222222222222222,\"#7201a8\"],[0.3333333333333333,\"#9c179e\"],[0.4444444444444444,\"#bd3786\"],[0.5555555555555556,\"#d8576b\"],[0.6666666666666666,\"#ed7953\"],[0.7777777777777778,\"#fb9f3a\"],[0.8888888888888888,\"#fdca26\"],[1.0,\"#f0f921\"]],\"sequentialminus\":[[0.0,\"#0d0887\"],[0.1111111111111111,\"#46039f\"],[0.2222222222222222,\"#7201a8\"],[0.3333333333333333,\"#9c179e\"],[0.4444444444444444,\"#bd3786\"],[0.5555555555555556,\"#d8576b\"],[0.6666666666666666,\"#ed7953\"],[0.7777777777777778,\"#fb9f3a\"],[0.8888888888888888,\"#fdca26\"],[1.0,\"#f0f921\"]],\"diverging\":[[0,\"#8e0152\"],[0.1,\"#c51b7d\"],[0.2,\"#de77ae\"],[0.3,\"#f1b6da\"],[0.4,\"#fde0ef\"],[0.5,\"#f7f7f7\"],[0.6,\"#e6f5d0\"],[0.7,\"#b8e186\"],[0.8,\"#7fbc41\"],[0.9,\"#4d9221\"],[1,\"#276419\"]]},\"xaxis\":{\"gridcolor\":\"white\",\"linecolor\":\"white\",\"ticks\":\"\",\"title\":{\"standoff\":15},\"zerolinecolor\":\"white\",\"automargin\":true,\"zerolinewidth\":2},\"yaxis\":{\"gridcolor\":\"white\",\"linecolor\":\"white\",\"ticks\":\"\",\"title\":{\"standoff\":15},\"zerolinecolor\":\"white\",\"automargin\":true,\"zerolinewidth\":2},\"scene\":{\"xaxis\":{\"backgroundcolor\":\"#E5ECF6\",\"gridcolor\":\"white\",\"linecolor\":\"white\",\"showbackground\":true,\"ticks\":\"\",\"zerolinecolor\":\"white\",\"gridwidth\":2},\"yaxis\":{\"backgroundcolor\":\"#E5ECF6\",\"gridcolor\":\"white\",\"linecolor\":\"white\",\"showbackground\":true,\"ticks\":\"\",\"zerolinecolor\":\"white\",\"gridwidth\":2},\"zaxis\":{\"backgroundcolor\":\"#E5ECF6\",\"gridcolor\":\"white\",\"linecolor\":\"white\",\"showbackground\":true,\"ticks\":\"\",\"zerolinecolor\":\"white\",\"gridwidth\":2}},\"shapedefaults\":{\"line\":{\"color\":\"#2a3f5f\"}},\"annotationdefaults\":{\"arrowcolor\":\"#2a3f5f\",\"arrowhead\":0,\"arrowwidth\":1},\"geo\":{\"bgcolor\":\"white\",\"landcolor\":\"#E5ECF6\",\"subunitcolor\":\"white\",\"showland\":true,\"showlakes\":true,\"lakecolor\":\"white\"},\"title\":{\"x\":0.05},\"mapbox\":{\"style\":\"light\"}}},\"polar\":{\"domain\":{\"x\":[0.0,1.0],\"y\":[0.0,1.0]},\"angularaxis\":{\"direction\":\"clockwise\",\"rotation\":90}},\"legend\":{\"title\":{\"text\":\"cluster\"},\"tracegroupgap\":0},\"margin\":{\"t\":60},\"height\":800,\"width\":1400},                        {\"responsive\": true}                    ).then(function(){\n",
       "                            \n",
       "var gd = document.getElementById('8d02e452-f872-49e6-bf4a-11a2b0b687e1');\n",
       "var x = new MutationObserver(function (mutations, observer) {{\n",
       "        var display = window.getComputedStyle(gd).display;\n",
       "        if (!display || display === 'none') {{\n",
       "            console.log([gd, 'removed!']);\n",
       "            Plotly.purge(gd);\n",
       "            observer.disconnect();\n",
       "        }}\n",
       "}});\n",
       "\n",
       "// Listen for the removal of the full notebook cells\n",
       "var notebookContainer = gd.closest('#notebook-container');\n",
       "if (notebookContainer) {{\n",
       "    x.observe(notebookContainer, {childList: true});\n",
       "}}\n",
       "\n",
       "// Listen for the clearing of the current output cell\n",
       "var outputEl = gd.closest('.output');\n",
       "if (outputEl) {{\n",
       "    x.observe(outputEl, {childList: true});\n",
       "}}\n",
       "\n",
       "                        })                };                });            </script>        </div>"
      ]
     },
     "metadata": {},
     "output_type": "display_data"
    },
    {
     "name": "stdout",
     "output_type": "stream",
     "text": [
      "    cluster                                           variable     value\n",
      "0         0  Rate the following levels regarding your workp...  0.687500\n",
      "1         1  Rate the following levels regarding your workp...  0.595238\n",
      "2         2  Rate the following levels regarding your workp...  0.636364\n",
      "3         0  Rate the following levels regarding your workp...  0.648438\n",
      "4         1  Rate the following levels regarding your workp...  0.547619\n",
      "5         2  Rate the following levels regarding your workp...  0.579545\n",
      "6         0  Rate the following levels regarding your workp...  0.687500\n",
      "7         1  Rate the following levels regarding your workp...  0.726190\n",
      "8         2  Rate the following levels regarding your workp...  0.715909\n",
      "9         0  Rate the following levels regarding your workp...  0.515625\n",
      "10        1  Rate the following levels regarding your workp...  0.535714\n",
      "11        2  Rate the following levels regarding your workp...  0.602273\n",
      "12        0  Rate the following levels regarding your workp...  0.289062\n",
      "13        1  Rate the following levels regarding your workp...  0.226190\n",
      "14        2  Rate the following levels regarding your workp...  0.363636\n",
      "15        0  How many colleagues do you know vape in your w...  0.101562\n",
      "16        1  How many colleagues do you know vape in your w...  0.078571\n",
      "17        2  How many colleagues do you know vape in your w...  0.088636\n",
      "18        0  When did you join the workplace?_After Covid (...  1.000000\n",
      "19        1  When did you join the workplace?_After Covid (...  0.000000\n",
      "20        2  When did you join the workplace?_After Covid (...  0.000000\n",
      "21        0      When did you join the workplace?_During Covid  0.000000\n",
      "22        1      When did you join the workplace?_During Covid  1.000000\n",
      "23        2      When did you join the workplace?_During Covid  0.000000\n",
      "24        0  When did you join the workplace?_Pre-Covid (Be...  0.000000\n",
      "25        1  When did you join the workplace?_Pre-Covid (Be...  0.000000\n",
      "26        2  When did you join the workplace?_Pre-Covid (Be...  1.000000\n"
     ]
    }
   ],
   "source": [
    "polar=workdf_aggdata_scaled.groupby(\"cluster\").mean().reset_index()\n",
    "polar=pd.melt(polar,id_vars=[\"cluster\"])\n",
    "fig2 = px.line_polar(polar, r=\"value\", theta=\"variable\", color=\"cluster\", line_close=True,height=800,width=1400)\n",
    "fig2.show()\n",
    "print(polar)"
   ]
  },
  {
   "cell_type": "code",
   "execution_count": 64,
   "metadata": {},
   "outputs": [
    {
     "data": {
      "text/plain": [
       "<matplotlib.axes._subplots.AxesSubplot at 0x1c693eaeb48>"
      ]
     },
     "execution_count": 64,
     "metadata": {},
     "output_type": "execute_result"
    },
    {
     "data": {
      "image/png": "[encoded data removed]",
      "text/plain": [
       "<Figure size 1440x1080 with 2 Axes>"
      ]
     },
     "metadata": {
      "needs_background": "light"
     },
     "output_type": "display_data"
    }
   ],
   "source": [
    "workdf_clust_means_wt = pd.DataFrame(workdf_aggdata_scaled.groupby('cluster').mean(), columns=workdf_aggdata_scaled.columns)\n",
    "plt.subplots(figsize=(20,15))\n",
    "sns.heatmap(workdf_clust_means_wt.T,  linewidths=.6, cmap=\"YlGnBu\")"
   ]
  },
  {
   "cell_type": "code",
   "execution_count": 65,
   "metadata": {},
   "outputs": [
    {
     "data": {
      "text/html": [
       "<div>\n",
       "<style scoped>\n",
       "    .dataframe tbody tr th:only-of-type {\n",
       "        vertical-align: middle;\n",
       "    }\n",
       "\n",
       "    .dataframe tbody tr th {\n",
       "        vertical-align: top;\n",
       "    }\n",
       "\n",
       "    .dataframe thead th {\n",
       "        text-align: right;\n",
       "    }\n",
       "</style>\n",
       "<table border=\"1\" class=\"dataframe\">\n",
       "  <thead>\n",
       "    <tr style=\"text-align: right;\">\n",
       "      <th></th>\n",
       "      <th>Rate the following levels regarding your workplace - Job Satisfaction</th>\n",
       "      <th>Rate the following levels regarding your workplace - Happiness to come into work</th>\n",
       "      <th>Rate the following levels regarding your workplace - Workload</th>\n",
       "      <th>Rate the following levels regarding your workplace - Anxiety Level regarding work</th>\n",
       "      <th>Rate the following levels regarding your workplace - Toxicity of work environment</th>\n",
       "      <th>How many colleagues do you know vape in your workplace?</th>\n",
       "      <th>When did you join the workplace?_After Covid (After April 2022)</th>\n",
       "      <th>When did you join the workplace?_During Covid</th>\n",
       "      <th>When did you join the workplace?_Pre-Covid (Before March 2020)</th>\n",
       "      <th>cluster</th>\n",
       "      <th>Vaped</th>\n",
       "    </tr>\n",
       "  </thead>\n",
       "  <tbody>\n",
       "    <tr>\n",
       "      <th>0</th>\n",
       "      <td>0.75</td>\n",
       "      <td>0.50</td>\n",
       "      <td>0.50</td>\n",
       "      <td>0.00</td>\n",
       "      <td>0.00</td>\n",
       "      <td>0.05</td>\n",
       "      <td>0.0</td>\n",
       "      <td>0.0</td>\n",
       "      <td>1.0</td>\n",
       "      <td>2</td>\n",
       "      <td>Yes</td>\n",
       "    </tr>\n",
       "    <tr>\n",
       "      <th>1</th>\n",
       "      <td>0.75</td>\n",
       "      <td>0.75</td>\n",
       "      <td>0.75</td>\n",
       "      <td>0.75</td>\n",
       "      <td>0.50</td>\n",
       "      <td>0.00</td>\n",
       "      <td>0.0</td>\n",
       "      <td>0.0</td>\n",
       "      <td>1.0</td>\n",
       "      <td>2</td>\n",
       "      <td>No</td>\n",
       "    </tr>\n",
       "    <tr>\n",
       "      <th>2</th>\n",
       "      <td>0.00</td>\n",
       "      <td>0.00</td>\n",
       "      <td>1.00</td>\n",
       "      <td>0.75</td>\n",
       "      <td>0.50</td>\n",
       "      <td>0.00</td>\n",
       "      <td>0.0</td>\n",
       "      <td>1.0</td>\n",
       "      <td>0.0</td>\n",
       "      <td>1</td>\n",
       "      <td>No</td>\n",
       "    </tr>\n",
       "    <tr>\n",
       "      <th>3</th>\n",
       "      <td>0.75</td>\n",
       "      <td>0.75</td>\n",
       "      <td>0.75</td>\n",
       "      <td>0.50</td>\n",
       "      <td>0.25</td>\n",
       "      <td>0.15</td>\n",
       "      <td>0.0</td>\n",
       "      <td>0.0</td>\n",
       "      <td>1.0</td>\n",
       "      <td>2</td>\n",
       "      <td>No</td>\n",
       "    </tr>\n",
       "    <tr>\n",
       "      <th>4</th>\n",
       "      <td>0.50</td>\n",
       "      <td>0.50</td>\n",
       "      <td>0.75</td>\n",
       "      <td>0.25</td>\n",
       "      <td>0.25</td>\n",
       "      <td>0.10</td>\n",
       "      <td>1.0</td>\n",
       "      <td>0.0</td>\n",
       "      <td>0.0</td>\n",
       "      <td>0</td>\n",
       "      <td>Yes</td>\n",
       "    </tr>\n",
       "  </tbody>\n",
       "</table>\n",
       "</div>"
      ],
      "text/plain": [
       "   Rate the following levels regarding your workplace - Job Satisfaction  \\\n",
       "0                                               0.75                       \n",
       "1                                               0.75                       \n",
       "2                                               0.00                       \n",
       "3                                               0.75                       \n",
       "4                                               0.50                       \n",
       "\n",
       "   Rate the following levels regarding your workplace - Happiness to come into work  \\\n",
       "0                                               0.50                                  \n",
       "1                                               0.75                                  \n",
       "2                                               0.00                                  \n",
       "3                                               0.75                                  \n",
       "4                                               0.50                                  \n",
       "\n",
       "   Rate the following levels regarding your workplace - Workload  \\\n",
       "0                                               0.50               \n",
       "1                                               0.75               \n",
       "2                                               1.00               \n",
       "3                                               0.75               \n",
       "4                                               0.75               \n",
       "\n",
       "   Rate the following levels regarding your workplace - Anxiety Level regarding work  \\\n",
       "0                                               0.00                                   \n",
       "1                                               0.75                                   \n",
       "2                                               0.75                                   \n",
       "3                                               0.50                                   \n",
       "4                                               0.25                                   \n",
       "\n",
       "   Rate the following levels regarding your workplace - Toxicity of work environment  \\\n",
       "0                                               0.00                                   \n",
       "1                                               0.50                                   \n",
       "2                                               0.50                                   \n",
       "3                                               0.25                                   \n",
       "4                                               0.25                                   \n",
       "\n",
       "   How many colleagues do you know vape in your workplace?  \\\n",
       "0                                               0.05         \n",
       "1                                               0.00         \n",
       "2                                               0.00         \n",
       "3                                               0.15         \n",
       "4                                               0.10         \n",
       "\n",
       "   When did you join the workplace?_After Covid (After April 2022)  \\\n",
       "0                                                0.0                 \n",
       "1                                                0.0                 \n",
       "2                                                0.0                 \n",
       "3                                                0.0                 \n",
       "4                                                1.0                 \n",
       "\n",
       "   When did you join the workplace?_During Covid  \\\n",
       "0                                            0.0   \n",
       "1                                            0.0   \n",
       "2                                            1.0   \n",
       "3                                            0.0   \n",
       "4                                            0.0   \n",
       "\n",
       "   When did you join the workplace?_Pre-Covid (Before March 2020)  cluster  \\\n",
       "0                                                1.0                     2   \n",
       "1                                                1.0                     2   \n",
       "2                                                0.0                     1   \n",
       "3                                                1.0                     2   \n",
       "4                                                0.0                     0   \n",
       "\n",
       "  Vaped  \n",
       "0   Yes  \n",
       "1    No  \n",
       "2    No  \n",
       "3    No  \n",
       "4   Yes  "
      ]
     },
     "execution_count": 65,
     "metadata": {},
     "output_type": "execute_result"
    }
   ],
   "source": [
    "vaped = df[\"Have you vaped before?\"] \n",
    "workdf_aggdata_scaled[\"Vaped\"] = vaped\n",
    "workdf_aggdata_scaled.head()"
   ]
  },
  {
   "cell_type": "code",
   "execution_count": 66,
   "metadata": {},
   "outputs": [
    {
     "data": {
      "text/plain": [
       "<matplotlib.axes._subplots.AxesSubplot at 0x1c693c4cb08>"
      ]
     },
     "execution_count": 66,
     "metadata": {},
     "output_type": "execute_result"
    },
    {
     "data": {
      "image/png": "[encoded data removed]",
      "text/plain": [
       "<Figure size 2160x432 with 2 Axes>"
      ]
     },
     "metadata": {
      "needs_background": "light"
     },
     "output_type": "display_data"
    }
   ],
   "source": [
    "fig, ax = plt.subplots(1, 2 , figsize = (30,6))\n",
    "sns.countplot(x = workdf_aggdata_scaled['cluster'], hue = workdf_aggdata_scaled['Vaped'], data = workdf_aggdata_scaled, ax=ax[0])\n"
   ]
  },
  {
   "cell_type": "code",
   "execution_count": 67,
   "metadata": {},
   "outputs": [
    {
     "data": {
      "text/html": [
       "<div>\n",
       "<style scoped>\n",
       "    .dataframe tbody tr th:only-of-type {\n",
       "        vertical-align: middle;\n",
       "    }\n",
       "\n",
       "    .dataframe tbody tr th {\n",
       "        vertical-align: top;\n",
       "    }\n",
       "\n",
       "    .dataframe thead th {\n",
       "        text-align: right;\n",
       "    }\n",
       "</style>\n",
       "<table border=\"1\" class=\"dataframe\">\n",
       "  <thead>\n",
       "    <tr style=\"text-align: right;\">\n",
       "      <th></th>\n",
       "      <th>Rate the following levels regarding your workplace - Job Satisfaction</th>\n",
       "      <th>Rate the following levels regarding your workplace - Happiness to come into work</th>\n",
       "      <th>Rate the following levels regarding your workplace - Workload</th>\n",
       "      <th>Rate the following levels regarding your workplace - Anxiety Level regarding work</th>\n",
       "      <th>Rate the following levels regarding your workplace - Toxicity of work environment</th>\n",
       "      <th>How many colleagues do you know vape in your workplace?</th>\n",
       "      <th>When did you join the workplace?_After Covid (After April 2022)</th>\n",
       "      <th>When did you join the workplace?_During Covid</th>\n",
       "      <th>When did you join the workplace?_Pre-Covid (Before March 2020)</th>\n",
       "    </tr>\n",
       "  </thead>\n",
       "  <tbody>\n",
       "    <tr>\n",
       "      <th>0</th>\n",
       "      <td>0.75</td>\n",
       "      <td>0.50</td>\n",
       "      <td>0.50</td>\n",
       "      <td>0.00</td>\n",
       "      <td>0.00</td>\n",
       "      <td>0.05</td>\n",
       "      <td>0.0</td>\n",
       "      <td>0.0</td>\n",
       "      <td>1.0</td>\n",
       "    </tr>\n",
       "    <tr>\n",
       "      <th>1</th>\n",
       "      <td>0.75</td>\n",
       "      <td>0.75</td>\n",
       "      <td>0.75</td>\n",
       "      <td>0.75</td>\n",
       "      <td>0.50</td>\n",
       "      <td>0.00</td>\n",
       "      <td>0.0</td>\n",
       "      <td>0.0</td>\n",
       "      <td>1.0</td>\n",
       "    </tr>\n",
       "    <tr>\n",
       "      <th>2</th>\n",
       "      <td>0.00</td>\n",
       "      <td>0.00</td>\n",
       "      <td>1.00</td>\n",
       "      <td>0.75</td>\n",
       "      <td>0.50</td>\n",
       "      <td>0.00</td>\n",
       "      <td>0.0</td>\n",
       "      <td>1.0</td>\n",
       "      <td>0.0</td>\n",
       "    </tr>\n",
       "    <tr>\n",
       "      <th>3</th>\n",
       "      <td>0.75</td>\n",
       "      <td>0.75</td>\n",
       "      <td>0.75</td>\n",
       "      <td>0.50</td>\n",
       "      <td>0.25</td>\n",
       "      <td>0.15</td>\n",
       "      <td>0.0</td>\n",
       "      <td>0.0</td>\n",
       "      <td>1.0</td>\n",
       "    </tr>\n",
       "    <tr>\n",
       "      <th>4</th>\n",
       "      <td>0.50</td>\n",
       "      <td>0.50</td>\n",
       "      <td>0.75</td>\n",
       "      <td>0.25</td>\n",
       "      <td>0.25</td>\n",
       "      <td>0.10</td>\n",
       "      <td>1.0</td>\n",
       "      <td>0.0</td>\n",
       "      <td>0.0</td>\n",
       "    </tr>\n",
       "    <tr>\n",
       "      <th>...</th>\n",
       "      <td>...</td>\n",
       "      <td>...</td>\n",
       "      <td>...</td>\n",
       "      <td>...</td>\n",
       "      <td>...</td>\n",
       "      <td>...</td>\n",
       "      <td>...</td>\n",
       "      <td>...</td>\n",
       "      <td>...</td>\n",
       "    </tr>\n",
       "    <tr>\n",
       "      <th>70</th>\n",
       "      <td>0.75</td>\n",
       "      <td>0.75</td>\n",
       "      <td>0.50</td>\n",
       "      <td>0.25</td>\n",
       "      <td>1.00</td>\n",
       "      <td>0.50</td>\n",
       "      <td>0.0</td>\n",
       "      <td>0.0</td>\n",
       "      <td>1.0</td>\n",
       "    </tr>\n",
       "    <tr>\n",
       "      <th>71</th>\n",
       "      <td>0.50</td>\n",
       "      <td>0.50</td>\n",
       "      <td>0.25</td>\n",
       "      <td>0.25</td>\n",
       "      <td>0.25</td>\n",
       "      <td>0.05</td>\n",
       "      <td>0.0</td>\n",
       "      <td>1.0</td>\n",
       "      <td>0.0</td>\n",
       "    </tr>\n",
       "    <tr>\n",
       "      <th>72</th>\n",
       "      <td>0.25</td>\n",
       "      <td>0.00</td>\n",
       "      <td>1.00</td>\n",
       "      <td>0.75</td>\n",
       "      <td>0.50</td>\n",
       "      <td>0.15</td>\n",
       "      <td>0.0</td>\n",
       "      <td>1.0</td>\n",
       "      <td>0.0</td>\n",
       "    </tr>\n",
       "    <tr>\n",
       "      <th>73</th>\n",
       "      <td>0.75</td>\n",
       "      <td>0.75</td>\n",
       "      <td>1.00</td>\n",
       "      <td>1.00</td>\n",
       "      <td>0.25</td>\n",
       "      <td>0.05</td>\n",
       "      <td>0.0</td>\n",
       "      <td>0.0</td>\n",
       "      <td>1.0</td>\n",
       "    </tr>\n",
       "    <tr>\n",
       "      <th>74</th>\n",
       "      <td>0.50</td>\n",
       "      <td>0.50</td>\n",
       "      <td>0.50</td>\n",
       "      <td>0.50</td>\n",
       "      <td>0.50</td>\n",
       "      <td>0.05</td>\n",
       "      <td>0.0</td>\n",
       "      <td>0.0</td>\n",
       "      <td>1.0</td>\n",
       "    </tr>\n",
       "  </tbody>\n",
       "</table>\n",
       "<p>75 rows × 9 columns</p>\n",
       "</div>"
      ],
      "text/plain": [
       "    Rate the following levels regarding your workplace - Job Satisfaction  \\\n",
       "0                                                0.75                       \n",
       "1                                                0.75                       \n",
       "2                                                0.00                       \n",
       "3                                                0.75                       \n",
       "4                                                0.50                       \n",
       "..                                                ...                       \n",
       "70                                               0.75                       \n",
       "71                                               0.50                       \n",
       "72                                               0.25                       \n",
       "73                                               0.75                       \n",
       "74                                               0.50                       \n",
       "\n",
       "    Rate the following levels regarding your workplace - Happiness to come into work  \\\n",
       "0                                                0.50                                  \n",
       "1                                                0.75                                  \n",
       "2                                                0.00                                  \n",
       "3                                                0.75                                  \n",
       "4                                                0.50                                  \n",
       "..                                                ...                                  \n",
       "70                                               0.75                                  \n",
       "71                                               0.50                                  \n",
       "72                                               0.00                                  \n",
       "73                                               0.75                                  \n",
       "74                                               0.50                                  \n",
       "\n",
       "    Rate the following levels regarding your workplace - Workload  \\\n",
       "0                                                0.50               \n",
       "1                                                0.75               \n",
       "2                                                1.00               \n",
       "3                                                0.75               \n",
       "4                                                0.75               \n",
       "..                                                ...               \n",
       "70                                               0.50               \n",
       "71                                               0.25               \n",
       "72                                               1.00               \n",
       "73                                               1.00               \n",
       "74                                               0.50               \n",
       "\n",
       "    Rate the following levels regarding your workplace - Anxiety Level regarding work  \\\n",
       "0                                                0.00                                   \n",
       "1                                                0.75                                   \n",
       "2                                                0.75                                   \n",
       "3                                                0.50                                   \n",
       "4                                                0.25                                   \n",
       "..                                                ...                                   \n",
       "70                                               0.25                                   \n",
       "71                                               0.25                                   \n",
       "72                                               0.75                                   \n",
       "73                                               1.00                                   \n",
       "74                                               0.50                                   \n",
       "\n",
       "    Rate the following levels regarding your workplace - Toxicity of work environment  \\\n",
       "0                                                0.00                                   \n",
       "1                                                0.50                                   \n",
       "2                                                0.50                                   \n",
       "3                                                0.25                                   \n",
       "4                                                0.25                                   \n",
       "..                                                ...                                   \n",
       "70                                               1.00                                   \n",
       "71                                               0.25                                   \n",
       "72                                               0.50                                   \n",
       "73                                               0.25                                   \n",
       "74                                               0.50                                   \n",
       "\n",
       "    How many colleagues do you know vape in your workplace?  \\\n",
       "0                                                0.05         \n",
       "1                                                0.00         \n",
       "2                                                0.00         \n",
       "3                                                0.15         \n",
       "4                                                0.10         \n",
       "..                                                ...         \n",
       "70                                               0.50         \n",
       "71                                               0.05         \n",
       "72                                               0.15         \n",
       "73                                               0.05         \n",
       "74                                               0.05         \n",
       "\n",
       "    When did you join the workplace?_After Covid (After April 2022)  \\\n",
       "0                                                 0.0                 \n",
       "1                                                 0.0                 \n",
       "2                                                 0.0                 \n",
       "3                                                 0.0                 \n",
       "4                                                 1.0                 \n",
       "..                                                ...                 \n",
       "70                                                0.0                 \n",
       "71                                                0.0                 \n",
       "72                                                0.0                 \n",
       "73                                                0.0                 \n",
       "74                                                0.0                 \n",
       "\n",
       "    When did you join the workplace?_During Covid  \\\n",
       "0                                             0.0   \n",
       "1                                             0.0   \n",
       "2                                             1.0   \n",
       "3                                             0.0   \n",
       "4                                             0.0   \n",
       "..                                            ...   \n",
       "70                                            0.0   \n",
       "71                                            1.0   \n",
       "72                                            1.0   \n",
       "73                                            0.0   \n",
       "74                                            0.0   \n",
       "\n",
       "    When did you join the workplace?_Pre-Covid (Before March 2020)  \n",
       "0                                                 1.0               \n",
       "1                                                 1.0               \n",
       "2                                                 0.0               \n",
       "3                                                 1.0               \n",
       "4                                                 0.0               \n",
       "..                                                ...               \n",
       "70                                                1.0               \n",
       "71                                                0.0               \n",
       "72                                                0.0               \n",
       "73                                                1.0               \n",
       "74                                                1.0               \n",
       "\n",
       "[75 rows x 9 columns]"
      ]
     },
     "execution_count": 67,
     "metadata": {},
     "output_type": "execute_result"
    }
   ],
   "source": [
    "\n",
    "workdf_gmmdata= workdf_aggdata_scaled.drop('cluster', axis=1)\n",
    "\n",
    "workdf_gmmdata= workdf_gmmdata.drop('Vaped', axis=1)\n",
    "workdf_gmmdata"
   ]
  },
  {
   "cell_type": "markdown",
   "metadata": {},
   "source": [
    "## Clustering by the work background (soft clustering)"
   ]
  },
  {
   "cell_type": "code",
   "execution_count": 68,
   "metadata": {},
   "outputs": [],
   "source": [
    "from sklearn.mixture import GaussianMixture"
   ]
  },
  {
   "cell_type": "code",
   "execution_count": 69,
   "metadata": {},
   "outputs": [],
   "source": [
    "workdf_gmm = GaussianMixture(n_components=3, max_iter = 300, n_init = 5, random_state = 99)\n",
    "workdf_gmm.fit(workdf_gmmdata)\n",
    "\n",
    "#predictions from gmm, the labels will give the cluster with the highest probability (aka proba)\n",
    "workdf_labels = workdf_gmm.predict(workdf_gmmdata)\n"
   ]
  },
  {
   "cell_type": "code",
   "execution_count": 70,
   "metadata": {},
   "outputs": [
    {
     "data": {
      "text/plain": [
       "array([2, 2, 0, 2, 1, 1, 2, 2, 1, 1, 2, 1, 2, 0, 1, 1, 0, 2, 1, 2, 1, 1,\n",
       "       2, 1, 1, 1, 0, 0, 0, 2, 0, 0, 1, 0, 1, 1, 0, 1, 0, 0, 0, 1, 1, 0,\n",
       "       1, 1, 1, 2, 2, 0, 1, 2, 2, 0, 2, 2, 1, 2, 1, 1, 1, 1, 0, 2, 1, 0,\n",
       "       1, 1, 1, 0, 2, 0, 0, 2, 2], dtype=int64)"
      ]
     },
     "execution_count": 70,
     "metadata": {},
     "output_type": "execute_result"
    }
   ],
   "source": [
    "workdf_labels"
   ]
  },
  {
   "cell_type": "code",
   "execution_count": 71,
   "metadata": {},
   "outputs": [
    {
     "data": {
      "text/html": [
       "<div>\n",
       "<style scoped>\n",
       "    .dataframe tbody tr th:only-of-type {\n",
       "        vertical-align: middle;\n",
       "    }\n",
       "\n",
       "    .dataframe tbody tr th {\n",
       "        vertical-align: top;\n",
       "    }\n",
       "\n",
       "    .dataframe thead th {\n",
       "        text-align: right;\n",
       "    }\n",
       "</style>\n",
       "<table border=\"1\" class=\"dataframe\">\n",
       "  <thead>\n",
       "    <tr style=\"text-align: right;\">\n",
       "      <th></th>\n",
       "      <th>Cluster 0 Prob</th>\n",
       "      <th>Cluster 1 Prob</th>\n",
       "      <th>Cluster 2 Prob</th>\n",
       "    </tr>\n",
       "  </thead>\n",
       "  <tbody>\n",
       "    <tr>\n",
       "      <th>0</th>\n",
       "      <td>0.0</td>\n",
       "      <td>0.0</td>\n",
       "      <td>1.0</td>\n",
       "    </tr>\n",
       "    <tr>\n",
       "      <th>1</th>\n",
       "      <td>0.0</td>\n",
       "      <td>0.0</td>\n",
       "      <td>1.0</td>\n",
       "    </tr>\n",
       "    <tr>\n",
       "      <th>2</th>\n",
       "      <td>1.0</td>\n",
       "      <td>0.0</td>\n",
       "      <td>0.0</td>\n",
       "    </tr>\n",
       "    <tr>\n",
       "      <th>3</th>\n",
       "      <td>0.0</td>\n",
       "      <td>0.0</td>\n",
       "      <td>1.0</td>\n",
       "    </tr>\n",
       "    <tr>\n",
       "      <th>4</th>\n",
       "      <td>0.0</td>\n",
       "      <td>1.0</td>\n",
       "      <td>0.0</td>\n",
       "    </tr>\n",
       "    <tr>\n",
       "      <th>...</th>\n",
       "      <td>...</td>\n",
       "      <td>...</td>\n",
       "      <td>...</td>\n",
       "    </tr>\n",
       "    <tr>\n",
       "      <th>70</th>\n",
       "      <td>0.0</td>\n",
       "      <td>0.0</td>\n",
       "      <td>1.0</td>\n",
       "    </tr>\n",
       "    <tr>\n",
       "      <th>71</th>\n",
       "      <td>1.0</td>\n",
       "      <td>0.0</td>\n",
       "      <td>0.0</td>\n",
       "    </tr>\n",
       "    <tr>\n",
       "      <th>72</th>\n",
       "      <td>1.0</td>\n",
       "      <td>0.0</td>\n",
       "      <td>0.0</td>\n",
       "    </tr>\n",
       "    <tr>\n",
       "      <th>73</th>\n",
       "      <td>0.0</td>\n",
       "      <td>0.0</td>\n",
       "      <td>1.0</td>\n",
       "    </tr>\n",
       "    <tr>\n",
       "      <th>74</th>\n",
       "      <td>0.0</td>\n",
       "      <td>0.0</td>\n",
       "      <td>1.0</td>\n",
       "    </tr>\n",
       "  </tbody>\n",
       "</table>\n",
       "<p>75 rows × 3 columns</p>\n",
       "</div>"
      ],
      "text/plain": [
       "    Cluster 0 Prob  Cluster 1 Prob  Cluster 2 Prob\n",
       "0              0.0             0.0             1.0\n",
       "1              0.0             0.0             1.0\n",
       "2              1.0             0.0             0.0\n",
       "3              0.0             0.0             1.0\n",
       "4              0.0             1.0             0.0\n",
       "..             ...             ...             ...\n",
       "70             0.0             0.0             1.0\n",
       "71             1.0             0.0             0.0\n",
       "72             1.0             0.0             0.0\n",
       "73             0.0             0.0             1.0\n",
       "74             0.0             0.0             1.0\n",
       "\n",
       "[75 rows x 3 columns]"
      ]
     },
     "execution_count": 71,
     "metadata": {},
     "output_type": "execute_result"
    }
   ],
   "source": [
    "# Check out the soft assignment features\n",
    "probs = workdf_gmm.predict_proba(workdf_gmmdata)\n",
    "\n",
    "# Each cluster is given a probability (i.e., proba)\n",
    "workdf_gmm_output = pd.DataFrame(probs.round(3), columns = ['Cluster 0 Prob', 'Cluster 1 Prob', 'Cluster 2 Prob'])\n",
    "workdf_gmm_output"
   ]
  },
  {
   "cell_type": "code",
   "execution_count": 72,
   "metadata": {},
   "outputs": [
    {
     "data": {
      "text/html": [
       "<div>\n",
       "<style scoped>\n",
       "    .dataframe tbody tr th:only-of-type {\n",
       "        vertical-align: middle;\n",
       "    }\n",
       "\n",
       "    .dataframe tbody tr th {\n",
       "        vertical-align: top;\n",
       "    }\n",
       "\n",
       "    .dataframe thead th {\n",
       "        text-align: right;\n",
       "    }\n",
       "</style>\n",
       "<table border=\"1\" class=\"dataframe\">\n",
       "  <thead>\n",
       "    <tr style=\"text-align: right;\">\n",
       "      <th></th>\n",
       "      <th>Rate the following levels regarding your workplace - Job Satisfaction</th>\n",
       "      <th>Rate the following levels regarding your workplace - Happiness to come into work</th>\n",
       "      <th>Rate the following levels regarding your workplace - Workload</th>\n",
       "      <th>Rate the following levels regarding your workplace - Anxiety Level regarding work</th>\n",
       "      <th>Rate the following levels regarding your workplace - Toxicity of work environment</th>\n",
       "      <th>How many colleagues do you know vape in your workplace?</th>\n",
       "      <th>When did you join the workplace?_After Covid (After April 2022)</th>\n",
       "      <th>When did you join the workplace?_During Covid</th>\n",
       "      <th>When did you join the workplace?_Pre-Covid (Before March 2020)</th>\n",
       "      <th>cluster</th>\n",
       "    </tr>\n",
       "  </thead>\n",
       "  <tbody>\n",
       "    <tr>\n",
       "      <th>0</th>\n",
       "      <td>0.75</td>\n",
       "      <td>0.50</td>\n",
       "      <td>0.50</td>\n",
       "      <td>0.00</td>\n",
       "      <td>0.00</td>\n",
       "      <td>0.05</td>\n",
       "      <td>0.0</td>\n",
       "      <td>0.0</td>\n",
       "      <td>1.0</td>\n",
       "      <td>2</td>\n",
       "    </tr>\n",
       "    <tr>\n",
       "      <th>1</th>\n",
       "      <td>0.75</td>\n",
       "      <td>0.75</td>\n",
       "      <td>0.75</td>\n",
       "      <td>0.75</td>\n",
       "      <td>0.50</td>\n",
       "      <td>0.00</td>\n",
       "      <td>0.0</td>\n",
       "      <td>0.0</td>\n",
       "      <td>1.0</td>\n",
       "      <td>2</td>\n",
       "    </tr>\n",
       "    <tr>\n",
       "      <th>2</th>\n",
       "      <td>0.00</td>\n",
       "      <td>0.00</td>\n",
       "      <td>1.00</td>\n",
       "      <td>0.75</td>\n",
       "      <td>0.50</td>\n",
       "      <td>0.00</td>\n",
       "      <td>0.0</td>\n",
       "      <td>1.0</td>\n",
       "      <td>0.0</td>\n",
       "      <td>0</td>\n",
       "    </tr>\n",
       "    <tr>\n",
       "      <th>3</th>\n",
       "      <td>0.75</td>\n",
       "      <td>0.75</td>\n",
       "      <td>0.75</td>\n",
       "      <td>0.50</td>\n",
       "      <td>0.25</td>\n",
       "      <td>0.15</td>\n",
       "      <td>0.0</td>\n",
       "      <td>0.0</td>\n",
       "      <td>1.0</td>\n",
       "      <td>2</td>\n",
       "    </tr>\n",
       "    <tr>\n",
       "      <th>4</th>\n",
       "      <td>0.50</td>\n",
       "      <td>0.50</td>\n",
       "      <td>0.75</td>\n",
       "      <td>0.25</td>\n",
       "      <td>0.25</td>\n",
       "      <td>0.10</td>\n",
       "      <td>1.0</td>\n",
       "      <td>0.0</td>\n",
       "      <td>0.0</td>\n",
       "      <td>1</td>\n",
       "    </tr>\n",
       "    <tr>\n",
       "      <th>...</th>\n",
       "      <td>...</td>\n",
       "      <td>...</td>\n",
       "      <td>...</td>\n",
       "      <td>...</td>\n",
       "      <td>...</td>\n",
       "      <td>...</td>\n",
       "      <td>...</td>\n",
       "      <td>...</td>\n",
       "      <td>...</td>\n",
       "      <td>...</td>\n",
       "    </tr>\n",
       "    <tr>\n",
       "      <th>70</th>\n",
       "      <td>0.75</td>\n",
       "      <td>0.75</td>\n",
       "      <td>0.50</td>\n",
       "      <td>0.25</td>\n",
       "      <td>1.00</td>\n",
       "      <td>0.50</td>\n",
       "      <td>0.0</td>\n",
       "      <td>0.0</td>\n",
       "      <td>1.0</td>\n",
       "      <td>2</td>\n",
       "    </tr>\n",
       "    <tr>\n",
       "      <th>71</th>\n",
       "      <td>0.50</td>\n",
       "      <td>0.50</td>\n",
       "      <td>0.25</td>\n",
       "      <td>0.25</td>\n",
       "      <td>0.25</td>\n",
       "      <td>0.05</td>\n",
       "      <td>0.0</td>\n",
       "      <td>1.0</td>\n",
       "      <td>0.0</td>\n",
       "      <td>0</td>\n",
       "    </tr>\n",
       "    <tr>\n",
       "      <th>72</th>\n",
       "      <td>0.25</td>\n",
       "      <td>0.00</td>\n",
       "      <td>1.00</td>\n",
       "      <td>0.75</td>\n",
       "      <td>0.50</td>\n",
       "      <td>0.15</td>\n",
       "      <td>0.0</td>\n",
       "      <td>1.0</td>\n",
       "      <td>0.0</td>\n",
       "      <td>0</td>\n",
       "    </tr>\n",
       "    <tr>\n",
       "      <th>73</th>\n",
       "      <td>0.75</td>\n",
       "      <td>0.75</td>\n",
       "      <td>1.00</td>\n",
       "      <td>1.00</td>\n",
       "      <td>0.25</td>\n",
       "      <td>0.05</td>\n",
       "      <td>0.0</td>\n",
       "      <td>0.0</td>\n",
       "      <td>1.0</td>\n",
       "      <td>2</td>\n",
       "    </tr>\n",
       "    <tr>\n",
       "      <th>74</th>\n",
       "      <td>0.50</td>\n",
       "      <td>0.50</td>\n",
       "      <td>0.50</td>\n",
       "      <td>0.50</td>\n",
       "      <td>0.50</td>\n",
       "      <td>0.05</td>\n",
       "      <td>0.0</td>\n",
       "      <td>0.0</td>\n",
       "      <td>1.0</td>\n",
       "      <td>2</td>\n",
       "    </tr>\n",
       "  </tbody>\n",
       "</table>\n",
       "<p>75 rows × 10 columns</p>\n",
       "</div>"
      ],
      "text/plain": [
       "    Rate the following levels regarding your workplace - Job Satisfaction  \\\n",
       "0                                                0.75                       \n",
       "1                                                0.75                       \n",
       "2                                                0.00                       \n",
       "3                                                0.75                       \n",
       "4                                                0.50                       \n",
       "..                                                ...                       \n",
       "70                                               0.75                       \n",
       "71                                               0.50                       \n",
       "72                                               0.25                       \n",
       "73                                               0.75                       \n",
       "74                                               0.50                       \n",
       "\n",
       "    Rate the following levels regarding your workplace - Happiness to come into work  \\\n",
       "0                                                0.50                                  \n",
       "1                                                0.75                                  \n",
       "2                                                0.00                                  \n",
       "3                                                0.75                                  \n",
       "4                                                0.50                                  \n",
       "..                                                ...                                  \n",
       "70                                               0.75                                  \n",
       "71                                               0.50                                  \n",
       "72                                               0.00                                  \n",
       "73                                               0.75                                  \n",
       "74                                               0.50                                  \n",
       "\n",
       "    Rate the following levels regarding your workplace - Workload  \\\n",
       "0                                                0.50               \n",
       "1                                                0.75               \n",
       "2                                                1.00               \n",
       "3                                                0.75               \n",
       "4                                                0.75               \n",
       "..                                                ...               \n",
       "70                                               0.50               \n",
       "71                                               0.25               \n",
       "72                                               1.00               \n",
       "73                                               1.00               \n",
       "74                                               0.50               \n",
       "\n",
       "    Rate the following levels regarding your workplace - Anxiety Level regarding work  \\\n",
       "0                                                0.00                                   \n",
       "1                                                0.75                                   \n",
       "2                                                0.75                                   \n",
       "3                                                0.50                                   \n",
       "4                                                0.25                                   \n",
       "..                                                ...                                   \n",
       "70                                               0.25                                   \n",
       "71                                               0.25                                   \n",
       "72                                               0.75                                   \n",
       "73                                               1.00                                   \n",
       "74                                               0.50                                   \n",
       "\n",
       "    Rate the following levels regarding your workplace - Toxicity of work environment  \\\n",
       "0                                                0.00                                   \n",
       "1                                                0.50                                   \n",
       "2                                                0.50                                   \n",
       "3                                                0.25                                   \n",
       "4                                                0.25                                   \n",
       "..                                                ...                                   \n",
       "70                                               1.00                                   \n",
       "71                                               0.25                                   \n",
       "72                                               0.50                                   \n",
       "73                                               0.25                                   \n",
       "74                                               0.50                                   \n",
       "\n",
       "    How many colleagues do you know vape in your workplace?  \\\n",
       "0                                                0.05         \n",
       "1                                                0.00         \n",
       "2                                                0.00         \n",
       "3                                                0.15         \n",
       "4                                                0.10         \n",
       "..                                                ...         \n",
       "70                                               0.50         \n",
       "71                                               0.05         \n",
       "72                                               0.15         \n",
       "73                                               0.05         \n",
       "74                                               0.05         \n",
       "\n",
       "    When did you join the workplace?_After Covid (After April 2022)  \\\n",
       "0                                                 0.0                 \n",
       "1                                                 0.0                 \n",
       "2                                                 0.0                 \n",
       "3                                                 0.0                 \n",
       "4                                                 1.0                 \n",
       "..                                                ...                 \n",
       "70                                                0.0                 \n",
       "71                                                0.0                 \n",
       "72                                                0.0                 \n",
       "73                                                0.0                 \n",
       "74                                                0.0                 \n",
       "\n",
       "    When did you join the workplace?_During Covid  \\\n",
       "0                                             0.0   \n",
       "1                                             0.0   \n",
       "2                                             1.0   \n",
       "3                                             0.0   \n",
       "4                                             0.0   \n",
       "..                                            ...   \n",
       "70                                            0.0   \n",
       "71                                            1.0   \n",
       "72                                            1.0   \n",
       "73                                            0.0   \n",
       "74                                            0.0   \n",
       "\n",
       "    When did you join the workplace?_Pre-Covid (Before March 2020)  cluster  \n",
       "0                                                 1.0                     2  \n",
       "1                                                 1.0                     2  \n",
       "2                                                 0.0                     0  \n",
       "3                                                 1.0                     2  \n",
       "4                                                 0.0                     1  \n",
       "..                                                ...                   ...  \n",
       "70                                                1.0                     2  \n",
       "71                                                0.0                     0  \n",
       "72                                                0.0                     0  \n",
       "73                                                1.0                     2  \n",
       "74                                                1.0                     2  \n",
       "\n",
       "[75 rows x 10 columns]"
      ]
     },
     "execution_count": 72,
     "metadata": {},
     "output_type": "execute_result"
    }
   ],
   "source": [
    "# Taking the highest probability and assign as cluster (this is like hard clustering)\n",
    "workdf_gmmdata['cluster'] = workdf_labels\n",
    "workdf_gmmdata"
   ]
  },
  {
   "cell_type": "code",
   "execution_count": 73,
   "metadata": {},
   "outputs": [
    {
     "data": {
      "application/vnd.plotly.v1+json": {
       "config": {
        "plotlyServerURL": "https://plot.ly"
       },
       "data": [
        {
         "hovertemplate": "cluster=0<br>value=%{r}<br>variable=%{theta}<extra></extra>",
         "legendgroup": "0",
         "line": {
          "color": "#636efa",
          "dash": "solid"
         },
         "marker": {
          "symbol": "circle"
         },
         "mode": "lines",
         "name": "0",
         "r": [
          0.5952380952380952,
          0.5476190476190477,
          0.7261904761904762,
          0.5357142857142857,
          0.2261904761904762,
          0.07857142857142858,
          0,
          1,
          0,
          0.5952380952380952
         ],
         "showlegend": true,
         "subplot": "polar",
         "theta": [
          "Rate the following levels regarding your workplace - Job Satisfaction",
          "Rate the following levels regarding your workplace - Happiness to come into work",
          "Rate the following levels regarding your workplace - Workload",
          "Rate the following levels regarding your workplace - Anxiety Level regarding work",
          "Rate the following levels regarding your workplace - Toxicity of work environment",
          "How many colleagues do you know vape in your workplace?",
          "When did you join the workplace?_After Covid (After April 2022)",
          "When did you join the workplace?_During Covid",
          "When did you join the workplace?_Pre-Covid (Before March 2020)",
          "Rate the following levels regarding your workplace - Job Satisfaction"
         ],
         "type": "scatterpolar"
        },
        {
         "hovertemplate": "cluster=1<br>value=%{r}<br>variable=%{theta}<extra></extra>",
         "legendgroup": "1",
         "line": {
          "color": "#EF553B",
          "dash": "solid"
         },
         "marker": {
          "symbol": "circle"
         },
         "mode": "lines",
         "name": "1",
         "r": [
          0.6875,
          0.6484375,
          0.6875,
          0.515625,
          0.2890625,
          0.1015625,
          1,
          0,
          0,
          0.6875
         ],
         "showlegend": true,
         "subplot": "polar",
         "theta": [
          "Rate the following levels regarding your workplace - Job Satisfaction",
          "Rate the following levels regarding your workplace - Happiness to come into work",
          "Rate the following levels regarding your workplace - Workload",
          "Rate the following levels regarding your workplace - Anxiety Level regarding work",
          "Rate the following levels regarding your workplace - Toxicity of work environment",
          "How many colleagues do you know vape in your workplace?",
          "When did you join the workplace?_After Covid (After April 2022)",
          "When did you join the workplace?_During Covid",
          "When did you join the workplace?_Pre-Covid (Before March 2020)",
          "Rate the following levels regarding your workplace - Job Satisfaction"
         ],
         "type": "scatterpolar"
        },
        {
         "hovertemplate": "cluster=2<br>value=%{r}<br>variable=%{theta}<extra></extra>",
         "legendgroup": "2",
         "line": {
          "color": "#00cc96",
          "dash": "solid"
         },
         "marker": {
          "symbol": "circle"
         },
         "mode": "lines",
         "name": "2",
         "r": [
          0.6363636363636364,
          0.5795454545454546,
          0.7159090909090909,
          0.6022727272727273,
          0.36363636363636365,
          0.08863636363636364,
          0,
          0,
          1,
          0.6363636363636364
         ],
         "showlegend": true,
         "subplot": "polar",
         "theta": [
          "Rate the following levels regarding your workplace - Job Satisfaction",
          "Rate the following levels regarding your workplace - Happiness to come into work",
          "Rate the following levels regarding your workplace - Workload",
          "Rate the following levels regarding your workplace - Anxiety Level regarding work",
          "Rate the following levels regarding your workplace - Toxicity of work environment",
          "How many colleagues do you know vape in your workplace?",
          "When did you join the workplace?_After Covid (After April 2022)",
          "When did you join the workplace?_During Covid",
          "When did you join the workplace?_Pre-Covid (Before March 2020)",
          "Rate the following levels regarding your workplace - Job Satisfaction"
         ],
         "type": "scatterpolar"
        }
       ],
       "layout": {
        "height": 800,
        "legend": {
         "title": {
          "text": "cluster"
         },
         "tracegroupgap": 0
        },
        "margin": {
         "t": 60
        },
        "polar": {
         "angularaxis": {
          "direction": "clockwise",
          "rotation": 90
         },
         "domain": {
          "x": [
           0,
           1
          ],
          "y": [
           0,
           1
          ]
         }
        },
        "template": {
         "data": {
          "bar": [
           {
            "error_x": {
             "color": "#2a3f5f"
            },
            "error_y": {
             "color": "#2a3f5f"
            },
            "marker": {
             "line": {
              "color": "#E5ECF6",
              "width": 0.5
             },
             "pattern": {
              "fillmode": "overlay",
              "size": 10,
              "solidity": 0.2
             }
            },
            "type": "bar"
           }
          ],
          "barpolar": [
           {
            "marker": {
             "line": {
              "color": "#E5ECF6",
              "width": 0.5
             },
             "pattern": {
              "fillmode": "overlay",
              "size": 10,
              "solidity": 0.2
             }
            },
            "type": "barpolar"
           }
          ],
          "carpet": [
           {
            "aaxis": {
             "endlinecolor": "#2a3f5f",
             "gridcolor": "white",
             "linecolor": "white",
             "minorgridcolor": "white",
             "startlinecolor": "#2a3f5f"
            },
            "baxis": {
             "endlinecolor": "#2a3f5f",
             "gridcolor": "white",
             "linecolor": "white",
             "minorgridcolor": "white",
             "startlinecolor": "#2a3f5f"
            },
            "type": "carpet"
           }
          ],
          "choropleth": [
           {
            "colorbar": {
             "outlinewidth": 0,
             "ticks": ""
            },
            "type": "choropleth"
           }
          ],
          "contour": [
           {
            "colorbar": {
             "outlinewidth": 0,
             "ticks": ""
            },
            "colorscale": [
             [
              0,
              "#0d0887"
             ],
             [
              0.1111111111111111,
              "#46039f"
             ],
             [
              0.2222222222222222,
              "#7201a8"
             ],
             [
              0.3333333333333333,
              "#9c179e"
             ],
             [
              0.4444444444444444,
              "#bd3786"
             ],
             [
              0.5555555555555556,
              "#d8576b"
             ],
             [
              0.6666666666666666,
              "#ed7953"
             ],
             [
              0.7777777777777778,
              "#fb9f3a"
             ],
             [
              0.8888888888888888,
              "#fdca26"
             ],
             [
              1,
              "#f0f921"
             ]
            ],
            "type": "contour"
           }
          ],
          "contourcarpet": [
           {
            "colorbar": {
             "outlinewidth": 0,
             "ticks": ""
            },
            "type": "contourcarpet"
           }
          ],
          "heatmap": [
           {
            "colorbar": {
             "outlinewidth": 0,
             "ticks": ""
            },
            "colorscale": [
             [
              0,
              "#0d0887"
             ],
             [
              0.1111111111111111,
              "#46039f"
             ],
             [
              0.2222222222222222,
              "#7201a8"
             ],
             [
              0.3333333333333333,
              "#9c179e"
             ],
             [
              0.4444444444444444,
              "#bd3786"
             ],
             [
              0.5555555555555556,
              "#d8576b"
             ],
             [
              0.6666666666666666,
              "#ed7953"
             ],
             [
              0.7777777777777778,
              "#fb9f3a"
             ],
             [
              0.8888888888888888,
              "#fdca26"
             ],
             [
              1,
              "#f0f921"
             ]
            ],
            "type": "heatmap"
           }
          ],
          "heatmapgl": [
           {
            "colorbar": {
             "outlinewidth": 0,
             "ticks": ""
            },
            "colorscale": [
             [
              0,
              "#0d0887"
             ],
             [
              0.1111111111111111,
              "#46039f"
             ],
             [
              0.2222222222222222,
              "#7201a8"
             ],
             [
              0.3333333333333333,
              "#9c179e"
             ],
             [
              0.4444444444444444,
              "#bd3786"
             ],
             [
              0.5555555555555556,
              "#d8576b"
             ],
             [
              0.6666666666666666,
              "#ed7953"
             ],
             [
              0.7777777777777778,
              "#fb9f3a"
             ],
             [
              0.8888888888888888,
              "#fdca26"
             ],
             [
              1,
              "#f0f921"
             ]
            ],
            "type": "heatmapgl"
           }
          ],
          "histogram": [
           {
            "marker": {
             "pattern": {
              "fillmode": "overlay",
              "size": 10,
              "solidity": 0.2
             }
            },
            "type": "histogram"
           }
          ],
          "histogram2d": [
           {
            "colorbar": {
             "outlinewidth": 0,
             "ticks": ""
            },
            "colorscale": [
             [
              0,
              "#0d0887"
             ],
             [
              0.1111111111111111,
              "#46039f"
             ],
             [
              0.2222222222222222,
              "#7201a8"
             ],
             [
              0.3333333333333333,
              "#9c179e"
             ],
             [
              0.4444444444444444,
              "#bd3786"
             ],
             [
              0.5555555555555556,
              "#d8576b"
             ],
             [
              0.6666666666666666,
              "#ed7953"
             ],
             [
              0.7777777777777778,
              "#fb9f3a"
             ],
             [
              0.8888888888888888,
              "#fdca26"
             ],
             [
              1,
              "#f0f921"
             ]
            ],
            "type": "histogram2d"
           }
          ],
          "histogram2dcontour": [
           {
            "colorbar": {
             "outlinewidth": 0,
             "ticks": ""
            },
            "colorscale": [
             [
              0,
              "#0d0887"
             ],
             [
              0.1111111111111111,
              "#46039f"
             ],
             [
              0.2222222222222222,
              "#7201a8"
             ],
             [
              0.3333333333333333,
              "#9c179e"
             ],
             [
              0.4444444444444444,
              "#bd3786"
             ],
             [
              0.5555555555555556,
              "#d8576b"
             ],
             [
              0.6666666666666666,
              "#ed7953"
             ],
             [
              0.7777777777777778,
              "#fb9f3a"
             ],
             [
              0.8888888888888888,
              "#fdca26"
             ],
             [
              1,
              "#f0f921"
             ]
            ],
            "type": "histogram2dcontour"
           }
          ],
          "mesh3d": [
           {
            "colorbar": {
             "outlinewidth": 0,
             "ticks": ""
            },
            "type": "mesh3d"
           }
          ],
          "parcoords": [
           {
            "line": {
             "colorbar": {
              "outlinewidth": 0,
              "ticks": ""
             }
            },
            "type": "parcoords"
           }
          ],
          "pie": [
           {
            "automargin": true,
            "type": "pie"
           }
          ],
          "scatter": [
           {
            "fillpattern": {
             "fillmode": "overlay",
             "size": 10,
             "solidity": 0.2
            },
            "type": "scatter"
           }
          ],
          "scatter3d": [
           {
            "line": {
             "colorbar": {
              "outlinewidth": 0,
              "ticks": ""
             }
            },
            "marker": {
             "colorbar": {
              "outlinewidth": 0,
              "ticks": ""
             }
            },
            "type": "scatter3d"
           }
          ],
          "scattercarpet": [
           {
            "marker": {
             "colorbar": {
              "outlinewidth": 0,
              "ticks": ""
             }
            },
            "type": "scattercarpet"
           }
          ],
          "scattergeo": [
           {
            "marker": {
             "colorbar": {
              "outlinewidth": 0,
              "ticks": ""
             }
            },
            "type": "scattergeo"
           }
          ],
          "scattergl": [
           {
            "marker": {
             "colorbar": {
              "outlinewidth": 0,
              "ticks": ""
             }
            },
            "type": "scattergl"
           }
          ],
          "scattermapbox": [
           {
            "marker": {
             "colorbar": {
              "outlinewidth": 0,
              "ticks": ""
             }
            },
            "type": "scattermapbox"
           }
          ],
          "scatterpolar": [
           {
            "marker": {
             "colorbar": {
              "outlinewidth": 0,
              "ticks": ""
             }
            },
            "type": "scatterpolar"
           }
          ],
          "scatterpolargl": [
           {
            "marker": {
             "colorbar": {
              "outlinewidth": 0,
              "ticks": ""
             }
            },
            "type": "scatterpolargl"
           }
          ],
          "scatterternary": [
           {
            "marker": {
             "colorbar": {
              "outlinewidth": 0,
              "ticks": ""
             }
            },
            "type": "scatterternary"
           }
          ],
          "surface": [
           {
            "colorbar": {
             "outlinewidth": 0,
             "ticks": ""
            },
            "colorscale": [
             [
              0,
              "#0d0887"
             ],
             [
              0.1111111111111111,
              "#46039f"
             ],
             [
              0.2222222222222222,
              "#7201a8"
             ],
             [
              0.3333333333333333,
              "#9c179e"
             ],
             [
              0.4444444444444444,
              "#bd3786"
             ],
             [
              0.5555555555555556,
              "#d8576b"
             ],
             [
              0.6666666666666666,
              "#ed7953"
             ],
             [
              0.7777777777777778,
              "#fb9f3a"
             ],
             [
              0.8888888888888888,
              "#fdca26"
             ],
             [
              1,
              "#f0f921"
             ]
            ],
            "type": "surface"
           }
          ],
          "table": [
           {
            "cells": {
             "fill": {
              "color": "#EBF0F8"
             },
             "line": {
              "color": "white"
             }
            },
            "header": {
             "fill": {
              "color": "#C8D4E3"
             },
             "line": {
              "color": "white"
             }
            },
            "type": "table"
           }
          ]
         },
         "layout": {
          "annotationdefaults": {
           "arrowcolor": "#2a3f5f",
           "arrowhead": 0,
           "arrowwidth": 1
          },
          "autotypenumbers": "strict",
          "coloraxis": {
           "colorbar": {
            "outlinewidth": 0,
            "ticks": ""
           }
          },
          "colorscale": {
           "diverging": [
            [
             0,
             "#8e0152"
            ],
            [
             0.1,
             "#c51b7d"
            ],
            [
             0.2,
             "#de77ae"
            ],
            [
             0.3,
             "#f1b6da"
            ],
            [
             0.4,
             "#fde0ef"
            ],
            [
             0.5,
             "#f7f7f7"
            ],
            [
             0.6,
             "#e6f5d0"
            ],
            [
             0.7,
             "#b8e186"
            ],
            [
             0.8,
             "#7fbc41"
            ],
            [
             0.9,
             "#4d9221"
            ],
            [
             1,
             "#276419"
            ]
           ],
           "sequential": [
            [
             0,
             "#0d0887"
            ],
            [
             0.1111111111111111,
             "#46039f"
            ],
            [
             0.2222222222222222,
             "#7201a8"
            ],
            [
             0.3333333333333333,
             "#9c179e"
            ],
            [
             0.4444444444444444,
             "#bd3786"
            ],
            [
             0.5555555555555556,
             "#d8576b"
            ],
            [
             0.6666666666666666,
             "#ed7953"
            ],
            [
             0.7777777777777778,
             "#fb9f3a"
            ],
            [
             0.8888888888888888,
             "#fdca26"
            ],
            [
             1,
             "#f0f921"
            ]
           ],
           "sequentialminus": [
            [
             0,
             "#0d0887"
            ],
            [
             0.1111111111111111,
             "#46039f"
            ],
            [
             0.2222222222222222,
             "#7201a8"
            ],
            [
             0.3333333333333333,
             "#9c179e"
            ],
            [
             0.4444444444444444,
             "#bd3786"
            ],
            [
             0.5555555555555556,
             "#d8576b"
            ],
            [
             0.6666666666666666,
             "#ed7953"
            ],
            [
             0.7777777777777778,
             "#fb9f3a"
            ],
            [
             0.8888888888888888,
             "#fdca26"
            ],
            [
             1,
             "#f0f921"
            ]
           ]
          },
          "colorway": [
           "#636efa",
           "#EF553B",
           "#00cc96",
           "#ab63fa",
           "#FFA15A",
           "#19d3f3",
           "#FF6692",
           "#B6E880",
           "#FF97FF",
           "#FECB52"
          ],
          "font": {
           "color": "#2a3f5f"
          },
          "geo": {
           "bgcolor": "white",
           "lakecolor": "white",
           "landcolor": "#E5ECF6",
           "showlakes": true,
           "showland": true,
           "subunitcolor": "white"
          },
          "hoverlabel": {
           "align": "left"
          },
          "hovermode": "closest",
          "mapbox": {
           "style": "light"
          },
          "paper_bgcolor": "white",
          "plot_bgcolor": "#E5ECF6",
          "polar": {
           "angularaxis": {
            "gridcolor": "white",
            "linecolor": "white",
            "ticks": ""
           },
           "bgcolor": "#E5ECF6",
           "radialaxis": {
            "gridcolor": "white",
            "linecolor": "white",
            "ticks": ""
           }
          },
          "scene": {
           "xaxis": {
            "backgroundcolor": "#E5ECF6",
            "gridcolor": "white",
            "gridwidth": 2,
            "linecolor": "white",
            "showbackground": true,
            "ticks": "",
            "zerolinecolor": "white"
           },
           "yaxis": {
            "backgroundcolor": "#E5ECF6",
            "gridcolor": "white",
            "gridwidth": 2,
            "linecolor": "white",
            "showbackground": true,
            "ticks": "",
            "zerolinecolor": "white"
           },
           "zaxis": {
            "backgroundcolor": "#E5ECF6",
            "gridcolor": "white",
            "gridwidth": 2,
            "linecolor": "white",
            "showbackground": true,
            "ticks": "",
            "zerolinecolor": "white"
           }
          },
          "shapedefaults": {
           "line": {
            "color": "#2a3f5f"
           }
          },
          "ternary": {
           "aaxis": {
            "gridcolor": "white",
            "linecolor": "white",
            "ticks": ""
           },
           "baxis": {
            "gridcolor": "white",
            "linecolor": "white",
            "ticks": ""
           },
           "bgcolor": "#E5ECF6",
           "caxis": {
            "gridcolor": "white",
            "linecolor": "white",
            "ticks": ""
           }
          },
          "title": {
           "x": 0.05
          },
          "xaxis": {
           "automargin": true,
           "gridcolor": "white",
           "linecolor": "white",
           "ticks": "",
           "title": {
            "standoff": 15
           },
           "zerolinecolor": "white",
           "zerolinewidth": 2
          },
          "yaxis": {
           "automargin": true,
           "gridcolor": "white",
           "linecolor": "white",
           "ticks": "",
           "title": {
            "standoff": 15
           },
           "zerolinecolor": "white",
           "zerolinewidth": 2
          }
         }
        },
        "width": 1400
       }
      },
      "text/html": [
       "<div>                            <div id=\"c85bdfae-3873-4140-878d-90441d582fec\" class=\"plotly-graph-div\" style=\"height:800px; width:1400px;\"></div>            <script type=\"text/javascript\">                require([\"plotly\"], function(Plotly) {                    window.PLOTLYENV=window.PLOTLYENV || {};                                    if (document.getElementById(\"c85bdfae-3873-4140-878d-90441d582fec\")) {                    Plotly.newPlot(                        \"c85bdfae-3873-4140-878d-90441d582fec\",                        [{\"hovertemplate\":\"cluster=0<br>value=%{r}<br>variable=%{theta}<extra></extra>\",\"legendgroup\":\"0\",\"line\":{\"color\":\"#636efa\",\"dash\":\"solid\"},\"marker\":{\"symbol\":\"circle\"},\"mode\":\"lines\",\"name\":\"0\",\"r\":[0.5952380952380952,0.5476190476190477,0.7261904761904762,0.5357142857142857,0.2261904761904762,0.07857142857142858,0.0,1.0,0.0,0.5952380952380952],\"showlegend\":true,\"subplot\":\"polar\",\"theta\":[\"Rate the following levels regarding your workplace - Job Satisfaction\",\"Rate the following levels regarding your workplace - Happiness to come into work\",\"Rate the following levels regarding your workplace - Workload\",\"Rate the following levels regarding your workplace - Anxiety Level regarding work\",\"Rate the following levels regarding your workplace - Toxicity of work environment\",\"How many colleagues do you know vape in your workplace?\",\"When did you join the workplace?_After Covid (After April 2022)\",\"When did you join the workplace?_During Covid\",\"When did you join the workplace?_Pre-Covid (Before March 2020)\",\"Rate the following levels regarding your workplace - Job Satisfaction\"],\"type\":\"scatterpolar\"},{\"hovertemplate\":\"cluster=1<br>value=%{r}<br>variable=%{theta}<extra></extra>\",\"legendgroup\":\"1\",\"line\":{\"color\":\"#EF553B\",\"dash\":\"solid\"},\"marker\":{\"symbol\":\"circle\"},\"mode\":\"lines\",\"name\":\"1\",\"r\":[0.6875,0.6484375,0.6875,0.515625,0.2890625,0.1015625,1.0,0.0,0.0,0.6875],\"showlegend\":true,\"subplot\":\"polar\",\"theta\":[\"Rate the following levels regarding your workplace - Job Satisfaction\",\"Rate the following levels regarding your workplace - Happiness to come into work\",\"Rate the following levels regarding your workplace - Workload\",\"Rate the following levels regarding your workplace - Anxiety Level regarding work\",\"Rate the following levels regarding your workplace - Toxicity of work environment\",\"How many colleagues do you know vape in your workplace?\",\"When did you join the workplace?_After Covid (After April 2022)\",\"When did you join the workplace?_During Covid\",\"When did you join the workplace?_Pre-Covid (Before March 2020)\",\"Rate the following levels regarding your workplace - Job Satisfaction\"],\"type\":\"scatterpolar\"},{\"hovertemplate\":\"cluster=2<br>value=%{r}<br>variable=%{theta}<extra></extra>\",\"legendgroup\":\"2\",\"line\":{\"color\":\"#00cc96\",\"dash\":\"solid\"},\"marker\":{\"symbol\":\"circle\"},\"mode\":\"lines\",\"name\":\"2\",\"r\":[0.6363636363636364,0.5795454545454546,0.7159090909090909,0.6022727272727273,0.36363636363636365,0.08863636363636364,0.0,0.0,1.0,0.6363636363636364],\"showlegend\":true,\"subplot\":\"polar\",\"theta\":[\"Rate the following levels regarding your workplace - Job Satisfaction\",\"Rate the following levels regarding your workplace - Happiness to come into work\",\"Rate the following levels regarding your workplace - Workload\",\"Rate the following levels regarding your workplace - Anxiety Level regarding work\",\"Rate the following levels regarding your workplace - Toxicity of work environment\",\"How many colleagues do you know vape in your workplace?\",\"When did you join the workplace?_After Covid (After April 2022)\",\"When did you join the workplace?_During Covid\",\"When did you join the workplace?_Pre-Covid (Before March 2020)\",\"Rate the following levels regarding your workplace - Job Satisfaction\"],\"type\":\"scatterpolar\"}],                        {\"template\":{\"data\":{\"histogram2dcontour\":[{\"type\":\"histogram2dcontour\",\"colorbar\":{\"outlinewidth\":0,\"ticks\":\"\"},\"colorscale\":[[0.0,\"#0d0887\"],[0.1111111111111111,\"#46039f\"],[0.2222222222222222,\"#7201a8\"],[0.3333333333333333,\"#9c179e\"],[0.4444444444444444,\"#bd3786\"],[0.5555555555555556,\"#d8576b\"],[0.6666666666666666,\"#ed7953\"],[0.7777777777777778,\"#fb9f3a\"],[0.8888888888888888,\"#fdca26\"],[1.0,\"#f0f921\"]]}],\"choropleth\":[{\"type\":\"choropleth\",\"colorbar\":{\"outlinewidth\":0,\"ticks\":\"\"}}],\"histogram2d\":[{\"type\":\"histogram2d\",\"colorbar\":{\"outlinewidth\":0,\"ticks\":\"\"},\"colorscale\":[[0.0,\"#0d0887\"],[0.1111111111111111,\"#46039f\"],[0.2222222222222222,\"#7201a8\"],[0.3333333333333333,\"#9c179e\"],[0.4444444444444444,\"#bd3786\"],[0.5555555555555556,\"#d8576b\"],[0.6666666666666666,\"#ed7953\"],[0.7777777777777778,\"#fb9f3a\"],[0.8888888888888888,\"#fdca26\"],[1.0,\"#f0f921\"]]}],\"heatmap\":[{\"type\":\"heatmap\",\"colorbar\":{\"outlinewidth\":0,\"ticks\":\"\"},\"colorscale\":[[0.0,\"#0d0887\"],[0.1111111111111111,\"#46039f\"],[0.2222222222222222,\"#7201a8\"],[0.3333333333333333,\"#9c179e\"],[0.4444444444444444,\"#bd3786\"],[0.5555555555555556,\"#d8576b\"],[0.6666666666666666,\"#ed7953\"],[0.7777777777777778,\"#fb9f3a\"],[0.8888888888888888,\"#fdca26\"],[1.0,\"#f0f921\"]]}],\"heatmapgl\":[{\"type\":\"heatmapgl\",\"colorbar\":{\"outlinewidth\":0,\"ticks\":\"\"},\"colorscale\":[[0.0,\"#0d0887\"],[0.1111111111111111,\"#46039f\"],[0.2222222222222222,\"#7201a8\"],[0.3333333333333333,\"#9c179e\"],[0.4444444444444444,\"#bd3786\"],[0.5555555555555556,\"#d8576b\"],[0.6666666666666666,\"#ed7953\"],[0.7777777777777778,\"#fb9f3a\"],[0.8888888888888888,\"#fdca26\"],[1.0,\"#f0f921\"]]}],\"contourcarpet\":[{\"type\":\"contourcarpet\",\"colorbar\":{\"outlinewidth\":0,\"ticks\":\"\"}}],\"contour\":[{\"type\":\"contour\",\"colorbar\":{\"outlinewidth\":0,\"ticks\":\"\"},\"colorscale\":[[0.0,\"#0d0887\"],[0.1111111111111111,\"#46039f\"],[0.2222222222222222,\"#7201a8\"],[0.3333333333333333,\"#9c179e\"],[0.4444444444444444,\"#bd3786\"],[0.5555555555555556,\"#d8576b\"],[0.6666666666666666,\"#ed7953\"],[0.7777777777777778,\"#fb9f3a\"],[0.8888888888888888,\"#fdca26\"],[1.0,\"#f0f921\"]]}],\"surface\":[{\"type\":\"surface\",\"colorbar\":{\"outlinewidth\":0,\"ticks\":\"\"},\"colorscale\":[[0.0,\"#0d0887\"],[0.1111111111111111,\"#46039f\"],[0.2222222222222222,\"#7201a8\"],[0.3333333333333333,\"#9c179e\"],[0.4444444444444444,\"#bd3786\"],[0.5555555555555556,\"#d8576b\"],[0.6666666666666666,\"#ed7953\"],[0.7777777777777778,\"#fb9f3a\"],[0.8888888888888888,\"#fdca26\"],[1.0,\"#f0f921\"]]}],\"mesh3d\":[{\"type\":\"mesh3d\",\"colorbar\":{\"outlinewidth\":0,\"ticks\":\"\"}}],\"scatter\":[{\"fillpattern\":{\"fillmode\":\"overlay\",\"size\":10,\"solidity\":0.2},\"type\":\"scatter\"}],\"parcoords\":[{\"type\":\"parcoords\",\"line\":{\"colorbar\":{\"outlinewidth\":0,\"ticks\":\"\"}}}],\"scatterpolargl\":[{\"type\":\"scatterpolargl\",\"marker\":{\"colorbar\":{\"outlinewidth\":0,\"ticks\":\"\"}}}],\"bar\":[{\"error_x\":{\"color\":\"#2a3f5f\"},\"error_y\":{\"color\":\"#2a3f5f\"},\"marker\":{\"line\":{\"color\":\"#E5ECF6\",\"width\":0.5},\"pattern\":{\"fillmode\":\"overlay\",\"size\":10,\"solidity\":0.2}},\"type\":\"bar\"}],\"scattergeo\":[{\"type\":\"scattergeo\",\"marker\":{\"colorbar\":{\"outlinewidth\":0,\"ticks\":\"\"}}}],\"scatterpolar\":[{\"type\":\"scatterpolar\",\"marker\":{\"colorbar\":{\"outlinewidth\":0,\"ticks\":\"\"}}}],\"histogram\":[{\"marker\":{\"pattern\":{\"fillmode\":\"overlay\",\"size\":10,\"solidity\":0.2}},\"type\":\"histogram\"}],\"scattergl\":[{\"type\":\"scattergl\",\"marker\":{\"colorbar\":{\"outlinewidth\":0,\"ticks\":\"\"}}}],\"scatter3d\":[{\"type\":\"scatter3d\",\"line\":{\"colorbar\":{\"outlinewidth\":0,\"ticks\":\"\"}},\"marker\":{\"colorbar\":{\"outlinewidth\":0,\"ticks\":\"\"}}}],\"scattermapbox\":[{\"type\":\"scattermapbox\",\"marker\":{\"colorbar\":{\"outlinewidth\":0,\"ticks\":\"\"}}}],\"scatterternary\":[{\"type\":\"scatterternary\",\"marker\":{\"colorbar\":{\"outlinewidth\":0,\"ticks\":\"\"}}}],\"scattercarpet\":[{\"type\":\"scattercarpet\",\"marker\":{\"colorbar\":{\"outlinewidth\":0,\"ticks\":\"\"}}}],\"carpet\":[{\"aaxis\":{\"endlinecolor\":\"#2a3f5f\",\"gridcolor\":\"white\",\"linecolor\":\"white\",\"minorgridcolor\":\"white\",\"startlinecolor\":\"#2a3f5f\"},\"baxis\":{\"endlinecolor\":\"#2a3f5f\",\"gridcolor\":\"white\",\"linecolor\":\"white\",\"minorgridcolor\":\"white\",\"startlinecolor\":\"#2a3f5f\"},\"type\":\"carpet\"}],\"table\":[{\"cells\":{\"fill\":{\"color\":\"#EBF0F8\"},\"line\":{\"color\":\"white\"}},\"header\":{\"fill\":{\"color\":\"#C8D4E3\"},\"line\":{\"color\":\"white\"}},\"type\":\"table\"}],\"barpolar\":[{\"marker\":{\"line\":{\"color\":\"#E5ECF6\",\"width\":0.5},\"pattern\":{\"fillmode\":\"overlay\",\"size\":10,\"solidity\":0.2}},\"type\":\"barpolar\"}],\"pie\":[{\"automargin\":true,\"type\":\"pie\"}]},\"layout\":{\"autotypenumbers\":\"strict\",\"colorway\":[\"#636efa\",\"#EF553B\",\"#00cc96\",\"#ab63fa\",\"#FFA15A\",\"#19d3f3\",\"#FF6692\",\"#B6E880\",\"#FF97FF\",\"#FECB52\"],\"font\":{\"color\":\"#2a3f5f\"},\"hovermode\":\"closest\",\"hoverlabel\":{\"align\":\"left\"},\"paper_bgcolor\":\"white\",\"plot_bgcolor\":\"#E5ECF6\",\"polar\":{\"bgcolor\":\"#E5ECF6\",\"angularaxis\":{\"gridcolor\":\"white\",\"linecolor\":\"white\",\"ticks\":\"\"},\"radialaxis\":{\"gridcolor\":\"white\",\"linecolor\":\"white\",\"ticks\":\"\"}},\"ternary\":{\"bgcolor\":\"#E5ECF6\",\"aaxis\":{\"gridcolor\":\"white\",\"linecolor\":\"white\",\"ticks\":\"\"},\"baxis\":{\"gridcolor\":\"white\",\"linecolor\":\"white\",\"ticks\":\"\"},\"caxis\":{\"gridcolor\":\"white\",\"linecolor\":\"white\",\"ticks\":\"\"}},\"coloraxis\":{\"colorbar\":{\"outlinewidth\":0,\"ticks\":\"\"}},\"colorscale\":{\"sequential\":[[0.0,\"#0d0887\"],[0.1111111111111111,\"#46039f\"],[0.2222222222222222,\"#7201a8\"],[0.3333333333333333,\"#9c179e\"],[0.4444444444444444,\"#bd3786\"],[0.5555555555555556,\"#d8576b\"],[0.6666666666666666,\"#ed7953\"],[0.7777777777777778,\"#fb9f3a\"],[0.8888888888888888,\"#fdca26\"],[1.0,\"#f0f921\"]],\"sequentialminus\":[[0.0,\"#0d0887\"],[0.1111111111111111,\"#46039f\"],[0.2222222222222222,\"#7201a8\"],[0.3333333333333333,\"#9c179e\"],[0.4444444444444444,\"#bd3786\"],[0.5555555555555556,\"#d8576b\"],[0.6666666666666666,\"#ed7953\"],[0.7777777777777778,\"#fb9f3a\"],[0.8888888888888888,\"#fdca26\"],[1.0,\"#f0f921\"]],\"diverging\":[[0,\"#8e0152\"],[0.1,\"#c51b7d\"],[0.2,\"#de77ae\"],[0.3,\"#f1b6da\"],[0.4,\"#fde0ef\"],[0.5,\"#f7f7f7\"],[0.6,\"#e6f5d0\"],[0.7,\"#b8e186\"],[0.8,\"#7fbc41\"],[0.9,\"#4d9221\"],[1,\"#276419\"]]},\"xaxis\":{\"gridcolor\":\"white\",\"linecolor\":\"white\",\"ticks\":\"\",\"title\":{\"standoff\":15},\"zerolinecolor\":\"white\",\"automargin\":true,\"zerolinewidth\":2},\"yaxis\":{\"gridcolor\":\"white\",\"linecolor\":\"white\",\"ticks\":\"\",\"title\":{\"standoff\":15},\"zerolinecolor\":\"white\",\"automargin\":true,\"zerolinewidth\":2},\"scene\":{\"xaxis\":{\"backgroundcolor\":\"#E5ECF6\",\"gridcolor\":\"white\",\"linecolor\":\"white\",\"showbackground\":true,\"ticks\":\"\",\"zerolinecolor\":\"white\",\"gridwidth\":2},\"yaxis\":{\"backgroundcolor\":\"#E5ECF6\",\"gridcolor\":\"white\",\"linecolor\":\"white\",\"showbackground\":true,\"ticks\":\"\",\"zerolinecolor\":\"white\",\"gridwidth\":2},\"zaxis\":{\"backgroundcolor\":\"#E5ECF6\",\"gridcolor\":\"white\",\"linecolor\":\"white\",\"showbackground\":true,\"ticks\":\"\",\"zerolinecolor\":\"white\",\"gridwidth\":2}},\"shapedefaults\":{\"line\":{\"color\":\"#2a3f5f\"}},\"annotationdefaults\":{\"arrowcolor\":\"#2a3f5f\",\"arrowhead\":0,\"arrowwidth\":1},\"geo\":{\"bgcolor\":\"white\",\"landcolor\":\"#E5ECF6\",\"subunitcolor\":\"white\",\"showland\":true,\"showlakes\":true,\"lakecolor\":\"white\"},\"title\":{\"x\":0.05},\"mapbox\":{\"style\":\"light\"}}},\"polar\":{\"domain\":{\"x\":[0.0,1.0],\"y\":[0.0,1.0]},\"angularaxis\":{\"direction\":\"clockwise\",\"rotation\":90}},\"legend\":{\"title\":{\"text\":\"cluster\"},\"tracegroupgap\":0},\"margin\":{\"t\":60},\"height\":800,\"width\":1400},                        {\"responsive\": true}                    ).then(function(){\n",
       "                            \n",
       "var gd = document.getElementById('c85bdfae-3873-4140-878d-90441d582fec');\n",
       "var x = new MutationObserver(function (mutations, observer) {{\n",
       "        var display = window.getComputedStyle(gd).display;\n",
       "        if (!display || display === 'none') {{\n",
       "            console.log([gd, 'removed!']);\n",
       "            Plotly.purge(gd);\n",
       "            observer.disconnect();\n",
       "        }}\n",
       "}});\n",
       "\n",
       "// Listen for the removal of the full notebook cells\n",
       "var notebookContainer = gd.closest('#notebook-container');\n",
       "if (notebookContainer) {{\n",
       "    x.observe(notebookContainer, {childList: true});\n",
       "}}\n",
       "\n",
       "// Listen for the clearing of the current output cell\n",
       "var outputEl = gd.closest('.output');\n",
       "if (outputEl) {{\n",
       "    x.observe(outputEl, {childList: true});\n",
       "}}\n",
       "\n",
       "                        })                };                });            </script>        </div>"
      ]
     },
     "metadata": {},
     "output_type": "display_data"
    }
   ],
   "source": [
    "polar=workdf_gmmdata.groupby(\"cluster\").mean().reset_index()\n",
    "polar=pd.melt(polar,id_vars=[\"cluster\"])\n",
    "fig3 = px.line_polar(polar, r=\"value\", theta=\"variable\", color=\"cluster\", line_close=True,height=800,width=1400)\n",
    "fig3.show()"
   ]
  },
  {
   "cell_type": "code",
   "execution_count": 74,
   "metadata": {
    "scrolled": true
   },
   "outputs": [
    {
     "data": {
      "text/plain": [
       "<matplotlib.axes._subplots.AxesSubplot at 0x1c693d41dc8>"
      ]
     },
     "execution_count": 74,
     "metadata": {},
     "output_type": "execute_result"
    },
    {
     "data": {
      "image/png": "[encoded data removed]",
      "text/plain": [
       "<Figure size 1440x1080 with 2 Axes>"
      ]
     },
     "metadata": {
      "needs_background": "light"
     },
     "output_type": "display_data"
    }
   ],
   "source": [
    "workdf_clust_means_gmm = pd.DataFrame(workdf_gmmdata.groupby('cluster').mean(), columns=workdf_gmmdata.columns)\n",
    "plt.subplots(figsize=(20,15))\n",
    "sns.heatmap(workdf_clust_means_gmm.T,  linewidths=.5, cmap=\"YlGnBu\")"
   ]
  },
  {
   "cell_type": "code",
   "execution_count": 75,
   "metadata": {},
   "outputs": [
    {
     "data": {
      "text/html": [
       "<div>\n",
       "<style scoped>\n",
       "    .dataframe tbody tr th:only-of-type {\n",
       "        vertical-align: middle;\n",
       "    }\n",
       "\n",
       "    .dataframe tbody tr th {\n",
       "        vertical-align: top;\n",
       "    }\n",
       "\n",
       "    .dataframe thead th {\n",
       "        text-align: right;\n",
       "    }\n",
       "</style>\n",
       "<table border=\"1\" class=\"dataframe\">\n",
       "  <thead>\n",
       "    <tr style=\"text-align: right;\">\n",
       "      <th></th>\n",
       "      <th>Rate the following levels regarding your workplace - Job Satisfaction</th>\n",
       "      <th>Rate the following levels regarding your workplace - Happiness to come into work</th>\n",
       "      <th>Rate the following levels regarding your workplace - Workload</th>\n",
       "      <th>Rate the following levels regarding your workplace - Anxiety Level regarding work</th>\n",
       "      <th>Rate the following levels regarding your workplace - Toxicity of work environment</th>\n",
       "      <th>How many colleagues do you know vape in your workplace?</th>\n",
       "      <th>When did you join the workplace?_After Covid (After April 2022)</th>\n",
       "      <th>When did you join the workplace?_During Covid</th>\n",
       "      <th>When did you join the workplace?_Pre-Covid (Before March 2020)</th>\n",
       "      <th>cluster</th>\n",
       "      <th>Vaped</th>\n",
       "    </tr>\n",
       "  </thead>\n",
       "  <tbody>\n",
       "    <tr>\n",
       "      <th>0</th>\n",
       "      <td>0.75</td>\n",
       "      <td>0.50</td>\n",
       "      <td>0.50</td>\n",
       "      <td>0.00</td>\n",
       "      <td>0.00</td>\n",
       "      <td>0.05</td>\n",
       "      <td>0.0</td>\n",
       "      <td>0.0</td>\n",
       "      <td>1.0</td>\n",
       "      <td>2</td>\n",
       "      <td>Yes</td>\n",
       "    </tr>\n",
       "    <tr>\n",
       "      <th>1</th>\n",
       "      <td>0.75</td>\n",
       "      <td>0.75</td>\n",
       "      <td>0.75</td>\n",
       "      <td>0.75</td>\n",
       "      <td>0.50</td>\n",
       "      <td>0.00</td>\n",
       "      <td>0.0</td>\n",
       "      <td>0.0</td>\n",
       "      <td>1.0</td>\n",
       "      <td>2</td>\n",
       "      <td>No</td>\n",
       "    </tr>\n",
       "    <tr>\n",
       "      <th>2</th>\n",
       "      <td>0.00</td>\n",
       "      <td>0.00</td>\n",
       "      <td>1.00</td>\n",
       "      <td>0.75</td>\n",
       "      <td>0.50</td>\n",
       "      <td>0.00</td>\n",
       "      <td>0.0</td>\n",
       "      <td>1.0</td>\n",
       "      <td>0.0</td>\n",
       "      <td>0</td>\n",
       "      <td>No</td>\n",
       "    </tr>\n",
       "    <tr>\n",
       "      <th>3</th>\n",
       "      <td>0.75</td>\n",
       "      <td>0.75</td>\n",
       "      <td>0.75</td>\n",
       "      <td>0.50</td>\n",
       "      <td>0.25</td>\n",
       "      <td>0.15</td>\n",
       "      <td>0.0</td>\n",
       "      <td>0.0</td>\n",
       "      <td>1.0</td>\n",
       "      <td>2</td>\n",
       "      <td>No</td>\n",
       "    </tr>\n",
       "    <tr>\n",
       "      <th>4</th>\n",
       "      <td>0.50</td>\n",
       "      <td>0.50</td>\n",
       "      <td>0.75</td>\n",
       "      <td>0.25</td>\n",
       "      <td>0.25</td>\n",
       "      <td>0.10</td>\n",
       "      <td>1.0</td>\n",
       "      <td>0.0</td>\n",
       "      <td>0.0</td>\n",
       "      <td>1</td>\n",
       "      <td>Yes</td>\n",
       "    </tr>\n",
       "  </tbody>\n",
       "</table>\n",
       "</div>"
      ],
      "text/plain": [
       "   Rate the following levels regarding your workplace - Job Satisfaction  \\\n",
       "0                                               0.75                       \n",
       "1                                               0.75                       \n",
       "2                                               0.00                       \n",
       "3                                               0.75                       \n",
       "4                                               0.50                       \n",
       "\n",
       "   Rate the following levels regarding your workplace - Happiness to come into work  \\\n",
       "0                                               0.50                                  \n",
       "1                                               0.75                                  \n",
       "2                                               0.00                                  \n",
       "3                                               0.75                                  \n",
       "4                                               0.50                                  \n",
       "\n",
       "   Rate the following levels regarding your workplace - Workload  \\\n",
       "0                                               0.50               \n",
       "1                                               0.75               \n",
       "2                                               1.00               \n",
       "3                                               0.75               \n",
       "4                                               0.75               \n",
       "\n",
       "   Rate the following levels regarding your workplace - Anxiety Level regarding work  \\\n",
       "0                                               0.00                                   \n",
       "1                                               0.75                                   \n",
       "2                                               0.75                                   \n",
       "3                                               0.50                                   \n",
       "4                                               0.25                                   \n",
       "\n",
       "   Rate the following levels regarding your workplace - Toxicity of work environment  \\\n",
       "0                                               0.00                                   \n",
       "1                                               0.50                                   \n",
       "2                                               0.50                                   \n",
       "3                                               0.25                                   \n",
       "4                                               0.25                                   \n",
       "\n",
       "   How many colleagues do you know vape in your workplace?  \\\n",
       "0                                               0.05         \n",
       "1                                               0.00         \n",
       "2                                               0.00         \n",
       "3                                               0.15         \n",
       "4                                               0.10         \n",
       "\n",
       "   When did you join the workplace?_After Covid (After April 2022)  \\\n",
       "0                                                0.0                 \n",
       "1                                                0.0                 \n",
       "2                                                0.0                 \n",
       "3                                                0.0                 \n",
       "4                                                1.0                 \n",
       "\n",
       "   When did you join the workplace?_During Covid  \\\n",
       "0                                            0.0   \n",
       "1                                            0.0   \n",
       "2                                            1.0   \n",
       "3                                            0.0   \n",
       "4                                            0.0   \n",
       "\n",
       "   When did you join the workplace?_Pre-Covid (Before March 2020)  cluster  \\\n",
       "0                                                1.0                     2   \n",
       "1                                                1.0                     2   \n",
       "2                                                0.0                     0   \n",
       "3                                                1.0                     2   \n",
       "4                                                0.0                     1   \n",
       "\n",
       "  Vaped  \n",
       "0   Yes  \n",
       "1    No  \n",
       "2    No  \n",
       "3    No  \n",
       "4   Yes  "
      ]
     },
     "execution_count": 75,
     "metadata": {},
     "output_type": "execute_result"
    }
   ],
   "source": [
    "vaped = df[\"Have you vaped before?\"] \n",
    "workdf_gmmdata[\"Vaped\"] = vaped\n",
    "workdf_gmmdata.head()"
   ]
  },
  {
   "cell_type": "code",
   "execution_count": 76,
   "metadata": {},
   "outputs": [
    {
     "data": {
      "text/plain": [
       "<matplotlib.axes._subplots.AxesSubplot at 0x1c693e48a48>"
      ]
     },
     "execution_count": 76,
     "metadata": {},
     "output_type": "execute_result"
    },
    {
     "data": {
      "image/png": "[encoded data removed]",
      "text/plain": [
       "<Figure size 2160x432 with 2 Axes>"
      ]
     },
     "metadata": {
      "needs_background": "light"
     },
     "output_type": "display_data"
    }
   ],
   "source": [
    "from sklearn.decomposition import PCA\n",
    "fig, ax = plt.subplots(1, 2 , figsize = (30,6))\n",
    "#soft clustering\n",
    "sns.countplot(x = workdf_gmmdata['cluster'], hue = workdf_gmmdata['Vaped'], data = workdf_gmmdata, ax=ax[0])\n",
    "#from the hard clustering\n",
    "sns.countplot(x = workdf_aggdata_scaled['cluster'], hue = workdf_aggdata_scaled['Vaped'], data = workdf_aggdata_scaled, ax=ax[1])\n"
   ]
  },
  {
   "cell_type": "code",
   "execution_count": 77,
   "metadata": {},
   "outputs": [
    {
     "data": {
      "text/html": [
       "<div>\n",
       "<style scoped>\n",
       "    .dataframe tbody tr th:only-of-type {\n",
       "        vertical-align: middle;\n",
       "    }\n",
       "\n",
       "    .dataframe tbody tr th {\n",
       "        vertical-align: top;\n",
       "    }\n",
       "\n",
       "    .dataframe thead th {\n",
       "        text-align: right;\n",
       "    }\n",
       "</style>\n",
       "<table border=\"1\" class=\"dataframe\">\n",
       "  <thead>\n",
       "    <tr style=\"text-align: right;\">\n",
       "      <th></th>\n",
       "      <th>Rate the following levels regarding your workplace - Job Satisfaction</th>\n",
       "      <th>Rate the following levels regarding your workplace - Happiness to come into work</th>\n",
       "      <th>Rate the following levels regarding your workplace - Workload</th>\n",
       "      <th>Rate the following levels regarding your workplace - Anxiety Level regarding work</th>\n",
       "      <th>Rate the following levels regarding your workplace - Toxicity of work environment</th>\n",
       "      <th>How many colleagues do you know vape in your workplace?</th>\n",
       "      <th>When did you join the workplace?_After Covid (After April 2022)</th>\n",
       "      <th>When did you join the workplace?_During Covid</th>\n",
       "      <th>When did you join the workplace?_Pre-Covid (Before March 2020)</th>\n",
       "    </tr>\n",
       "  </thead>\n",
       "  <tbody>\n",
       "    <tr>\n",
       "      <th>0</th>\n",
       "      <td>0.75</td>\n",
       "      <td>0.50</td>\n",
       "      <td>0.50</td>\n",
       "      <td>0.00</td>\n",
       "      <td>0.00</td>\n",
       "      <td>0.05</td>\n",
       "      <td>0.0</td>\n",
       "      <td>0.0</td>\n",
       "      <td>1.0</td>\n",
       "    </tr>\n",
       "    <tr>\n",
       "      <th>1</th>\n",
       "      <td>0.75</td>\n",
       "      <td>0.75</td>\n",
       "      <td>0.75</td>\n",
       "      <td>0.75</td>\n",
       "      <td>0.50</td>\n",
       "      <td>0.00</td>\n",
       "      <td>0.0</td>\n",
       "      <td>0.0</td>\n",
       "      <td>1.0</td>\n",
       "    </tr>\n",
       "    <tr>\n",
       "      <th>2</th>\n",
       "      <td>0.00</td>\n",
       "      <td>0.00</td>\n",
       "      <td>1.00</td>\n",
       "      <td>0.75</td>\n",
       "      <td>0.50</td>\n",
       "      <td>0.00</td>\n",
       "      <td>0.0</td>\n",
       "      <td>1.0</td>\n",
       "      <td>0.0</td>\n",
       "    </tr>\n",
       "    <tr>\n",
       "      <th>3</th>\n",
       "      <td>0.75</td>\n",
       "      <td>0.75</td>\n",
       "      <td>0.75</td>\n",
       "      <td>0.50</td>\n",
       "      <td>0.25</td>\n",
       "      <td>0.15</td>\n",
       "      <td>0.0</td>\n",
       "      <td>0.0</td>\n",
       "      <td>1.0</td>\n",
       "    </tr>\n",
       "    <tr>\n",
       "      <th>4</th>\n",
       "      <td>0.50</td>\n",
       "      <td>0.50</td>\n",
       "      <td>0.75</td>\n",
       "      <td>0.25</td>\n",
       "      <td>0.25</td>\n",
       "      <td>0.10</td>\n",
       "      <td>1.0</td>\n",
       "      <td>0.0</td>\n",
       "      <td>0.0</td>\n",
       "    </tr>\n",
       "    <tr>\n",
       "      <th>...</th>\n",
       "      <td>...</td>\n",
       "      <td>...</td>\n",
       "      <td>...</td>\n",
       "      <td>...</td>\n",
       "      <td>...</td>\n",
       "      <td>...</td>\n",
       "      <td>...</td>\n",
       "      <td>...</td>\n",
       "      <td>...</td>\n",
       "    </tr>\n",
       "    <tr>\n",
       "      <th>70</th>\n",
       "      <td>0.75</td>\n",
       "      <td>0.75</td>\n",
       "      <td>0.50</td>\n",
       "      <td>0.25</td>\n",
       "      <td>1.00</td>\n",
       "      <td>0.50</td>\n",
       "      <td>0.0</td>\n",
       "      <td>0.0</td>\n",
       "      <td>1.0</td>\n",
       "    </tr>\n",
       "    <tr>\n",
       "      <th>71</th>\n",
       "      <td>0.50</td>\n",
       "      <td>0.50</td>\n",
       "      <td>0.25</td>\n",
       "      <td>0.25</td>\n",
       "      <td>0.25</td>\n",
       "      <td>0.05</td>\n",
       "      <td>0.0</td>\n",
       "      <td>1.0</td>\n",
       "      <td>0.0</td>\n",
       "    </tr>\n",
       "    <tr>\n",
       "      <th>72</th>\n",
       "      <td>0.25</td>\n",
       "      <td>0.00</td>\n",
       "      <td>1.00</td>\n",
       "      <td>0.75</td>\n",
       "      <td>0.50</td>\n",
       "      <td>0.15</td>\n",
       "      <td>0.0</td>\n",
       "      <td>1.0</td>\n",
       "      <td>0.0</td>\n",
       "    </tr>\n",
       "    <tr>\n",
       "      <th>73</th>\n",
       "      <td>0.75</td>\n",
       "      <td>0.75</td>\n",
       "      <td>1.00</td>\n",
       "      <td>1.00</td>\n",
       "      <td>0.25</td>\n",
       "      <td>0.05</td>\n",
       "      <td>0.0</td>\n",
       "      <td>0.0</td>\n",
       "      <td>1.0</td>\n",
       "    </tr>\n",
       "    <tr>\n",
       "      <th>74</th>\n",
       "      <td>0.50</td>\n",
       "      <td>0.50</td>\n",
       "      <td>0.50</td>\n",
       "      <td>0.50</td>\n",
       "      <td>0.50</td>\n",
       "      <td>0.05</td>\n",
       "      <td>0.0</td>\n",
       "      <td>0.0</td>\n",
       "      <td>1.0</td>\n",
       "    </tr>\n",
       "  </tbody>\n",
       "</table>\n",
       "<p>75 rows × 9 columns</p>\n",
       "</div>"
      ],
      "text/plain": [
       "    Rate the following levels regarding your workplace - Job Satisfaction  \\\n",
       "0                                                0.75                       \n",
       "1                                                0.75                       \n",
       "2                                                0.00                       \n",
       "3                                                0.75                       \n",
       "4                                                0.50                       \n",
       "..                                                ...                       \n",
       "70                                               0.75                       \n",
       "71                                               0.50                       \n",
       "72                                               0.25                       \n",
       "73                                               0.75                       \n",
       "74                                               0.50                       \n",
       "\n",
       "    Rate the following levels regarding your workplace - Happiness to come into work  \\\n",
       "0                                                0.50                                  \n",
       "1                                                0.75                                  \n",
       "2                                                0.00                                  \n",
       "3                                                0.75                                  \n",
       "4                                                0.50                                  \n",
       "..                                                ...                                  \n",
       "70                                               0.75                                  \n",
       "71                                               0.50                                  \n",
       "72                                               0.00                                  \n",
       "73                                               0.75                                  \n",
       "74                                               0.50                                  \n",
       "\n",
       "    Rate the following levels regarding your workplace - Workload  \\\n",
       "0                                                0.50               \n",
       "1                                                0.75               \n",
       "2                                                1.00               \n",
       "3                                                0.75               \n",
       "4                                                0.75               \n",
       "..                                                ...               \n",
       "70                                               0.50               \n",
       "71                                               0.25               \n",
       "72                                               1.00               \n",
       "73                                               1.00               \n",
       "74                                               0.50               \n",
       "\n",
       "    Rate the following levels regarding your workplace - Anxiety Level regarding work  \\\n",
       "0                                                0.00                                   \n",
       "1                                                0.75                                   \n",
       "2                                                0.75                                   \n",
       "3                                                0.50                                   \n",
       "4                                                0.25                                   \n",
       "..                                                ...                                   \n",
       "70                                               0.25                                   \n",
       "71                                               0.25                                   \n",
       "72                                               0.75                                   \n",
       "73                                               1.00                                   \n",
       "74                                               0.50                                   \n",
       "\n",
       "    Rate the following levels regarding your workplace - Toxicity of work environment  \\\n",
       "0                                                0.00                                   \n",
       "1                                                0.50                                   \n",
       "2                                                0.50                                   \n",
       "3                                                0.25                                   \n",
       "4                                                0.25                                   \n",
       "..                                                ...                                   \n",
       "70                                               1.00                                   \n",
       "71                                               0.25                                   \n",
       "72                                               0.50                                   \n",
       "73                                               0.25                                   \n",
       "74                                               0.50                                   \n",
       "\n",
       "    How many colleagues do you know vape in your workplace?  \\\n",
       "0                                                0.05         \n",
       "1                                                0.00         \n",
       "2                                                0.00         \n",
       "3                                                0.15         \n",
       "4                                                0.10         \n",
       "..                                                ...         \n",
       "70                                               0.50         \n",
       "71                                               0.05         \n",
       "72                                               0.15         \n",
       "73                                               0.05         \n",
       "74                                               0.05         \n",
       "\n",
       "    When did you join the workplace?_After Covid (After April 2022)  \\\n",
       "0                                                 0.0                 \n",
       "1                                                 0.0                 \n",
       "2                                                 0.0                 \n",
       "3                                                 0.0                 \n",
       "4                                                 1.0                 \n",
       "..                                                ...                 \n",
       "70                                                0.0                 \n",
       "71                                                0.0                 \n",
       "72                                                0.0                 \n",
       "73                                                0.0                 \n",
       "74                                                0.0                 \n",
       "\n",
       "    When did you join the workplace?_During Covid  \\\n",
       "0                                             0.0   \n",
       "1                                             0.0   \n",
       "2                                             1.0   \n",
       "3                                             0.0   \n",
       "4                                             0.0   \n",
       "..                                            ...   \n",
       "70                                            0.0   \n",
       "71                                            1.0   \n",
       "72                                            1.0   \n",
       "73                                            0.0   \n",
       "74                                            0.0   \n",
       "\n",
       "    When did you join the workplace?_Pre-Covid (Before March 2020)  \n",
       "0                                                 1.0               \n",
       "1                                                 1.0               \n",
       "2                                                 0.0               \n",
       "3                                                 1.0               \n",
       "4                                                 0.0               \n",
       "..                                                ...               \n",
       "70                                                1.0               \n",
       "71                                                0.0               \n",
       "72                                                0.0               \n",
       "73                                                1.0               \n",
       "74                                                1.0               \n",
       "\n",
       "[75 rows x 9 columns]"
      ]
     },
     "execution_count": 77,
     "metadata": {},
     "output_type": "execute_result"
    }
   ],
   "source": [
    "\n",
    "workmodel= workdf_aggdata_scaled.drop('cluster', axis=1)\n",
    "\n",
    "workmodel= workmodel.drop('Vaped', axis=1)\n",
    "workmodel"
   ]
  },
  {
   "cell_type": "code",
   "execution_count": 78,
   "metadata": {},
   "outputs": [
    {
     "data": {
      "text/plain": [
       "array([[-4.98348982e-01, -5.81199427e-01],\n",
       "       [-5.57153355e-01, -7.02542980e-01],\n",
       "       [-6.24591448e-01,  7.40580908e-01],\n",
       "       [-5.28555410e-01, -6.55504831e-01],\n",
       "       [ 6.91424933e-01, -4.14410727e-04],\n",
       "       [ 6.34678985e-01, -9.13065816e-02],\n",
       "       [-6.34579345e-01, -7.15559455e-01],\n",
       "       [-5.50627487e-01, -6.70899008e-01],\n",
       "       [ 7.64681584e-01, -3.56732532e-02],\n",
       "       [ 7.29140186e-01, -7.34311164e-02],\n",
       "       [-5.36493856e-01, -6.82657412e-01],\n",
       "       [ 6.57884070e-01, -1.33247564e-01],\n",
       "       [-5.74079588e-01, -6.78427862e-01],\n",
       "       [-4.20151364e-01,  7.89828778e-01],\n",
       "       [ 6.76080471e-01, -4.08461416e-02],\n",
       "       [ 7.26698202e-01, -6.52082320e-03],\n",
       "       [-4.72119120e-01,  7.86685533e-01],\n",
       "       [-5.00009756e-01, -6.36573689e-01],\n",
       "       [ 6.51005820e-01, -3.38172926e-02],\n",
       "       [-5.68161342e-01, -6.11794698e-01],\n",
       "       [ 7.73521293e-01, -3.24910557e-02],\n",
       "       [ 8.32715092e-01,  1.73144027e-02],\n",
       "       [-5.94446825e-01, -6.56955984e-01],\n",
       "       [ 6.70284116e-01, -1.64622195e-02],\n",
       "       [ 7.03883723e-01, -2.57221187e-02],\n",
       "       [ 7.82135560e-01, -6.13427039e-02],\n",
       "       [-4.30169349e-01,  7.37830376e-01],\n",
       "       [-4.17199903e-01,  7.49694562e-01],\n",
       "       [-3.81256457e-01,  7.35289639e-01],\n",
       "       [-6.26919267e-01, -6.16591070e-01],\n",
       "       [-5.02767265e-01,  7.55811216e-01],\n",
       "       [-5.90730758e-01,  7.38965887e-01],\n",
       "       [ 6.97618939e-01, -4.97212130e-02],\n",
       "       [-4.81438769e-01,  7.57002457e-01],\n",
       "       [ 7.64563505e-01,  4.20933944e-02],\n",
       "       [ 7.34033440e-01, -6.65475698e-02],\n",
       "       [-4.81438769e-01,  7.57002457e-01],\n",
       "       [ 7.37836305e-01,  4.03631956e-02],\n",
       "       [-5.89799498e-01,  7.38312255e-01],\n",
       "       [-4.65435572e-01,  7.80156186e-01],\n",
       "       [-4.52422060e-01,  7.73512165e-01],\n",
       "       [ 5.54738785e-01, -4.95183922e-02],\n",
       "       [ 7.61250183e-01, -2.20399157e-02],\n",
       "       [-3.93475276e-01,  7.73847786e-01],\n",
       "       [ 6.93315019e-01, -1.77527296e-01],\n",
       "       [ 6.76809984e-01,  1.51817528e-02],\n",
       "       [ 6.45411212e-01, -6.61148972e-02],\n",
       "       [-5.69633258e-01, -6.71629711e-01],\n",
       "       [-5.31349191e-01, -6.53543935e-01],\n",
       "       [-4.52722745e-01,  7.26273958e-01],\n",
       "       [ 6.13178740e-01, -1.24995445e-02],\n",
       "       [-6.88244896e-01, -7.19349357e-01],\n",
       "       [-4.93483888e-01, -6.04929717e-01],\n",
       "       [-5.18372812e-01,  7.07734607e-01],\n",
       "       [-6.59451046e-01, -6.40552562e-01],\n",
       "       [-5.53299971e-01, -7.84340481e-01],\n",
       "       [ 6.64487762e-01,  7.92170264e-03],\n",
       "       [-5.75441054e-01, -6.56225281e-01],\n",
       "       [ 7.57953970e-01, -1.06356989e-02],\n",
       "       [ 7.15547211e-01, -1.18406643e-03],\n",
       "       [ 7.35484242e-01, -1.10699535e-03],\n",
       "       [ 7.55550186e-01,  1.19428061e-02],\n",
       "       [-4.66856376e-01,  7.38032363e-01],\n",
       "       [-5.44362703e-01, -6.46899914e-01],\n",
       "       [ 7.22432506e-01, -6.43949400e-02],\n",
       "       [-4.71226083e-01,  7.16099935e-01],\n",
       "       [ 7.23423103e-01, -7.22167503e-04],\n",
       "       [ 5.34926879e-01, -9.11427133e-02],\n",
       "       [ 7.45572411e-01, -8.22221538e-02],\n",
       "       [-4.19220104e-01,  7.89175146e-01],\n",
       "       [-5.10274756e-01, -7.38041928e-01],\n",
       "       [-4.49168074e-01,  7.73319070e-01],\n",
       "       [-6.00259199e-01,  7.29744940e-01],\n",
       "       [-5.81035662e-01, -6.88522885e-01],\n",
       "       [-5.71495778e-01, -6.70322447e-01]])"
      ]
     },
     "execution_count": 78,
     "metadata": {},
     "output_type": "execute_result"
    }
   ],
   "source": [
    "pca = PCA(2)\n",
    " \n",
    "#Transform the data\n",
    "pc = pca.fit_transform(workmodel)\n",
    "pc"
   ]
  },
  {
   "cell_type": "code",
   "execution_count": 79,
   "metadata": {},
   "outputs": [
    {
     "name": "stdout",
     "output_type": "stream",
     "text": [
      "[0 1 2]\n"
     ]
    }
   ],
   "source": [
    "#Getting unique labels\n",
    " \n",
    "u_labels = np.unique(workdf_gmmdata['cluster'])\n",
    "print(u_labels)"
   ]
  },
  {
   "cell_type": "code",
   "execution_count": 80,
   "metadata": {},
   "outputs": [
    {
     "data": {
      "image/png": "[encoded data removed]",
      "text/plain": [
       "<Figure size 432x288 with 1 Axes>"
      ]
     },
     "metadata": {
      "needs_background": "light"
     },
     "output_type": "display_data"
    }
   ],
   "source": [
    "#plotting the results using Hierarchical clustering\n",
    "for i in u_labels:\n",
    "    plt.scatter(pc[workdf_aggdata_scaled['cluster'] == i , 0] , pc[workdf_aggdata_scaled['cluster'] == i, 1], label = i)\n",
    "plt.legend()\n",
    "plt.show()"
   ]
  },
  {
   "cell_type": "code",
   "execution_count": 81,
   "metadata": {},
   "outputs": [
    {
     "data": {
      "image/png": "[encoded data removed]",
      "text/plain": [
       "<Figure size 432x288 with 1 Axes>"
      ]
     },
     "metadata": {
      "needs_background": "light"
     },
     "output_type": "display_data"
    }
   ],
   "source": [
    "#plotting the results using Hierarchical clustering\n",
    "for i in u_labels:\n",
    "    plt.scatter(pc[workdf_gmmdata['cluster'] == i , 0] , pc[workdf_gmmdata['cluster'] == i, 1], label = i)\n",
    "plt.legend()\n",
    "plt.show()"
   ]
  },
  {
   "cell_type": "code",
   "execution_count": 82,
   "metadata": {},
   "outputs": [
    {
     "data": {
      "text/plain": [
       "<seaborn.matrix.ClusterGrid at 0x1c695f0e2c8>"
      ]
     },
     "execution_count": 82,
     "metadata": {},
     "output_type": "execute_result"
    },
    {
     "data": {
      "image/png": "[encoded data removed]",
      "text/plain": [
       "<Figure size 720x720 with 4 Axes>"
      ]
     },
     "metadata": {
      "needs_background": "light"
     },
     "output_type": "display_data"
    }
   ],
   "source": [
    "sns.clustermap(workdf_aggdata)"
   ]
  },
  {
   "cell_type": "code",
   "execution_count": 83,
   "metadata": {},
   "outputs": [
    {
     "data": {
      "text/html": [
       "<div>\n",
       "<style scoped>\n",
       "    .dataframe tbody tr th:only-of-type {\n",
       "        vertical-align: middle;\n",
       "    }\n",
       "\n",
       "    .dataframe tbody tr th {\n",
       "        vertical-align: top;\n",
       "    }\n",
       "\n",
       "    .dataframe thead th {\n",
       "        text-align: right;\n",
       "    }\n",
       "</style>\n",
       "<table border=\"1\" class=\"dataframe\">\n",
       "  <thead>\n",
       "    <tr style=\"text-align: right;\">\n",
       "      <th></th>\n",
       "      <th>Rate the following levels regarding your workplace - Job Satisfaction</th>\n",
       "      <th>Rate the following levels regarding your workplace - Happiness to come into work</th>\n",
       "      <th>Rate the following levels regarding your workplace - Workload</th>\n",
       "      <th>Rate the following levels regarding your workplace - Anxiety Level regarding work</th>\n",
       "      <th>Rate the following levels regarding your workplace - Toxicity of work environment</th>\n",
       "      <th>How many colleagues do you know vape in your workplace?</th>\n",
       "      <th>When did you join the workplace?_After Covid (After April 2022)</th>\n",
       "      <th>When did you join the workplace?_During Covid</th>\n",
       "      <th>When did you join the workplace?_Pre-Covid (Before March 2020)</th>\n",
       "      <th>cluster</th>\n",
       "      <th>Vaped</th>\n",
       "      <th>Quit before</th>\n",
       "      <th>Frequency</th>\n",
       "    </tr>\n",
       "  </thead>\n",
       "  <tbody>\n",
       "    <tr>\n",
       "      <th>0</th>\n",
       "      <td>0.75</td>\n",
       "      <td>0.50</td>\n",
       "      <td>0.50</td>\n",
       "      <td>0.00</td>\n",
       "      <td>0.00</td>\n",
       "      <td>0.05</td>\n",
       "      <td>0.0</td>\n",
       "      <td>0.0</td>\n",
       "      <td>1.0</td>\n",
       "      <td>2</td>\n",
       "      <td>Yes</td>\n",
       "      <td>Yes</td>\n",
       "      <td>A pod a day</td>\n",
       "    </tr>\n",
       "    <tr>\n",
       "      <th>1</th>\n",
       "      <td>0.75</td>\n",
       "      <td>0.75</td>\n",
       "      <td>0.75</td>\n",
       "      <td>0.75</td>\n",
       "      <td>0.50</td>\n",
       "      <td>0.00</td>\n",
       "      <td>0.0</td>\n",
       "      <td>0.0</td>\n",
       "      <td>1.0</td>\n",
       "      <td>2</td>\n",
       "      <td>No</td>\n",
       "      <td>NIL</td>\n",
       "      <td>NIL</td>\n",
       "    </tr>\n",
       "    <tr>\n",
       "      <th>2</th>\n",
       "      <td>0.00</td>\n",
       "      <td>0.00</td>\n",
       "      <td>1.00</td>\n",
       "      <td>0.75</td>\n",
       "      <td>0.50</td>\n",
       "      <td>0.00</td>\n",
       "      <td>0.0</td>\n",
       "      <td>1.0</td>\n",
       "      <td>0.0</td>\n",
       "      <td>1</td>\n",
       "      <td>No</td>\n",
       "      <td>NIL</td>\n",
       "      <td>NIL</td>\n",
       "    </tr>\n",
       "    <tr>\n",
       "      <th>3</th>\n",
       "      <td>0.75</td>\n",
       "      <td>0.75</td>\n",
       "      <td>0.75</td>\n",
       "      <td>0.50</td>\n",
       "      <td>0.25</td>\n",
       "      <td>0.15</td>\n",
       "      <td>0.0</td>\n",
       "      <td>0.0</td>\n",
       "      <td>1.0</td>\n",
       "      <td>2</td>\n",
       "      <td>No</td>\n",
       "      <td>NIL</td>\n",
       "      <td>NIL</td>\n",
       "    </tr>\n",
       "    <tr>\n",
       "      <th>4</th>\n",
       "      <td>0.50</td>\n",
       "      <td>0.50</td>\n",
       "      <td>0.75</td>\n",
       "      <td>0.25</td>\n",
       "      <td>0.25</td>\n",
       "      <td>0.10</td>\n",
       "      <td>1.0</td>\n",
       "      <td>0.0</td>\n",
       "      <td>0.0</td>\n",
       "      <td>0</td>\n",
       "      <td>Yes</td>\n",
       "      <td>Yes</td>\n",
       "      <td>Only during social situations</td>\n",
       "    </tr>\n",
       "  </tbody>\n",
       "</table>\n",
       "</div>"
      ],
      "text/plain": [
       "   Rate the following levels regarding your workplace - Job Satisfaction  \\\n",
       "0                                               0.75                       \n",
       "1                                               0.75                       \n",
       "2                                               0.00                       \n",
       "3                                               0.75                       \n",
       "4                                               0.50                       \n",
       "\n",
       "   Rate the following levels regarding your workplace - Happiness to come into work  \\\n",
       "0                                               0.50                                  \n",
       "1                                               0.75                                  \n",
       "2                                               0.00                                  \n",
       "3                                               0.75                                  \n",
       "4                                               0.50                                  \n",
       "\n",
       "   Rate the following levels regarding your workplace - Workload  \\\n",
       "0                                               0.50               \n",
       "1                                               0.75               \n",
       "2                                               1.00               \n",
       "3                                               0.75               \n",
       "4                                               0.75               \n",
       "\n",
       "   Rate the following levels regarding your workplace - Anxiety Level regarding work  \\\n",
       "0                                               0.00                                   \n",
       "1                                               0.75                                   \n",
       "2                                               0.75                                   \n",
       "3                                               0.50                                   \n",
       "4                                               0.25                                   \n",
       "\n",
       "   Rate the following levels regarding your workplace - Toxicity of work environment  \\\n",
       "0                                               0.00                                   \n",
       "1                                               0.50                                   \n",
       "2                                               0.50                                   \n",
       "3                                               0.25                                   \n",
       "4                                               0.25                                   \n",
       "\n",
       "   How many colleagues do you know vape in your workplace?  \\\n",
       "0                                               0.05         \n",
       "1                                               0.00         \n",
       "2                                               0.00         \n",
       "3                                               0.15         \n",
       "4                                               0.10         \n",
       "\n",
       "   When did you join the workplace?_After Covid (After April 2022)  \\\n",
       "0                                                0.0                 \n",
       "1                                                0.0                 \n",
       "2                                                0.0                 \n",
       "3                                                0.0                 \n",
       "4                                                1.0                 \n",
       "\n",
       "   When did you join the workplace?_During Covid  \\\n",
       "0                                            0.0   \n",
       "1                                            0.0   \n",
       "2                                            1.0   \n",
       "3                                            0.0   \n",
       "4                                            0.0   \n",
       "\n",
       "   When did you join the workplace?_Pre-Covid (Before March 2020)  cluster  \\\n",
       "0                                                1.0                     2   \n",
       "1                                                1.0                     2   \n",
       "2                                                0.0                     1   \n",
       "3                                                1.0                     2   \n",
       "4                                                0.0                     0   \n",
       "\n",
       "  Vaped Quit before                      Frequency  \n",
       "0   Yes         Yes                    A pod a day  \n",
       "1    No         NIL                            NIL  \n",
       "2    No         NIL                            NIL  \n",
       "3    No         NIL                            NIL  \n",
       "4   Yes         Yes  Only during social situations  "
      ]
     },
     "execution_count": 83,
     "metadata": {},
     "output_type": "execute_result"
    }
   ],
   "source": [
    "quit = df['Have you attempted to quit before?'] \n",
    "frequency = df['What is the frequency of your vape usage?']\n",
    "workdf_aggdata_scaled[\"Quit before\"] =quit\n",
    "workdf_aggdata_scaled[\"Frequency\"] =frequency\n",
    "workdf_aggdata_scaled.head()\n"
   ]
  },
  {
   "cell_type": "code",
   "execution_count": 84,
   "metadata": {},
   "outputs": [
    {
     "data": {
      "text/plain": [
       "<matplotlib.axes._subplots.AxesSubplot at 0x1c695d37cc8>"
      ]
     },
     "execution_count": 84,
     "metadata": {},
     "output_type": "execute_result"
    },
    {
     "data": {
      "image/png": "[encoded data removed]",
      "text/plain": [
       "<Figure size 2160x432 with 2 Axes>"
      ]
     },
     "metadata": {
      "needs_background": "light"
     },
     "output_type": "display_data"
    }
   ],
   "source": [
    "fig, ax = plt.subplots(1, 2 , figsize = (30,6))\n",
    "\n",
    "sns.countplot(x = workdf_aggdata_scaled['cluster'], hue = workdf_aggdata_scaled['Quit before'], data = workdf_aggdata_scaled, ax=ax[1])\n",
    "\n",
    "sns.countplot(x = workdf_aggdata_scaled['cluster'], hue = workdf_aggdata_scaled['Vaped'], data = workdf_aggdata_scaled, ax=ax[0])"
   ]
  },
  {
   "cell_type": "code",
   "execution_count": 85,
   "metadata": {},
   "outputs": [
    {
     "data": {
      "text/plain": [
       "cluster  Vaped  Frequency                      Quit before\n",
       "0        No     NIL                            NIL            23\n",
       "         Yes    A pod a week                   No              1\n",
       "                                               Yes             2\n",
       "                More than a pod a week         Yes             1\n",
       "                Only during social situations  No              2\n",
       "                                               Yes             2\n",
       "                Tried once                     No              1\n",
       "1        No     NIL                            NIL            17\n",
       "         Yes    A pod a day                    Yes             1\n",
       "                Only during social situations  No              2\n",
       "                Tried once                     Yes             1\n",
       "2        No     NIL                            NIL            11\n",
       "         Yes    A pod a day                    Yes             1\n",
       "                A pod a week                   Yes             1\n",
       "                More than a pod a week         No              1\n",
       "                                               Yes             1\n",
       "                Only during social situations  No              1\n",
       "                                               Yes             4\n",
       "                Tried once                     No              2\n",
       "Name: Quit before, dtype: int64"
      ]
     },
     "execution_count": 85,
     "metadata": {},
     "output_type": "execute_result"
    }
   ],
   "source": [
    " workdf_aggdata_scaled.groupby([\"cluster\",\"Vaped\",\"Frequency\",\"Quit before\"])[\"Quit before\"].count()"
   ]
  },
  {
   "cell_type": "markdown",
   "metadata": {},
   "source": [
    "<h1>Decision Tree</h1>"
   ]
  },
  {
   "cell_type": "code",
   "execution_count": 86,
   "metadata": {},
   "outputs": [],
   "source": [
    "# Import DecisionTreeClassifier\n",
    "from sklearn.tree import DecisionTreeClassifier\n",
    "\n",
    "# Import train_test_split functions\n",
    "from sklearn.model_selection import train_test_split\n",
    "\n",
    "# Import accuracy_score\n",
    "from sklearn.metrics import accuracy_score"
   ]
  },
  {
   "cell_type": "code",
   "execution_count": 90,
   "metadata": {},
   "outputs": [],
   "source": [
    "# Instantiate dt and criterion can be gini or entropy\n",
    "dt = DecisionTreeClassifier(criterion = 'gini', max_depth = 3, random_state = 99)"
   ]
  },
  {
   "cell_type": "code",
   "execution_count": 91,
   "metadata": {},
   "outputs": [],
   "source": [
    "x = workDecisiontree.drop(columns='cluster')\n",
    "y = workDecisiontree['cluster']"
   ]
  },
  {
   "cell_type": "code",
   "execution_count": 92,
   "metadata": {},
   "outputs": [
    {
     "data": {
      "text/html": [
       "<div>\n",
       "<style scoped>\n",
       "    .dataframe tbody tr th:only-of-type {\n",
       "        vertical-align: middle;\n",
       "    }\n",
       "\n",
       "    .dataframe tbody tr th {\n",
       "        vertical-align: top;\n",
       "    }\n",
       "\n",
       "    .dataframe thead th {\n",
       "        text-align: right;\n",
       "    }\n",
       "</style>\n",
       "<table border=\"1\" class=\"dataframe\">\n",
       "  <thead>\n",
       "    <tr style=\"text-align: right;\">\n",
       "      <th></th>\n",
       "      <th>Rate the following levels regarding your workplace - Job Satisfaction</th>\n",
       "      <th>Rate the following levels regarding your workplace - Happiness to come into work</th>\n",
       "      <th>Rate the following levels regarding your workplace - Workload</th>\n",
       "      <th>Rate the following levels regarding your workplace - Anxiety Level regarding work</th>\n",
       "      <th>Rate the following levels regarding your workplace - Toxicity of work environment</th>\n",
       "      <th>How many colleagues do you know vape in your workplace?</th>\n",
       "      <th>When did you join the workplace?_After Covid (After April 2022)</th>\n",
       "      <th>When did you join the workplace?_During Covid</th>\n",
       "      <th>When did you join the workplace?_Pre-Covid (Before March 2020)</th>\n",
       "      <th>cluster</th>\n",
       "    </tr>\n",
       "  </thead>\n",
       "  <tbody>\n",
       "    <tr>\n",
       "      <th>0</th>\n",
       "      <td>0.75</td>\n",
       "      <td>0.50</td>\n",
       "      <td>0.50</td>\n",
       "      <td>0.00</td>\n",
       "      <td>0.00</td>\n",
       "      <td>0.05</td>\n",
       "      <td>0.0</td>\n",
       "      <td>0.0</td>\n",
       "      <td>1.0</td>\n",
       "      <td>2</td>\n",
       "    </tr>\n",
       "    <tr>\n",
       "      <th>1</th>\n",
       "      <td>0.75</td>\n",
       "      <td>0.75</td>\n",
       "      <td>0.75</td>\n",
       "      <td>0.75</td>\n",
       "      <td>0.50</td>\n",
       "      <td>0.00</td>\n",
       "      <td>0.0</td>\n",
       "      <td>0.0</td>\n",
       "      <td>1.0</td>\n",
       "      <td>2</td>\n",
       "    </tr>\n",
       "    <tr>\n",
       "      <th>2</th>\n",
       "      <td>0.00</td>\n",
       "      <td>0.00</td>\n",
       "      <td>1.00</td>\n",
       "      <td>0.75</td>\n",
       "      <td>0.50</td>\n",
       "      <td>0.00</td>\n",
       "      <td>0.0</td>\n",
       "      <td>1.0</td>\n",
       "      <td>0.0</td>\n",
       "      <td>1</td>\n",
       "    </tr>\n",
       "    <tr>\n",
       "      <th>3</th>\n",
       "      <td>0.75</td>\n",
       "      <td>0.75</td>\n",
       "      <td>0.75</td>\n",
       "      <td>0.50</td>\n",
       "      <td>0.25</td>\n",
       "      <td>0.15</td>\n",
       "      <td>0.0</td>\n",
       "      <td>0.0</td>\n",
       "      <td>1.0</td>\n",
       "      <td>2</td>\n",
       "    </tr>\n",
       "    <tr>\n",
       "      <th>4</th>\n",
       "      <td>0.50</td>\n",
       "      <td>0.50</td>\n",
       "      <td>0.75</td>\n",
       "      <td>0.25</td>\n",
       "      <td>0.25</td>\n",
       "      <td>0.10</td>\n",
       "      <td>1.0</td>\n",
       "      <td>0.0</td>\n",
       "      <td>0.0</td>\n",
       "      <td>0</td>\n",
       "    </tr>\n",
       "    <tr>\n",
       "      <th>...</th>\n",
       "      <td>...</td>\n",
       "      <td>...</td>\n",
       "      <td>...</td>\n",
       "      <td>...</td>\n",
       "      <td>...</td>\n",
       "      <td>...</td>\n",
       "      <td>...</td>\n",
       "      <td>...</td>\n",
       "      <td>...</td>\n",
       "      <td>...</td>\n",
       "    </tr>\n",
       "    <tr>\n",
       "      <th>70</th>\n",
       "      <td>0.75</td>\n",
       "      <td>0.75</td>\n",
       "      <td>0.50</td>\n",
       "      <td>0.25</td>\n",
       "      <td>1.00</td>\n",
       "      <td>0.50</td>\n",
       "      <td>0.0</td>\n",
       "      <td>0.0</td>\n",
       "      <td>1.0</td>\n",
       "      <td>2</td>\n",
       "    </tr>\n",
       "    <tr>\n",
       "      <th>71</th>\n",
       "      <td>0.50</td>\n",
       "      <td>0.50</td>\n",
       "      <td>0.25</td>\n",
       "      <td>0.25</td>\n",
       "      <td>0.25</td>\n",
       "      <td>0.05</td>\n",
       "      <td>0.0</td>\n",
       "      <td>1.0</td>\n",
       "      <td>0.0</td>\n",
       "      <td>1</td>\n",
       "    </tr>\n",
       "    <tr>\n",
       "      <th>72</th>\n",
       "      <td>0.25</td>\n",
       "      <td>0.00</td>\n",
       "      <td>1.00</td>\n",
       "      <td>0.75</td>\n",
       "      <td>0.50</td>\n",
       "      <td>0.15</td>\n",
       "      <td>0.0</td>\n",
       "      <td>1.0</td>\n",
       "      <td>0.0</td>\n",
       "      <td>1</td>\n",
       "    </tr>\n",
       "    <tr>\n",
       "      <th>73</th>\n",
       "      <td>0.75</td>\n",
       "      <td>0.75</td>\n",
       "      <td>1.00</td>\n",
       "      <td>1.00</td>\n",
       "      <td>0.25</td>\n",
       "      <td>0.05</td>\n",
       "      <td>0.0</td>\n",
       "      <td>0.0</td>\n",
       "      <td>1.0</td>\n",
       "      <td>2</td>\n",
       "    </tr>\n",
       "    <tr>\n",
       "      <th>74</th>\n",
       "      <td>0.50</td>\n",
       "      <td>0.50</td>\n",
       "      <td>0.50</td>\n",
       "      <td>0.50</td>\n",
       "      <td>0.50</td>\n",
       "      <td>0.05</td>\n",
       "      <td>0.0</td>\n",
       "      <td>0.0</td>\n",
       "      <td>1.0</td>\n",
       "      <td>2</td>\n",
       "    </tr>\n",
       "  </tbody>\n",
       "</table>\n",
       "<p>75 rows × 10 columns</p>\n",
       "</div>"
      ],
      "text/plain": [
       "    Rate the following levels regarding your workplace - Job Satisfaction  \\\n",
       "0                                                0.75                       \n",
       "1                                                0.75                       \n",
       "2                                                0.00                       \n",
       "3                                                0.75                       \n",
       "4                                                0.50                       \n",
       "..                                                ...                       \n",
       "70                                               0.75                       \n",
       "71                                               0.50                       \n",
       "72                                               0.25                       \n",
       "73                                               0.75                       \n",
       "74                                               0.50                       \n",
       "\n",
       "    Rate the following levels regarding your workplace - Happiness to come into work  \\\n",
       "0                                                0.50                                  \n",
       "1                                                0.75                                  \n",
       "2                                                0.00                                  \n",
       "3                                                0.75                                  \n",
       "4                                                0.50                                  \n",
       "..                                                ...                                  \n",
       "70                                               0.75                                  \n",
       "71                                               0.50                                  \n",
       "72                                               0.00                                  \n",
       "73                                               0.75                                  \n",
       "74                                               0.50                                  \n",
       "\n",
       "    Rate the following levels regarding your workplace - Workload  \\\n",
       "0                                                0.50               \n",
       "1                                                0.75               \n",
       "2                                                1.00               \n",
       "3                                                0.75               \n",
       "4                                                0.75               \n",
       "..                                                ...               \n",
       "70                                               0.50               \n",
       "71                                               0.25               \n",
       "72                                               1.00               \n",
       "73                                               1.00               \n",
       "74                                               0.50               \n",
       "\n",
       "    Rate the following levels regarding your workplace - Anxiety Level regarding work  \\\n",
       "0                                                0.00                                   \n",
       "1                                                0.75                                   \n",
       "2                                                0.75                                   \n",
       "3                                                0.50                                   \n",
       "4                                                0.25                                   \n",
       "..                                                ...                                   \n",
       "70                                               0.25                                   \n",
       "71                                               0.25                                   \n",
       "72                                               0.75                                   \n",
       "73                                               1.00                                   \n",
       "74                                               0.50                                   \n",
       "\n",
       "    Rate the following levels regarding your workplace - Toxicity of work environment  \\\n",
       "0                                                0.00                                   \n",
       "1                                                0.50                                   \n",
       "2                                                0.50                                   \n",
       "3                                                0.25                                   \n",
       "4                                                0.25                                   \n",
       "..                                                ...                                   \n",
       "70                                               1.00                                   \n",
       "71                                               0.25                                   \n",
       "72                                               0.50                                   \n",
       "73                                               0.25                                   \n",
       "74                                               0.50                                   \n",
       "\n",
       "    How many colleagues do you know vape in your workplace?  \\\n",
       "0                                                0.05         \n",
       "1                                                0.00         \n",
       "2                                                0.00         \n",
       "3                                                0.15         \n",
       "4                                                0.10         \n",
       "..                                                ...         \n",
       "70                                               0.50         \n",
       "71                                               0.05         \n",
       "72                                               0.15         \n",
       "73                                               0.05         \n",
       "74                                               0.05         \n",
       "\n",
       "    When did you join the workplace?_After Covid (After April 2022)  \\\n",
       "0                                                 0.0                 \n",
       "1                                                 0.0                 \n",
       "2                                                 0.0                 \n",
       "3                                                 0.0                 \n",
       "4                                                 1.0                 \n",
       "..                                                ...                 \n",
       "70                                                0.0                 \n",
       "71                                                0.0                 \n",
       "72                                                0.0                 \n",
       "73                                                0.0                 \n",
       "74                                                0.0                 \n",
       "\n",
       "    When did you join the workplace?_During Covid  \\\n",
       "0                                             0.0   \n",
       "1                                             0.0   \n",
       "2                                             1.0   \n",
       "3                                             0.0   \n",
       "4                                             0.0   \n",
       "..                                            ...   \n",
       "70                                            0.0   \n",
       "71                                            1.0   \n",
       "72                                            1.0   \n",
       "73                                            0.0   \n",
       "74                                            0.0   \n",
       "\n",
       "    When did you join the workplace?_Pre-Covid (Before March 2020)  cluster  \n",
       "0                                                 1.0                     2  \n",
       "1                                                 1.0                     2  \n",
       "2                                                 0.0                     1  \n",
       "3                                                 1.0                     2  \n",
       "4                                                 0.0                     0  \n",
       "..                                                ...                   ...  \n",
       "70                                                1.0                     2  \n",
       "71                                                0.0                     1  \n",
       "72                                                0.0                     1  \n",
       "73                                                1.0                     2  \n",
       "74                                                1.0                     2  \n",
       "\n",
       "[75 rows x 10 columns]"
      ]
     },
     "execution_count": 92,
     "metadata": {},
     "output_type": "execute_result"
    }
   ],
   "source": [
    "workDecisiontree"
   ]
  },
  {
   "cell_type": "code",
   "execution_count": 93,
   "metadata": {},
   "outputs": [],
   "source": [
    "X_train, X_test, y_train, y_test = train_test_split(x, y, test_size = 0.2, \n",
    "                                                          stratify = y,\n",
    "                                                          random_state = 99)"
   ]
  },
  {
   "cell_type": "code",
   "execution_count": 94,
   "metadata": {},
   "outputs": [
    {
     "data": {
      "text/plain": [
       "DecisionTreeClassifier(ccp_alpha=0.0, class_weight=None, criterion='gini',\n",
       "                       max_depth=3, max_features=None, max_leaf_nodes=None,\n",
       "                       min_impurity_decrease=0.0, min_impurity_split=None,\n",
       "                       min_samples_leaf=1, min_samples_split=2,\n",
       "                       min_weight_fraction_leaf=0.0, presort='deprecated',\n",
       "                       random_state=99, splitter='best')"
      ]
     },
     "execution_count": 94,
     "metadata": {},
     "output_type": "execute_result"
    }
   ],
   "source": [
    "# Fit dt to the training set\n",
    "dt.fit(X_train, y_train)"
   ]
  },
  {
   "cell_type": "code",
   "execution_count": 95,
   "metadata": {},
   "outputs": [
    {
     "data": {
      "image/png": "[encoded data removed]",
      "text/plain": [
       "<IPython.core.display.Image object>"
      ]
     },
     "execution_count": 95,
     "metadata": {},
     "output_type": "execute_result"
    }
   ],
   "source": [
    "from sklearn.tree import export_graphviz\n",
    "import pydotplus\n",
    "#from sklearn.externals.six import StringIO  \n",
    "import six\n",
    "from six import StringIO\n",
    "from IPython.display import Image\n",
    "\n",
    "feature_cols = X_train.columns\n",
    "\n",
    "dot_data = StringIO()\n",
    "export_graphviz(dt, out_file = dot_data, \n",
    "                      feature_names = feature_cols,  \n",
    "                     filled = True, rounded = True,  \n",
    "                    special_characters = True)\n",
    "\n",
    "graph = pydotplus.graph_from_dot_data(dot_data.getvalue())\n",
    "graph.write_png('bankTree.png')\n",
    "Image(graph.create_png())"
   ]
  },
  {
   "cell_type": "code",
   "execution_count": 96,
   "metadata": {},
   "outputs": [],
   "source": [
    "feat_impt = pd.Series(dt.feature_importances_, index = X_train.columns)\n",
    "\n",
    "# Sort the variable importance\n",
    "sorted_feat_impt = feat_impt.sort_values()\n"
   ]
  },
  {
   "cell_type": "code",
   "execution_count": 97,
   "metadata": {},
   "outputs": [
    {
     "data": {
      "image/png": "[encoded data removed]",
      "text/plain": [
       "<Figure size 1440x1440 with 1 Axes>"
      ]
     },
     "metadata": {
      "needs_background": "light"
     },
     "output_type": "display_data"
    }
   ],
   "source": [
    "# Make a horizontal bar plot\n",
    "sorted_feat_impt.plot(kind='barh', color='blue', figsize = (20,20))\n",
    "plt.tight_layout()\n",
    "plt.show()"
   ]
  },
  {
   "cell_type": "code",
   "execution_count": 98,
   "metadata": {},
   "outputs": [
    {
     "name": "stdout",
     "output_type": "stream",
     "text": [
      "[2 1 1 2 0 0 1 0 2 0 0 0 2 2 1]\n"
     ]
    }
   ],
   "source": [
    "# Predict test set labels\n",
    "y_pred = dt.predict(X_test)\n",
    "print(y_pred)"
   ]
  },
  {
   "cell_type": "code",
   "execution_count": 99,
   "metadata": {},
   "outputs": [
    {
     "name": "stdout",
     "output_type": "stream",
     "text": [
      "Accuracy for Decision Tree :\n",
      "1.0\n"
     ]
    }
   ],
   "source": [
    "#Print the accuracy of labels predicted.\n",
    "\n",
    "print(\"Accuracy for Decision Tree :\")\n",
    "print(round(accuracy_score(y_test, y_pred), 3)) #comparing the actual target with the prediction"
   ]
  },
  {
   "cell_type": "code",
   "execution_count": 101,
   "metadata": {},
   "outputs": [
    {
     "data": {
      "text/html": [
       "<div>\n",
       "<style scoped>\n",
       "    .dataframe tbody tr th:only-of-type {\n",
       "        vertical-align: middle;\n",
       "    }\n",
       "\n",
       "    .dataframe tbody tr th {\n",
       "        vertical-align: top;\n",
       "    }\n",
       "\n",
       "    .dataframe thead th {\n",
       "        text-align: right;\n",
       "    }\n",
       "</style>\n",
       "<table border=\"1\" class=\"dataframe\">\n",
       "  <thead>\n",
       "    <tr style=\"text-align: right;\">\n",
       "      <th></th>\n",
       "      <th>Rate the following levels regarding your workplace - Job Satisfaction</th>\n",
       "      <th>Rate the following levels regarding your workplace - Happiness to come into work</th>\n",
       "      <th>Rate the following levels regarding your workplace - Workload</th>\n",
       "      <th>Rate the following levels regarding your workplace - Anxiety Level regarding work</th>\n",
       "      <th>Rate the following levels regarding your workplace - Toxicity of work environment</th>\n",
       "      <th>How many colleagues do you know vape in your workplace?</th>\n",
       "      <th>When did you join the workplace?_After Covid (After April 2022)</th>\n",
       "      <th>When did you join the workplace?_During Covid</th>\n",
       "      <th>When did you join the workplace?_Pre-Covid (Before March 2020)</th>\n",
       "      <th>cluster</th>\n",
       "      <th>Vaped</th>\n",
       "      <th>Quit before</th>\n",
       "      <th>Frequency</th>\n",
       "    </tr>\n",
       "  </thead>\n",
       "  <tbody>\n",
       "    <tr>\n",
       "      <th>0</th>\n",
       "      <td>0.75</td>\n",
       "      <td>0.50</td>\n",
       "      <td>0.50</td>\n",
       "      <td>0.00</td>\n",
       "      <td>0.00</td>\n",
       "      <td>0.05</td>\n",
       "      <td>0.0</td>\n",
       "      <td>0.0</td>\n",
       "      <td>1.0</td>\n",
       "      <td>2</td>\n",
       "      <td>Yes</td>\n",
       "      <td>Yes</td>\n",
       "      <td>A pod a day</td>\n",
       "    </tr>\n",
       "    <tr>\n",
       "      <th>1</th>\n",
       "      <td>0.75</td>\n",
       "      <td>0.75</td>\n",
       "      <td>0.75</td>\n",
       "      <td>0.75</td>\n",
       "      <td>0.50</td>\n",
       "      <td>0.00</td>\n",
       "      <td>0.0</td>\n",
       "      <td>0.0</td>\n",
       "      <td>1.0</td>\n",
       "      <td>2</td>\n",
       "      <td>No</td>\n",
       "      <td>NIL</td>\n",
       "      <td>NIL</td>\n",
       "    </tr>\n",
       "    <tr>\n",
       "      <th>2</th>\n",
       "      <td>0.00</td>\n",
       "      <td>0.00</td>\n",
       "      <td>1.00</td>\n",
       "      <td>0.75</td>\n",
       "      <td>0.50</td>\n",
       "      <td>0.00</td>\n",
       "      <td>0.0</td>\n",
       "      <td>1.0</td>\n",
       "      <td>0.0</td>\n",
       "      <td>0</td>\n",
       "      <td>No</td>\n",
       "      <td>NIL</td>\n",
       "      <td>NIL</td>\n",
       "    </tr>\n",
       "    <tr>\n",
       "      <th>3</th>\n",
       "      <td>0.75</td>\n",
       "      <td>0.75</td>\n",
       "      <td>0.75</td>\n",
       "      <td>0.50</td>\n",
       "      <td>0.25</td>\n",
       "      <td>0.15</td>\n",
       "      <td>0.0</td>\n",
       "      <td>0.0</td>\n",
       "      <td>1.0</td>\n",
       "      <td>2</td>\n",
       "      <td>No</td>\n",
       "      <td>NIL</td>\n",
       "      <td>NIL</td>\n",
       "    </tr>\n",
       "    <tr>\n",
       "      <th>4</th>\n",
       "      <td>0.50</td>\n",
       "      <td>0.50</td>\n",
       "      <td>0.75</td>\n",
       "      <td>0.25</td>\n",
       "      <td>0.25</td>\n",
       "      <td>0.10</td>\n",
       "      <td>1.0</td>\n",
       "      <td>0.0</td>\n",
       "      <td>0.0</td>\n",
       "      <td>1</td>\n",
       "      <td>Yes</td>\n",
       "      <td>Yes</td>\n",
       "      <td>Only during social situations</td>\n",
       "    </tr>\n",
       "  </tbody>\n",
       "</table>\n",
       "</div>"
      ],
      "text/plain": [
       "   Rate the following levels regarding your workplace - Job Satisfaction  \\\n",
       "0                                               0.75                       \n",
       "1                                               0.75                       \n",
       "2                                               0.00                       \n",
       "3                                               0.75                       \n",
       "4                                               0.50                       \n",
       "\n",
       "   Rate the following levels regarding your workplace - Happiness to come into work  \\\n",
       "0                                               0.50                                  \n",
       "1                                               0.75                                  \n",
       "2                                               0.00                                  \n",
       "3                                               0.75                                  \n",
       "4                                               0.50                                  \n",
       "\n",
       "   Rate the following levels regarding your workplace - Workload  \\\n",
       "0                                               0.50               \n",
       "1                                               0.75               \n",
       "2                                               1.00               \n",
       "3                                               0.75               \n",
       "4                                               0.75               \n",
       "\n",
       "   Rate the following levels regarding your workplace - Anxiety Level regarding work  \\\n",
       "0                                               0.00                                   \n",
       "1                                               0.75                                   \n",
       "2                                               0.75                                   \n",
       "3                                               0.50                                   \n",
       "4                                               0.25                                   \n",
       "\n",
       "   Rate the following levels regarding your workplace - Toxicity of work environment  \\\n",
       "0                                               0.00                                   \n",
       "1                                               0.50                                   \n",
       "2                                               0.50                                   \n",
       "3                                               0.25                                   \n",
       "4                                               0.25                                   \n",
       "\n",
       "   How many colleagues do you know vape in your workplace?  \\\n",
       "0                                               0.05         \n",
       "1                                               0.00         \n",
       "2                                               0.00         \n",
       "3                                               0.15         \n",
       "4                                               0.10         \n",
       "\n",
       "   When did you join the workplace?_After Covid (After April 2022)  \\\n",
       "0                                                0.0                 \n",
       "1                                                0.0                 \n",
       "2                                                0.0                 \n",
       "3                                                0.0                 \n",
       "4                                                1.0                 \n",
       "\n",
       "   When did you join the workplace?_During Covid  \\\n",
       "0                                            0.0   \n",
       "1                                            0.0   \n",
       "2                                            1.0   \n",
       "3                                            0.0   \n",
       "4                                            0.0   \n",
       "\n",
       "   When did you join the workplace?_Pre-Covid (Before March 2020)  cluster  \\\n",
       "0                                                1.0                     2   \n",
       "1                                                1.0                     2   \n",
       "2                                                0.0                     0   \n",
       "3                                                1.0                     2   \n",
       "4                                                0.0                     1   \n",
       "\n",
       "  Vaped Quit before                      Frequency  \n",
       "0   Yes         Yes                    A pod a day  \n",
       "1    No         NIL                            NIL  \n",
       "2    No         NIL                            NIL  \n",
       "3    No         NIL                            NIL  \n",
       "4   Yes         Yes  Only during social situations  "
      ]
     },
     "execution_count": 101,
     "metadata": {},
     "output_type": "execute_result"
    }
   ],
   "source": [
    "quit = df['Have you attempted to quit before?'] \n",
    "frequency = df['What is the frequency of your vape usage?']\n",
    "workdf_gmmdata[\"Quit before\"] =quit\n",
    "workdf_gmmdata[\"Frequency\"] =frequency\n",
    "workdf_gmmdata.head()\n"
   ]
  },
  {
   "cell_type": "code",
   "execution_count": 102,
   "metadata": {},
   "outputs": [
    {
     "data": {
      "text/plain": [
       "<matplotlib.axes._subplots.AxesSubplot at 0x1c6928db388>"
      ]
     },
     "execution_count": 102,
     "metadata": {},
     "output_type": "execute_result"
    },
    {
     "data": {
      "image/png": "[encoded data removed]",
      "text/plain": [
       "<Figure size 2160x432 with 2 Axes>"
      ]
     },
     "metadata": {
      "needs_background": "light"
     },
     "output_type": "display_data"
    }
   ],
   "source": [
    "fig, ax = plt.subplots(1, 2 , figsize = (30,6))\n",
    "\n",
    "sns.countplot(x = workdf_gmmdata['cluster'], hue = workdf_gmmdata['Quit before'], data = workdf_gmmdata, ax=ax[1])\n",
    "\n",
    "sns.countplot(x = workdf_gmmdata['cluster'], hue =workdf_gmmdata['Vaped'], data = workdf_gmmdata, ax=ax[0])"
   ]
  },
  {
   "cell_type": "code",
   "execution_count": 103,
   "metadata": {},
   "outputs": [
    {
     "data": {
      "text/plain": [
       "cluster  Vaped  Frequency                    \n",
       "0        No     NIL                              17\n",
       "         Yes    A pod a day                       1\n",
       "                Only during social situations     2\n",
       "                Tried once                        1\n",
       "1        No     NIL                              23\n",
       "         Yes    A pod a week                      3\n",
       "                More than a pod a week            1\n",
       "                Only during social situations     4\n",
       "                Tried once                        1\n",
       "2        No     NIL                              11\n",
       "         Yes    A pod a day                       1\n",
       "                A pod a week                      1\n",
       "                More than a pod a week            2\n",
       "                Only during social situations     5\n",
       "                Tried once                        2\n",
       "Name: Quit before, dtype: int64"
      ]
     },
     "execution_count": 103,
     "metadata": {},
     "output_type": "execute_result"
    }
   ],
   "source": [
    "workdf_gmmdata.groupby([\"cluster\",\"Vaped\",\"Frequency\"])[\"Quit before\"].count()"
   ]
  },
  {
   "cell_type": "code",
   "execution_count": 104,
   "metadata": {},
   "outputs": [
    {
     "data": {
      "text/html": [
       "<div>\n",
       "<style scoped>\n",
       "    .dataframe tbody tr th:only-of-type {\n",
       "        vertical-align: middle;\n",
       "    }\n",
       "\n",
       "    .dataframe tbody tr th {\n",
       "        vertical-align: top;\n",
       "    }\n",
       "\n",
       "    .dataframe thead th {\n",
       "        text-align: right;\n",
       "    }\n",
       "</style>\n",
       "<table border=\"1\" class=\"dataframe\">\n",
       "  <thead>\n",
       "    <tr style=\"text-align: right;\">\n",
       "      <th></th>\n",
       "      <th>Cluster 0</th>\n",
       "      <th>Cluster 1</th>\n",
       "      <th>Cluster 2</th>\n",
       "    </tr>\n",
       "  </thead>\n",
       "  <tbody>\n",
       "    <tr>\n",
       "      <th>No</th>\n",
       "      <td>17</td>\n",
       "      <td>23</td>\n",
       "      <td>11</td>\n",
       "    </tr>\n",
       "    <tr>\n",
       "      <th>Yes</th>\n",
       "      <td>4</td>\n",
       "      <td>9</td>\n",
       "      <td>11</td>\n",
       "    </tr>\n",
       "  </tbody>\n",
       "</table>\n",
       "</div>"
      ],
      "text/plain": [
       "     Cluster 0  Cluster 1  Cluster 2\n",
       "No          17         23         11\n",
       "Yes          4          9         11"
      ]
     },
     "execution_count": 104,
     "metadata": {},
     "output_type": "execute_result"
    }
   ],
   "source": [
    "plotdata = pd.DataFrame({\n",
    "    \"Cluster 0\":[17,4],\n",
    "    \"Cluster 1\":[23,9],\n",
    "    \"Cluster 2\":[11,11]\n",
    "    }, index = [\"No\",\"Yes\"]\n",
    ")\n",
    "plotdata.head()"
   ]
  },
  {
   "cell_type": "code",
   "execution_count": 105,
   "metadata": {},
   "outputs": [
    {
     "data": {
      "text/html": [
       "<div>\n",
       "<style scoped>\n",
       "    .dataframe tbody tr th:only-of-type {\n",
       "        vertical-align: middle;\n",
       "    }\n",
       "\n",
       "    .dataframe tbody tr th {\n",
       "        vertical-align: top;\n",
       "    }\n",
       "\n",
       "    .dataframe thead th {\n",
       "        text-align: right;\n",
       "    }\n",
       "</style>\n",
       "<table border=\"1\" class=\"dataframe\">\n",
       "  <thead>\n",
       "    <tr style=\"text-align: right;\">\n",
       "      <th></th>\n",
       "      <th>No</th>\n",
       "      <th>Yes</th>\n",
       "    </tr>\n",
       "  </thead>\n",
       "  <tbody>\n",
       "    <tr>\n",
       "      <th>Cluster 0</th>\n",
       "      <td>17</td>\n",
       "      <td>4</td>\n",
       "    </tr>\n",
       "    <tr>\n",
       "      <th>Cluster 1</th>\n",
       "      <td>23</td>\n",
       "      <td>9</td>\n",
       "    </tr>\n",
       "    <tr>\n",
       "      <th>Cluster 2</th>\n",
       "      <td>11</td>\n",
       "      <td>11</td>\n",
       "    </tr>\n",
       "  </tbody>\n",
       "</table>\n",
       "</div>"
      ],
      "text/plain": [
       "           No  Yes\n",
       "Cluster 0  17    4\n",
       "Cluster 1  23    9\n",
       "Cluster 2  11   11"
      ]
     },
     "execution_count": 105,
     "metadata": {},
     "output_type": "execute_result"
    }
   ],
   "source": [
    "plotdata.transpose()"
   ]
  },
  {
   "cell_type": "code",
   "execution_count": 106,
   "metadata": {},
   "outputs": [
    {
     "data": {
      "text/plain": [
       "Text(0, 0.5, 'Percentage of respondent that vaped')"
      ]
     },
     "execution_count": 106,
     "metadata": {},
     "output_type": "execute_result"
    },
    {
     "data": {
      "image/png": "[encoded data removed]",
      "text/plain": [
       "<Figure size 432x288 with 1 Axes>"
      ]
     },
     "metadata": {},
     "output_type": "display_data"
    }
   ],
   "source": [
    "import matplotlib\n",
    "matplotlib.style.use('fivethirtyeight') \n",
    "plotdata.transpose().apply(lambda x: x*100/sum(x), axis=1).plot(kind=\"bar\", stacked=True)\n",
    "plt.title(\"Work Clustering\")\n",
    "plt.xlabel(\"Cluster\")\n",
    "plt.ylabel(\"Percentage of respondent that vaped\")\n",
    "#https://www.shanelynn.ie/bar-plots-in-python-using-pandas-dataframes/\n",
    "#https://www.geeksforgeeks.org/how-to-show-values-on-seaborn-barplot/"
   ]
  },
  {
   "cell_type": "code",
   "execution_count": 107,
   "metadata": {},
   "outputs": [
    {
     "data": {
      "text/html": [
       "<div>\n",
       "<style scoped>\n",
       "    .dataframe tbody tr th:only-of-type {\n",
       "        vertical-align: middle;\n",
       "    }\n",
       "\n",
       "    .dataframe tbody tr th {\n",
       "        vertical-align: top;\n",
       "    }\n",
       "\n",
       "    .dataframe thead th {\n",
       "        text-align: right;\n",
       "    }\n",
       "</style>\n",
       "<table border=\"1\" class=\"dataframe\">\n",
       "  <thead>\n",
       "    <tr style=\"text-align: right;\">\n",
       "      <th></th>\n",
       "      <th>Tried once</th>\n",
       "      <th>A pod a week</th>\n",
       "      <th>More than a pod a week</th>\n",
       "      <th>A pod a day</th>\n",
       "      <th>Only during social situations</th>\n",
       "    </tr>\n",
       "  </thead>\n",
       "  <tbody>\n",
       "    <tr>\n",
       "      <th>Cluster 0</th>\n",
       "      <td>1</td>\n",
       "      <td>0</td>\n",
       "      <td>0</td>\n",
       "      <td>1</td>\n",
       "      <td>2</td>\n",
       "    </tr>\n",
       "    <tr>\n",
       "      <th>Cluster 1</th>\n",
       "      <td>1</td>\n",
       "      <td>3</td>\n",
       "      <td>1</td>\n",
       "      <td>0</td>\n",
       "      <td>4</td>\n",
       "    </tr>\n",
       "    <tr>\n",
       "      <th>Cluster 2</th>\n",
       "      <td>2</td>\n",
       "      <td>1</td>\n",
       "      <td>2</td>\n",
       "      <td>1</td>\n",
       "      <td>5</td>\n",
       "    </tr>\n",
       "  </tbody>\n",
       "</table>\n",
       "</div>"
      ],
      "text/plain": [
       "           Tried once  A pod a week  More than a pod a week  A pod a day  \\\n",
       "Cluster 0           1             0                       0            1   \n",
       "Cluster 1           1             3                       1            0   \n",
       "Cluster 2           2             1                       2            1   \n",
       "\n",
       "           Only during social situations  \n",
       "Cluster 0                              2  \n",
       "Cluster 1                              4  \n",
       "Cluster 2                              5  "
      ]
     },
     "execution_count": 107,
     "metadata": {},
     "output_type": "execute_result"
    }
   ],
   "source": [
    "plotdata2 = pd.DataFrame({\n",
    "    \"Cluster 0\":[1,0,0,1,2],\n",
    "    \"Cluster 1\":[1,3,1,0,4],\n",
    "    \"Cluster 2\":[2,1,2,1,5],\n",
    "    }, index = [\"Tried once\",\"A pod a week\",\"More than a pod a week\",\"A pod a day\",\"Only during social situations\"]\n",
    ")\n",
    "plotdata2.head()\n",
    "plotdata2.transpose()"
   ]
  },
  {
   "cell_type": "code",
   "execution_count": 108,
   "metadata": {},
   "outputs": [
    {
     "data": {
      "text/plain": [
       "Text(0, 0.5, 'Percentage of respondent that vaped')"
      ]
     },
     "execution_count": 108,
     "metadata": {},
     "output_type": "execute_result"
    },
    {
     "data": {
      "image/png": "[encoded data removed]",
      "text/plain": [
       "<Figure size 432x288 with 1 Axes>"
      ]
     },
     "metadata": {},
     "output_type": "display_data"
    }
   ],
   "source": [
    "import matplotlib\n",
    "matplotlib.style.use('fivethirtyeight') \n",
    "plotdata2.transpose().apply(lambda x: x*100/sum(x), axis=1).plot(kind=\"bar\", stacked=True)\n",
    "plt.title(\"Work Clustering\")\n",
    "plt.xlabel(\"Cluster\")\n",
    "plt.ylabel(\"Percentage of respondent that vaped\")"
   ]
  },
  {
   "cell_type": "markdown",
   "metadata": {},
   "source": [
    "<h1>Logistic Regression</h1>"
   ]
  },
  {
   "cell_type": "code",
   "execution_count": 295,
   "metadata": {},
   "outputs": [],
   "source": [
    "# Import DecisionTreeClassifier\n",
    "from sklearn.tree import DecisionTreeClassifier\n",
    "\n",
    "# Import train_test_split functions\n",
    "from sklearn.model_selection import train_test_split\n",
    "\n",
    "# Import accuracy_score\n",
    "from sklearn.metrics import accuracy_score"
   ]
  },
  {
   "cell_type": "code",
   "execution_count": 296,
   "metadata": {},
   "outputs": [],
   "source": [
    "x = workDecisiontree\n",
    "y = df['Have you vaped before?'].map({'Yes':1,'No':0})"
   ]
  },
  {
   "cell_type": "code",
   "execution_count": 297,
   "metadata": {},
   "outputs": [],
   "source": [
    "X_train, X_test, y_train, y_test = train_test_split(x, y, test_size = 0.2, \n",
    "                                                          stratify = y,\n",
    "                                                          random_state = 99)"
   ]
  },
  {
   "cell_type": "code",
   "execution_count": 298,
   "metadata": {},
   "outputs": [
    {
     "data": {
      "text/plain": [
       "LogisticRegression(C=1.0, class_weight=None, dual=False, fit_intercept=True,\n",
       "                   intercept_scaling=1, l1_ratio=None, max_iter=100,\n",
       "                   multi_class='auto', n_jobs=None, penalty='l1',\n",
       "                   random_state=99, solver='liblinear', tol=0.0001, verbose=0,\n",
       "                   warm_start=False)"
      ]
     },
     "execution_count": 298,
     "metadata": {},
     "output_type": "execute_result"
    }
   ],
   "source": [
    "from sklearn.linear_model import LogisticRegression\n",
    "lmodel = LogisticRegression(penalty='l1',solver = 'liblinear', random_state = 99)\n",
    "\n",
    "lmodel.fit(X_train,y_train)"
   ]
  },
  {
   "cell_type": "code",
   "execution_count": 299,
   "metadata": {},
   "outputs": [
    {
     "data": {
      "text/plain": [
       "array([[ 0.        ,  0.        , -0.69353503,  0.        ,  0.04116149,\n",
       "        -0.10887778, -0.38839655,  0.48803981,  0.22202614]])"
      ]
     },
     "execution_count": 299,
     "metadata": {},
     "output_type": "execute_result"
    }
   ],
   "source": [
    "lmodel.coef_"
   ]
  },
  {
   "cell_type": "code",
   "execution_count": 300,
   "metadata": {},
   "outputs": [
    {
     "data": {
      "text/html": [
       "<div>\n",
       "<style scoped>\n",
       "    .dataframe tbody tr th:only-of-type {\n",
       "        vertical-align: middle;\n",
       "    }\n",
       "\n",
       "    .dataframe tbody tr th {\n",
       "        vertical-align: top;\n",
       "    }\n",
       "\n",
       "    .dataframe thead th {\n",
       "        text-align: right;\n",
       "    }\n",
       "</style>\n",
       "<table border=\"1\" class=\"dataframe\">\n",
       "  <thead>\n",
       "    <tr style=\"text-align: right;\">\n",
       "      <th></th>\n",
       "      <th>importance</th>\n",
       "    </tr>\n",
       "  </thead>\n",
       "  <tbody>\n",
       "    <tr>\n",
       "      <th>When did you join the workplace?_Pre-Covid (Before March 2020)</th>\n",
       "      <td>0.488040</td>\n",
       "    </tr>\n",
       "    <tr>\n",
       "      <th>cluster</th>\n",
       "      <td>0.222026</td>\n",
       "    </tr>\n",
       "    <tr>\n",
       "      <th>Rate the following levels regarding your workplace - Toxicity of work environment</th>\n",
       "      <td>0.041161</td>\n",
       "    </tr>\n",
       "    <tr>\n",
       "      <th>Rate the following levels regarding your workplace - Job Satisfaction</th>\n",
       "      <td>0.000000</td>\n",
       "    </tr>\n",
       "    <tr>\n",
       "      <th>Rate the following levels regarding your workplace - Happiness to come into work</th>\n",
       "      <td>0.000000</td>\n",
       "    </tr>\n",
       "    <tr>\n",
       "      <th>Rate the following levels regarding your workplace - Anxiety Level regarding work</th>\n",
       "      <td>0.000000</td>\n",
       "    </tr>\n",
       "    <tr>\n",
       "      <th>When did you join the workplace?_After Covid (After April 2022)</th>\n",
       "      <td>-0.108878</td>\n",
       "    </tr>\n",
       "    <tr>\n",
       "      <th>When did you join the workplace?_During Covid</th>\n",
       "      <td>-0.388397</td>\n",
       "    </tr>\n",
       "    <tr>\n",
       "      <th>Rate the following levels regarding your workplace - Workload</th>\n",
       "      <td>-0.693535</td>\n",
       "    </tr>\n",
       "  </tbody>\n",
       "</table>\n",
       "</div>"
      ],
      "text/plain": [
       "                                                    importance\n",
       "When did you join the workplace?_Pre-Covid (Bef...    0.488040\n",
       "cluster                                               0.222026\n",
       "Rate the following levels regarding your workpl...    0.041161\n",
       "Rate the following levels regarding your workpl...    0.000000\n",
       "Rate the following levels regarding your workpl...    0.000000\n",
       "Rate the following levels regarding your workpl...    0.000000\n",
       "When did you join the workplace?_After Covid (A...   -0.108878\n",
       "When did you join the workplace?_During Covid        -0.388397\n",
       "Rate the following levels regarding your workpl...   -0.693535"
      ]
     },
     "execution_count": 300,
     "metadata": {},
     "output_type": "execute_result"
    }
   ],
   "source": [
    "# Store the coefficients in a Series along with the column names\n",
    "lm_coef = pd.DataFrame(lmodel.coef_[0], index = x.columns, columns = [\"importance\"])\n",
    "lm_coef = lm_coef.sort_values(by = [\"importance\"], ascending=False)\n",
    "lm_coef\n",
    "# Sort the absolute values of the coefficients \n",
    "# sorted_coef = lm_coef.sort_values(key=pd.Series.abs)"
   ]
  },
  {
   "cell_type": "code",
   "execution_count": 303,
   "metadata": {},
   "outputs": [
    {
     "data": {
      "image/png": "[encoded data removed]",
      "text/plain": [
       "<Figure size 1440x1440 with 1 Axes>"
      ]
     },
     "metadata": {
      "needs_background": "light"
     },
     "output_type": "display_data"
    }
   ],
   "source": [
    "# Make a horizontal bar plot\n",
    "\n",
    "# find out the odds of being successful and being a factor\n",
    "lm_coef[\"importance\"].plot(kind='barh', color='blue', figsize = (20,20))\n",
    "plt.tight_layout()\n",
    "plt.show()"
   ]
  },
  {
   "cell_type": "code",
   "execution_count": 304,
   "metadata": {
    "scrolled": true
   },
   "outputs": [
    {
     "data": {
      "text/html": [
       "<div>\n",
       "<style scoped>\n",
       "    .dataframe tbody tr th:only-of-type {\n",
       "        vertical-align: middle;\n",
       "    }\n",
       "\n",
       "    .dataframe tbody tr th {\n",
       "        vertical-align: top;\n",
       "    }\n",
       "\n",
       "    .dataframe thead th {\n",
       "        text-align: right;\n",
       "    }\n",
       "</style>\n",
       "<table border=\"1\" class=\"dataframe\">\n",
       "  <thead>\n",
       "    <tr style=\"text-align: right;\">\n",
       "      <th></th>\n",
       "      <th>importance</th>\n",
       "    </tr>\n",
       "  </thead>\n",
       "  <tbody>\n",
       "    <tr>\n",
       "      <th>When did you join the workplace?_Pre-Covid (Before March 2020)</th>\n",
       "      <td>0.488040</td>\n",
       "    </tr>\n",
       "    <tr>\n",
       "      <th>cluster</th>\n",
       "      <td>0.222026</td>\n",
       "    </tr>\n",
       "    <tr>\n",
       "      <th>Rate the following levels regarding your workplace - Toxicity of work environment</th>\n",
       "      <td>0.041161</td>\n",
       "    </tr>\n",
       "    <tr>\n",
       "      <th>When did you join the workplace?_After Covid (After April 2022)</th>\n",
       "      <td>-0.108878</td>\n",
       "    </tr>\n",
       "    <tr>\n",
       "      <th>When did you join the workplace?_During Covid</th>\n",
       "      <td>-0.388397</td>\n",
       "    </tr>\n",
       "    <tr>\n",
       "      <th>Rate the following levels regarding your workplace - Workload</th>\n",
       "      <td>-0.693535</td>\n",
       "    </tr>\n",
       "  </tbody>\n",
       "</table>\n",
       "</div>"
      ],
      "text/plain": [
       "                                                    importance\n",
       "When did you join the workplace?_Pre-Covid (Bef...    0.488040\n",
       "cluster                                               0.222026\n",
       "Rate the following levels regarding your workpl...    0.041161\n",
       "When did you join the workplace?_After Covid (A...   -0.108878\n",
       "When did you join the workplace?_During Covid        -0.388397\n",
       "Rate the following levels regarding your workpl...   -0.693535"
      ]
     },
     "execution_count": 304,
     "metadata": {},
     "output_type": "execute_result"
    }
   ],
   "source": [
    "lm_coef = lm_coef[lm_coef[\"importance\"] != 0]\n",
    "lm_coef"
   ]
  },
  {
   "cell_type": "code",
   "execution_count": 305,
   "metadata": {},
   "outputs": [
    {
     "name": "stdout",
     "output_type": "stream",
     "text": [
      "Accuracy for LogisticRegression :\n",
      "0.53\n"
     ]
    }
   ],
   "source": [
    "y_pred1 = lmodel.predict(X_test)\n",
    "\n",
    "print(\"Accuracy for LogisticRegression :\")\n",
    "print(round(accuracy_score(y_test, y_pred1),2))"
   ]
  },
  {
   "cell_type": "code",
   "execution_count": null,
   "metadata": {},
   "outputs": [],
   "source": []
  }
 ],
 "metadata": {
  "kernelspec": {
   "display_name": "Python 3",
   "language": "python",
   "name": "python3"
  },
  "language_info": {
   "codemirror_mode": {
    "name": "ipython",
    "version": 3
   },
   "file_extension": ".py",
   "mimetype": "text/x-python",
   "name": "python",
   "nbconvert_exporter": "python",
   "pygments_lexer": "ipython3",
   "version": "3.7.6"
  }
 },
 "nbformat": 4,
 "nbformat_minor": 4
}
